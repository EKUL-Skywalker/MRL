{
 "cells": [
  {
   "cell_type": "code",
   "execution_count": 1,
   "id": "cc5c9e14",
   "metadata": {},
   "outputs": [],
   "source": [
    "import numpy as np\n",
    "import faiss\n",
    "import time\n",
    "import pandas as pd\n",
    "from os import path"
   ]
  },
  {
   "cell_type": "code",
   "execution_count": 12,
   "id": "33e3245a",
   "metadata": {},
   "outputs": [
    {
     "name": "stdout",
     "output_type": "stream",
     "text": [
      "number of GPUs: 2\n"
     ]
    }
   ],
   "source": [
    "ngpus = faiss.get_num_gpus()\n",
    "print(\"number of GPUs:\", ngpus)"
   ]
  },
  {
   "cell_type": "code",
   "execution_count": 17,
   "id": "3be50514",
   "metadata": {},
   "outputs": [],
   "source": [
    "config = \"ff/\"\n",
    "dataset = 'imagenetv2' #imagenet1k, imagenetv2\n",
    "index_type = 'exactl2' #exactl2, hnsw8, hnsw32\n",
    "hnsw_max_neighbors = 32\n",
    "k = 2048 # shortlist length"
   ]
  },
  {
   "cell_type": "code",
   "execution_count": 18,
   "id": "67862f80",
   "metadata": {},
   "outputs": [],
   "source": [
    "if dataset == 'imagenet1k':\n",
    "    # Imagenet1k\n",
    "    root = '/mnt/disks/retrieval/corrected_fwd_pass/' + config\n",
    "    db_csv = 'imagenet1k_train_nesting0_sh0_ff2048-X.npy'\n",
    "    query_csv = 'imagenet1k_val_nesting0_sh0_ff2048-X.npy'\n",
    "elif dataset == 'imagenet4m':\n",
    "    root = '/mnt/disks/imagenet4m/corrected_fwd_pass/' + config\n",
    "    db_csv = 'imagenet4m_train_nesting1_sh0_ff2048-X.npy'\n",
    "    query_csv = 'imagenet4m_val_nesting1_sh0_ff2048-X.npy'\n",
    "elif dataset == 'imagenetv2':\n",
    "    root = '/mnt/disks/retrieval/corrected_fwd_pass/' + config\n",
    "    db_csv = 'imagenet1k_train_nesting1_sh1_ff2048-X.npy'\n",
    "    query_csv = 'imagenetv2/imagenetv2_val_nesting1_sh1_ff2048-X.npy'\n",
    "elif dataset == 'slimmable':\n",
    "    root = '/mnt/disks/retrieval/slimmable_nn_fwd_pass/'\n",
    "    db_csv = 'slimmable_train/X_train_slimmable.npy'\n",
    "    query_csv = 'slimmable_val/X_val_V1_slimmable.npy'"
   ]
  },
  {
   "cell_type": "code",
   "execution_count": 19,
   "id": "5fd3e4f5",
   "metadata": {},
   "outputs": [],
   "source": [
    "nesting_list = [8, 16, 32, 64, 128, 256, 512, 1024, 2048]\n",
    "#nesting_list = [1536]\n",
    "#nesting_list = [12, 24, 48, 96, 192, 384, 768, 1536]\n",
    "\n",
    "if index_type == 'exactl2':\n",
    "    use_gpu = 1\n",
    "else:\n",
    "    use_gpu = 0"
   ]
  },
  {
   "cell_type": "code",
   "execution_count": 21,
   "id": "87ea3f22",
   "metadata": {},
   "outputs": [
    {
     "name": "stdout",
     "output_type": "stream",
     "text": [
      "Loading index file: /mnt/disks/retrieval/corrected_fwd_pass/ff/index_files/imagenet1k_8_exactl2.index\n",
      "queries:  (10000, 8)\n",
      "GPU 2048-NN search time= 0.562993\n",
      "\n",
      "Loading index file: /mnt/disks/retrieval/corrected_fwd_pass/ff/index_files/imagenet1k_16_exactl2.index\n",
      "queries:  (10000, 16)\n",
      "GPU 2048-NN search time= 0.583641\n",
      "\n",
      "Loading index file: /mnt/disks/retrieval/corrected_fwd_pass/ff/index_files/imagenet1k_32_exactl2.index\n",
      "queries:  (10000, 32)\n",
      "GPU 2048-NN search time= 0.618286\n",
      "\n",
      "Loading index file: /mnt/disks/retrieval/corrected_fwd_pass/ff/index_files/imagenet1k_64_exactl2.index\n",
      "queries:  (10000, 64)\n",
      "GPU 2048-NN search time= 0.494143\n",
      "\n",
      "Loading index file: /mnt/disks/retrieval/corrected_fwd_pass/ff/index_files/imagenet1k_128_exactl2.index\n",
      "queries:  (10000, 128)\n",
      "GPU 2048-NN search time= 0.538245\n",
      "\n",
      "Loading index file: /mnt/disks/retrieval/corrected_fwd_pass/ff/index_files/imagenet1k_256_exactl2.index\n",
      "queries:  (10000, 256)\n",
      "GPU 2048-NN search time= 0.590097\n",
      "\n",
      "Loading index file: /mnt/disks/retrieval/corrected_fwd_pass/ff/index_files/imagenet1k_512_exactl2.index\n",
      "queries:  (10000, 512)\n",
      "GPU 2048-NN search time= 0.759583\n",
      "\n",
      "Loading index file: /mnt/disks/retrieval/corrected_fwd_pass/ff/index_files/imagenet1k_1024_exactl2.index\n",
      "queries:  (10000, 1024)\n",
      "GPU 2048-NN search time= 1.104815\n",
      "\n",
      "Loading index file: /mnt/disks/retrieval/corrected_fwd_pass/ff/index_files/imagenet1k_2048_exactl2.index\n",
      "queries:  (10000, 2048)\n",
      "GPU 2048-NN search time= 1.783148\n",
      "\n"
     ]
    }
   ],
   "source": [
    "for nesting in nesting_list:\n",
    "    db_csv = 'imagenet1k_train_nesting0_sh0_ff'+str(nesting)+'-X.npy'\n",
    "    query_csv = 'imagenetv2/imagenetv2_val_nesting0_sh0_ff'+str(nesting)+'-X.npy'\n",
    "    #index_file = 'index_files/'+config+\"hnsw/\"+str(nesting)+'-imagenet1k_hnsw'+str(hnsw_max_neighbors)+'_normalized.index'\n",
    "    index_file = root+'index_files/imagenet1k_'+str(nesting)+'_exactl2.index'\n",
    "    #index_file = root+'index_files/'+dataset+'_'+str(nesting)+'_'+index_type+'.index'\n",
    "    \n",
    "    ## Load or build index\n",
    "    if path.exists(index_file):\n",
    "        print(\"Loading index file: \" + index_file)\n",
    "        cpu_index = faiss.read_index(index_file)\n",
    "\n",
    "    else:\n",
    "        print(\"Generating index file: \" + index_file)\n",
    "        start = time.time()\n",
    "        #df_xb = pd.read_csv(root + db_csv, header=None)\n",
    "        #xb = np.ascontiguousarray(df_xb.to_numpy(dtype=np.float32)[:,:nesting])\n",
    "        xb = np.ascontiguousarray(np.load(root+db_csv)[:,:nesting], dtype=np.float32)\n",
    "        print(\"CSV file load time= \", time.time() - start)\n",
    "\n",
    "        faiss.normalize_L2(xb)\n",
    "        d = xb.shape[1]                           # dimension\n",
    "        nb = xb.shape[0]                       # database size\n",
    "\n",
    "        print(\"database: \", xb.shape)\n",
    "\n",
    "        start = time.time()\n",
    "        if index_type == 'exactl2':\n",
    "            print(\"Building Exact L2 Index\")\n",
    "            cpu_index = faiss.IndexFlatL2(d)   # build the index\n",
    "        else:\n",
    "            print(\"Building HNSW%d Index\" % hnsw_max_neighbors)\n",
    "            cpu_index = faiss.IndexHNSWFlat(d, hnsw_max_neighbors)\n",
    "        cpu_index.add(xb)                  # add vectors to the index\n",
    "        faiss.write_index(cpu_index, index_file)\n",
    "        print(\"GPU Index build time= \", time.time() - start)\n",
    "    \n",
    "    if use_gpu:\n",
    "        index = faiss.index_cpu_to_all_gpus(  # build the index\n",
    "            cpu_index\n",
    "        )\n",
    "    else:\n",
    "        index = cpu_index\n",
    "    \n",
    "    # Load the queries\n",
    "    #df_xq = pd.read_csv(root+ query_csv, header=None)\n",
    "    #xq = np.ascontiguousarray(df_xq.to_numpy(dtype=np.float32)[:,:nesting])\n",
    "    xq = np.ascontiguousarray(np.load(root+query_csv)[:,:nesting], dtype=np.float32)\n",
    "    faiss.normalize_L2(xq)\n",
    "    nq = xq.shape[0]                       # nb of queries\n",
    "    print(\"queries: \", xq.shape)\n",
    "\n",
    "    ## NN Search on queries:\n",
    "    #print(\"Searching for %d NN\" % (k))\n",
    "\n",
    "    start = time.time()\n",
    "    D, I = index.search(xq, k)     # actual search\n",
    "    end = time.time() - start\n",
    "    print(\"GPU %d-NN search time= %f\\n\" % (k, end))\n",
    "    #print(I.shape)                   # neighbors of the 5 first queries\n",
    "    \n",
    "    #nn_dir = root+\"neighbors/\"+str(nesting)+\"dim-\"+str(k)+\"-NN-hnsw_\"+str(hnsw_max_neighbors)+\".csv\"\n",
    "    nn_dir = root+\"neighbors/\"+index_type+\"_\"+str(nesting)+\"dim-\"+str(k)+\"-NN_\"+dataset+\".csv\"\n",
    "    \n",
    "    pd.DataFrame(I).to_csv(nn_dir, header=None, index=None)\n"
   ]
  },
  {
   "cell_type": "code",
   "execution_count": null,
   "id": "3404a4a2",
   "metadata": {},
   "outputs": [],
   "source": []
  }
 ],
 "metadata": {
  "jupytext": {
   "cell_metadata_filter": "-all",
   "notebook_metadata_filter": "-all"
  },
  "kernelspec": {
   "display_name": "Python 3 (ipykernel)",
   "language": "python",
   "name": "python3"
  },
  "language_info": {
   "codemirror_mode": {
    "name": "ipython",
    "version": 3
   },
   "file_extension": ".py",
   "mimetype": "text/x-python",
   "name": "python",
   "nbconvert_exporter": "python",
   "pygments_lexer": "ipython3",
   "version": "3.9.12"
  }
 },
 "nbformat": 4,
 "nbformat_minor": 5
}