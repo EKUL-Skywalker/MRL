{
 "cells": [
  {
   "cell_type": "code",
   "execution_count": 1,
   "id": "cc5c9e14",
   "metadata": {},
   "outputs": [],
   "source": [
    "import numpy as np\n",
    "import faiss\n",
    "import time\n",
    "import pandas as pd\n",
    "from os import path"
   ]
  },
  {
   "cell_type": "code",
   "execution_count": 2,
   "id": "33e3245a",
   "metadata": {},
   "outputs": [
    {
     "name": "stdout",
     "output_type": "stream",
     "text": [
      "number of GPUs: 2\n"
     ]
    }
   ],
   "source": [
    "ngpus = faiss.get_num_gpus()\n",
    "print(\"number of GPUs:\", ngpus)"
   ]
  },
  {
   "cell_type": "code",
   "execution_count": 3,
   "id": "3be50514",
   "metadata": {},
   "outputs": [],
   "source": [
    "config = \"mrl/\" # mrl, mrl_e, ff, slimmable\n",
    "dataset = 'imagenetv2' # imagenet1k, imagenetv2, imagenet4m\n",
    "index_type = 'exactl2' # exactl2, hnsw8, hnsw32\n",
    "hnsw_max_neighbors = 32 # 8, 32\n",
    "k = 2048 # shortlist length"
   ]
  },
  {
   "cell_type": "code",
   "execution_count": 4,
   "id": "67862f80",
   "metadata": {},
   "outputs": [],
   "source": [
    "root = '/home/aniketr/Documents/imagenetv2/' + config \n",
    "db_csv = dataset + '_train_' + config + '2048-X.npy'\n",
    "query_csv = dataset + '_val_' + config + '2048-X.npy'\n",
    "\n",
    "if dataset == 'imagenetv2':\n",
    "    db_csv = 'imagenet1k_train_' + config + '2048-X.npy'"
   ]
  },
  {
   "cell_type": "code",
   "execution_count": 5,
   "id": "5fd3e4f5",
   "metadata": {},
   "outputs": [],
   "source": [
    "nesting_list = [8, 16, 32, 64, 128, 256, 512, 1024, 2048]\n",
    "\n",
    "if index_type == 'exactl2':\n",
    "    use_gpu = 1 # GPU inference for exact search\n",
    "else:\n",
    "    use_gpu = 0 # GPU inference for HNSW is currently not supported by FAISS"
   ]
  },
  {
   "cell_type": "code",
   "execution_count": 6,
   "id": "87ea3f22",
   "metadata": {},
   "outputs": [
    {
     "name": "stdout",
     "output_type": "stream",
     "text": [
      "Loading index file: /home/aniketr/Documents/imagenetv2/index_files/imagenetv2_8_exactl2.index\n",
      "queries:  (10000, 8)\n",
      "GPU 2048-NN search time= 0.221017\n",
      "\n",
      "Loading index file: /home/aniketr/Documents/imagenetv2/index_files/imagenetv2_16_exactl2.index\n",
      "queries:  (10000, 16)\n",
      "GPU 2048-NN search time= 1.451043\n",
      "\n",
      "Loading index file: /home/aniketr/Documents/imagenetv2/index_files/imagenetv2_32_exactl2.index\n",
      "queries:  (10000, 32)\n",
      "GPU 2048-NN search time= 0.391398\n",
      "\n",
      "Loading index file: /home/aniketr/Documents/imagenetv2/index_files/imagenetv2_64_exactl2.index\n",
      "queries:  (10000, 64)\n",
      "GPU 2048-NN search time= 0.844761\n",
      "\n",
      "Loading index file: /home/aniketr/Documents/imagenetv2/index_files/imagenetv2_128_exactl2.index\n",
      "queries:  (10000, 128)\n",
      "GPU 2048-NN search time= 0.712209\n",
      "\n",
      "Loading index file: /home/aniketr/Documents/imagenetv2/index_files/imagenetv2_256_exactl2.index\n",
      "queries:  (10000, 256)\n",
      "GPU 2048-NN search time= 0.994553\n",
      "\n",
      "Loading index file: /home/aniketr/Documents/imagenetv2/index_files/imagenetv2_512_exactl2.index\n",
      "queries:  (10000, 512)\n",
      "GPU 2048-NN search time= 1.743076\n",
      "\n",
      "Loading index file: /home/aniketr/Documents/imagenetv2/index_files/imagenetv2_1024_exactl2.index\n",
      "queries:  (10000, 1024)\n",
      "GPU 2048-NN search time= 2.164702\n",
      "\n",
      "Loading index file: /home/aniketr/Documents/imagenetv2/index_files/imagenetv2_2048_exactl2.index\n",
      "queries:  (10000, 2048)\n",
      "GPU 2048-NN search time= 0.912791\n",
      "\n"
     ]
    }
   ],
   "source": [
    "for nesting in nesting_list:\n",
    "    db_csv = dataset+'_val_nesting0_sh0_ff'+str(nesting)+'-X.npy'\n",
    "    query_csv = dataset+'_val_nesting0_sh0_ff'+str(nesting)+'-X.npy'\n",
    "    index_file = root+'index_files/'+dataset+'_'+str(nesting)+'_'+index_type+'.index'\n",
    "    \n",
    "    # Load or build index\n",
    "    if path.exists(index_file):\n",
    "        print(\"Loading index file: \" + index_file)\n",
    "        cpu_index = faiss.read_index(index_file)\n",
    "\n",
    "    else:\n",
    "        print(\"Generating index file: \" + index_file)\n",
    "        start = time.time()\n",
    "        xb = np.ascontiguousarray(np.load(root+db_csv)[:,:nesting], dtype=np.float32)\n",
    "        print(\"CSV file load time= \", time.time() - start)\n",
    "\n",
    "        faiss.normalize_L2(xb)\n",
    "        d = xb.shape[1]                           # dimension\n",
    "        nb = xb.shape[0]                       # database size\n",
    "\n",
    "        print(\"database: \", xb.shape)\n",
    "\n",
    "        start = time.time()\n",
    "        if index_type == 'exactl2':\n",
    "            print(\"Building Exact L2 Index\")\n",
    "            cpu_index = faiss.IndexFlatL2(d)   # build the index\n",
    "        else:\n",
    "            print(\"Building HNSW%d Index\" % hnsw_max_neighbors)\n",
    "            cpu_index = faiss.IndexHNSWFlat(d, hnsw_max_neighbors)\n",
    "        cpu_index.add(xb)                  # add vectors to the index\n",
    "        faiss.write_index(cpu_index, index_file)\n",
    "        print(\"GPU Index build time= \", time.time() - start)\n",
    "    \n",
    "    if use_gpu:\n",
    "        index = faiss.index_cpu_to_all_gpus(\n",
    "            cpu_index\n",
    "        )\n",
    "    else:\n",
    "        index = cpu_index\n",
    "    \n",
    "    # Load the queries\n",
    "    xq = np.ascontiguousarray(np.load(root+query_csv)[:,:nesting], dtype=np.float32)\n",
    "    faiss.normalize_L2(xq)\n",
    "    nq = xq.shape[0]\n",
    "    print(\"queries: \", xq.shape)\n",
    "\n",
    "    start = time.time()\n",
    "    D, I = index.search(xq, k)\n",
    "    end = time.time() - start\n",
    "    print(\"GPU %d-NN search time= %f\\n\" % (k, end))\n",
    "    \n",
    "    nn_dir = root+\"neighbors/\"+index_type+\"_\"+str(nesting)+\"dim-\"+str(k)+\"-NN_\"+dataset+\".csv\"\n",
    "    pd.DataFrame(I).to_csv(nn_dir, header=None, index=None)\n"
   ]
  },
  {
   "cell_type": "code",
   "execution_count": null,
   "id": "c7e03ddc",
   "metadata": {},
   "outputs": [],
   "source": []
  }
 ],
 "metadata": {
  "jupytext": {
   "cell_metadata_filter": "-all",
   "notebook_metadata_filter": "-all"
  },
  "kernelspec": {
   "display_name": "Python 3 (ipykernel)",
   "language": "python",
   "name": "python3"
  },
  "language_info": {
   "codemirror_mode": {
    "name": "ipython",
    "version": 3
   },
   "file_extension": ".py",
   "mimetype": "text/x-python",
   "name": "python",
   "nbconvert_exporter": "python",
   "pygments_lexer": "ipython3",
   "version": "3.10.5"
  }
 },
 "nbformat": 4,
 "nbformat_minor": 5
}
