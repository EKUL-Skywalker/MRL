{
 "cells": [
  {
   "cell_type": "code",
   "execution_count": 1,
   "id": "154e9d1c",
   "metadata": {},
   "outputs": [],
   "source": [
    "import torch\n",
    "import numpy as np\n",
    "import matplotlib.pyplot as plt\n",
    "%matplotlib inline\n",
    "%config InlineBackend.figure_format='retina'\n",
    "from sklearn.metrics import confusion_matrix\n",
    "from tqdm.notebook import tqdm"
   ]
  },
  {
   "cell_type": "code",
   "execution_count": null,
   "id": "26538dcb",
   "metadata": {},
   "outputs": [],
   "source": []
  },
  {
   "cell_type": "markdown",
   "id": "247e6746",
   "metadata": {},
   "source": [
    "# MRL models"
   ]
  },
  {
   "cell_type": "markdown",
   "id": "a849e341",
   "metadata": {},
   "source": [
    "You will need to have model predictions and softmax values beforehand stored for this. "
   ]
  },
  {
   "cell_type": "code",
   "execution_count": 7,
   "id": "5c55295a",
   "metadata": {},
   "outputs": [],
   "source": [
    "N_seeds=30\n",
    "import collections"
   ]
  },
  {
   "cell_type": "code",
   "execution_count": 8,
   "id": "0526238c",
   "metadata": {
    "scrolled": true
   },
   "outputs": [
    {
     "name": "stdout",
     "output_type": "stream",
     "text": [
      "torch.Size([9, 10000])\n",
      "torch.Size([9, 10000])\n",
      "8 16\n",
      "torch.Size([10000])\n",
      "Ensemble Accuracy tensor(0.7367)\n",
      "Max Cascade Performance 73.68999719619751 0.7\n",
      "16 32\n",
      "torch.Size([10000])\n",
      "Ensemble Accuracy tensor(0.7504)\n",
      "Max Cascade Performance 75.06999969482422 0.8181818181818181\n",
      "32 64\n",
      "torch.Size([10000])\n",
      "Ensemble Accuracy tensor(0.7578)\n",
      "Max Cascade Performance 76.02999806404114 0.7727272727272727\n",
      "64 128\n",
      "torch.Size([10000])\n",
      "Ensemble Accuracy tensor(0.7616)\n",
      "Max Cascade Performance 76.21999979019165 0.4818181818181818\n",
      "128 256\n",
      "torch.Size([10000])\n",
      "Ensemble Accuracy tensor(0.7641)\n",
      "Max Cascade Performance 76.46999955177307 0.509090909090909\n",
      "256 512\n",
      "torch.Size([10000])\n",
      "Ensemble Accuracy tensor(0.7652)\n",
      "Max Cascade Performance 76.66000127792358 0.6454545454545454\n",
      "512 1024\n",
      "torch.Size([10000])\n",
      "Ensemble Accuracy tensor(0.7678)\n",
      "Max Cascade Performance 76.80000066757202 0.5363636363636364\n",
      "1024 2048\n",
      "torch.Size([10000])\n",
      "Ensemble Accuracy tensor(0.7682)\n",
      "Max Cascade Performance 76.81999802589417 0.509090909090909\n",
      "torch.Size([9, 10000])\n",
      "torch.Size([9, 10000])\n",
      "8 16\n",
      "torch.Size([10000])\n",
      "Ensemble Accuracy tensor(0.7382)\n",
      "Max Cascade Performance 73.94999861717224 0.7909090909090909\n",
      "16 32\n",
      "torch.Size([10000])\n",
      "Ensemble Accuracy tensor(0.7554)\n",
      "Max Cascade Performance 75.6600022315979 0.609090909090909\n",
      "32 64\n",
      "torch.Size([10000])\n",
      "Ensemble Accuracy tensor(0.7624)\n",
      "Max Cascade Performance 76.5500009059906 0.8272727272727273\n",
      "64 128\n",
      "torch.Size([10000])\n",
      "Ensemble Accuracy tensor(0.7667)\n",
      "Max Cascade Performance 76.71999931335449 0.8272727272727273\n",
      "128 256\n",
      "torch.Size([10000])\n",
      "Ensemble Accuracy tensor(0.7689)\n",
      "Max Cascade Performance 76.98000073432922 0.5363636363636364\n",
      "256 512\n",
      "torch.Size([10000])\n",
      "Ensemble Accuracy tensor(0.7703)\n",
      "Max Cascade Performance 77.1399974822998 0.5272727272727272\n",
      "512 1024\n",
      "torch.Size([10000])\n",
      "Ensemble Accuracy tensor(0.7720)\n",
      "Max Cascade Performance 77.28999853134155 0.609090909090909\n",
      "1024 2048\n",
      "torch.Size([10000])\n",
      "Ensemble Accuracy tensor(0.7733)\n",
      "Max Cascade Performance 77.36999988555908 0.509090909090909\n",
      "torch.Size([9, 10000])\n",
      "torch.Size([9, 10000])\n",
      "8 16\n",
      "torch.Size([10000])\n",
      "Ensemble Accuracy tensor(0.7407)\n",
      "Max Cascade Performance 74.3399977684021 0.7181818181818181\n",
      "16 32\n",
      "torch.Size([10000])\n",
      "Ensemble Accuracy tensor(0.7564)\n",
      "Max Cascade Performance 75.80000162124634 0.609090909090909\n",
      "32 64\n",
      "torch.Size([10000])\n",
      "Ensemble Accuracy tensor(0.7642)\n",
      "Max Cascade Performance 76.63000226020813 0.8545454545454545\n",
      "64 128\n",
      "torch.Size([10000])\n",
      "Ensemble Accuracy tensor(0.7701)\n",
      "Max Cascade Performance 77.0900011062622 0.509090909090909\n",
      "128 256\n",
      "torch.Size([10000])\n",
      "Ensemble Accuracy tensor(0.7711)\n",
      "Max Cascade Performance 77.2599995136261 0.609090909090909\n",
      "256 512\n",
      "torch.Size([10000])\n",
      "Ensemble Accuracy tensor(0.7737)\n",
      "Max Cascade Performance 77.46000289916992 0.5363636363636364\n",
      "512 1024\n",
      "torch.Size([10000])\n",
      "Ensemble Accuracy tensor(0.7752)\n",
      "Max Cascade Performance 77.52000093460083 0.7454545454545454\n",
      "1024 2048\n",
      "torch.Size([10000])\n",
      "Ensemble Accuracy tensor(0.7751)\n",
      "Max Cascade Performance 77.6199996471405 0.44545454545454544\n",
      "torch.Size([9, 10000])\n",
      "torch.Size([9, 10000])\n",
      "8 16\n",
      "torch.Size([10000])\n",
      "Ensemble Accuracy tensor(0.7354)\n",
      "Max Cascade Performance 73.73999953269958 0.8363636363636363\n",
      "16 32\n",
      "torch.Size([10000])\n",
      "Ensemble Accuracy tensor(0.7522)\n",
      "Max Cascade Performance 75.49999952316284 0.5909090909090909\n",
      "32 64\n",
      "torch.Size([10000])\n",
      "Ensemble Accuracy tensor(0.7618)\n",
      "Max Cascade Performance 76.48000121116638 0.7909090909090909\n",
      "64 128\n",
      "torch.Size([10000])\n",
      "Ensemble Accuracy tensor(0.7662)\n",
      "Max Cascade Performance 76.59000158309937 0.8454545454545453\n",
      "128 256\n",
      "torch.Size([10000])\n",
      "Ensemble Accuracy tensor(0.7668)\n",
      "Max Cascade Performance 76.84000134468079 0.5181818181818182\n",
      "256 512\n",
      "torch.Size([10000])\n",
      "Ensemble Accuracy tensor(0.7682)\n",
      "Max Cascade Performance 76.96999907493591 0.5363636363636364\n",
      "512 1024\n",
      "torch.Size([10000])\n",
      "Ensemble Accuracy tensor(0.7699)\n",
      "Max Cascade Performance 76.98000073432922 0.5545454545454546\n",
      "1024 2048\n",
      "torch.Size([10000])\n",
      "Ensemble Accuracy tensor(0.7708)\n",
      "Max Cascade Performance 77.12000012397766 0.6\n",
      "torch.Size([9, 10000])\n",
      "torch.Size([9, 10000])\n",
      "8 16\n",
      "torch.Size([10000])\n",
      "Ensemble Accuracy tensor(0.7382)\n",
      "Max Cascade Performance 74.14000034332275 0.7909090909090909\n",
      "16 32\n",
      "torch.Size([10000])\n",
      "Ensemble Accuracy tensor(0.7541)\n",
      "Max Cascade Performance 75.48999786376953 0.609090909090909\n",
      "32 64\n",
      "torch.Size([10000])\n",
      "Ensemble Accuracy tensor(0.7603)\n",
      "Max Cascade Performance 76.08000040054321 0.8545454545454545\n",
      "64 128\n",
      "torch.Size([10000])\n",
      "Ensemble Accuracy tensor(0.7642)\n",
      "Max Cascade Performance 76.63999795913696 0.7454545454545454\n",
      "128 256\n",
      "torch.Size([10000])\n",
      "Ensemble Accuracy tensor(0.7677)\n",
      "Max Cascade Performance 76.81000232696533 0.5181818181818182\n",
      "256 512\n",
      "torch.Size([10000])\n",
      "Ensemble Accuracy tensor(0.7686)\n",
      "Max Cascade Performance 76.910001039505 0.49090909090909085\n",
      "512 1024\n",
      "torch.Size([10000])\n",
      "Ensemble Accuracy tensor(0.7699)\n",
      "Max Cascade Performance 76.95000171661377 0.3181818181818182\n",
      "1024 2048\n",
      "torch.Size([10000])\n",
      "Ensemble Accuracy tensor(0.7698)\n",
      "Max Cascade Performance 76.98000073432922 0.509090909090909\n",
      "torch.Size([9, 10000])\n",
      "torch.Size([9, 10000])\n",
      "8 16\n",
      "torch.Size([10000])\n",
      "Ensemble Accuracy tensor(0.7348)\n",
      "Max Cascade Performance 73.64000082015991 0.7181818181818181\n",
      "16 32\n",
      "torch.Size([10000])\n",
      "Ensemble Accuracy tensor(0.7512)\n",
      "Max Cascade Performance 75.04000067710876 0.5909090909090909\n",
      "32 64\n",
      "torch.Size([10000])\n",
      "Ensemble Accuracy tensor(0.7589)\n",
      "Max Cascade Performance 76.21999979019165 0.5818181818181818\n",
      "64 128\n",
      "torch.Size([10000])\n",
      "Ensemble Accuracy tensor(0.7632)\n",
      "Max Cascade Performance 76.3700008392334 0.6\n",
      "128 256\n",
      "torch.Size([10000])\n",
      "Ensemble Accuracy tensor(0.7638)\n",
      "Max Cascade Performance 76.45000219345093 0.509090909090909\n",
      "256 512\n",
      "torch.Size([10000])\n",
      "Ensemble Accuracy tensor(0.7648)\n",
      "Max Cascade Performance 76.57999992370605 0.44545454545454544\n",
      "512 1024\n",
      "torch.Size([10000])\n",
      "Ensemble Accuracy tensor(0.7671)\n",
      "Max Cascade Performance 76.70999765396118 0.5909090909090909\n",
      "1024 2048\n",
      "torch.Size([10000])\n",
      "Ensemble Accuracy tensor(0.7683)\n",
      "Max Cascade Performance 76.92999839782715 0.5\n",
      "torch.Size([9, 10000])\n",
      "torch.Size([9, 10000])\n",
      "8 16\n",
      "torch.Size([10000])\n",
      "Ensemble Accuracy tensor(0.7384)\n",
      "Max Cascade Performance 74.04000163078308 0.7545454545454545\n",
      "16 32\n",
      "torch.Size([10000])\n",
      "Ensemble Accuracy tensor(0.7535)\n",
      "Max Cascade Performance 75.58000087738037 0.9272727272727272\n",
      "32 64\n",
      "torch.Size([10000])\n",
      "Ensemble Accuracy tensor(0.7650)\n",
      "Max Cascade Performance 76.81999802589417 0.8090909090909091\n",
      "64 128\n",
      "torch.Size([10000])\n",
      "Ensemble Accuracy tensor(0.7696)\n",
      "Max Cascade Performance 76.9599974155426 0.5545454545454546\n",
      "128 256\n",
      "torch.Size([10000])\n",
      "Ensemble Accuracy tensor(0.7695)\n",
      "Max Cascade Performance 77.0900011062622 0.47272727272727266\n",
      "256 512\n",
      "torch.Size([10000])\n",
      "Ensemble Accuracy tensor(0.7716)\n",
      "Max Cascade Performance 77.24999785423279 0.5272727272727272\n",
      "512 1024\n",
      "torch.Size([10000])\n",
      "Ensemble Accuracy tensor(0.7731)\n",
      "Max Cascade Performance 77.32999920845032 0.5545454545454546\n",
      "1024 2048\n",
      "torch.Size([10000])\n",
      "Ensemble Accuracy tensor(0.7736)\n",
      "Max Cascade Performance 77.39999890327454 0.5727272727272728\n",
      "torch.Size([9, 10000])\n",
      "torch.Size([9, 10000])\n",
      "8 16\n",
      "torch.Size([10000])\n",
      "Ensemble Accuracy tensor(0.7362)\n",
      "Max Cascade Performance 74.04999732971191 0.9363636363636363\n",
      "16 32\n",
      "torch.Size([10000])\n",
      "Ensemble Accuracy tensor(0.7532)\n",
      "Max Cascade Performance 75.45999884605408 0.9090909090909091\n",
      "32 64\n",
      "torch.Size([10000])\n",
      "Ensemble Accuracy tensor(0.7621)\n",
      "Max Cascade Performance 76.3700008392334 0.8272727272727273\n",
      "64 128\n",
      "torch.Size([10000])\n",
      "Ensemble Accuracy tensor(0.7661)\n",
      "Max Cascade Performance 76.62000060081482 0.7727272727272727\n",
      "128 256\n",
      "torch.Size([10000])\n",
      "Ensemble Accuracy tensor(0.7666)\n",
      "Max Cascade Performance 76.78999900817871 0.5909090909090909\n",
      "256 512\n",
      "torch.Size([10000])\n",
      "Ensemble Accuracy tensor(0.7679)\n",
      "Max Cascade Performance 76.92000269889832 0.4818181818181818\n",
      "512 1024\n",
      "torch.Size([10000])\n",
      "Ensemble Accuracy tensor(0.7699)\n",
      "Max Cascade Performance 76.9599974155426 0.5363636363636364\n",
      "1024 2048\n",
      "torch.Size([10000])\n",
      "Ensemble Accuracy tensor(0.7688)\n",
      "Max Cascade Performance 76.95000171661377 0.5\n",
      "torch.Size([9, 10000])\n",
      "torch.Size([9, 10000])\n",
      "8 16\n",
      "torch.Size([10000])\n",
      "Ensemble Accuracy tensor(0.7413)\n",
      "Max Cascade Performance 74.16999936103821 0.7545454545454545\n",
      "16 32\n",
      "torch.Size([10000])\n",
      "Ensemble Accuracy tensor(0.7547)\n",
      "Max Cascade Performance 75.7099986076355 0.6\n",
      "32 64\n",
      "torch.Size([10000])\n",
      "Ensemble Accuracy tensor(0.7634)\n",
      "Max Cascade Performance 76.51000022888184 0.8727272727272727\n",
      "64 128\n",
      "torch.Size([10000])\n",
      "Ensemble Accuracy tensor(0.7668)\n",
      "Max Cascade Performance 76.70999765396118 0.7909090909090909\n",
      "128 256\n",
      "torch.Size([10000])\n",
      "Ensemble Accuracy tensor(0.7689)\n",
      "Max Cascade Performance 76.99999809265137 0.6727272727272727\n",
      "256 512\n",
      "torch.Size([10000])\n",
      "Ensemble Accuracy tensor(0.7702)\n",
      "Max Cascade Performance 77.10999846458435 0.47272727272727266\n",
      "512 1024\n",
      "torch.Size([10000])\n",
      "Ensemble Accuracy tensor(0.7714)\n",
      "Max Cascade Performance 77.24999785423279 0.5272727272727272\n",
      "1024 2048\n",
      "torch.Size([10000])\n",
      "Ensemble Accuracy tensor(0.7723)\n",
      "Max Cascade Performance 77.24999785423279 0.3909090909090909\n",
      "torch.Size([9, 10000])\n",
      "torch.Size([9, 10000])\n",
      "8 16\n",
      "torch.Size([10000])\n",
      "Ensemble Accuracy tensor(0.7355)\n",
      "Max Cascade Performance 73.83000254631042 0.8363636363636363\n",
      "16 32\n",
      "torch.Size([10000])\n",
      "Ensemble Accuracy tensor(0.7521)\n",
      "Max Cascade Performance 75.20999908447266 0.6181818181818182\n",
      "32 64\n",
      "torch.Size([10000])\n",
      "Ensemble Accuracy tensor(0.7579)\n",
      "Max Cascade Performance 75.92999935150146 0.8454545454545453\n",
      "64 128\n",
      "torch.Size([10000])\n",
      "Ensemble Accuracy tensor(0.7637)\n",
      "Max Cascade Performance 76.51000022888184 0.6909090909090908\n",
      "128 256\n",
      "torch.Size([10000])\n",
      "Ensemble Accuracy tensor(0.7656)\n",
      "Max Cascade Performance 76.74000263214111 0.5363636363636364\n",
      "256 512\n",
      "torch.Size([10000])\n",
      "Ensemble Accuracy tensor(0.7691)\n",
      "Max Cascade Performance 77.05000042915344 0.6454545454545454\n",
      "512 1024\n",
      "torch.Size([10000])\n",
      "Ensemble Accuracy tensor(0.7709)\n",
      "Max Cascade Performance 77.13000178337097 0.5363636363636364\n",
      "1024 2048\n",
      "torch.Size([10000])\n",
      "Ensemble Accuracy tensor(0.7713)\n",
      "Max Cascade Performance 77.20000147819519 0.40909090909090906\n",
      "torch.Size([9, 10000])\n",
      "torch.Size([9, 10000])\n",
      "8 16\n",
      "torch.Size([10000])\n",
      "Ensemble Accuracy tensor(0.7313)\n",
      "Max Cascade Performance 73.50999712944031 0.9363636363636363\n",
      "16 32\n",
      "torch.Size([10000])\n",
      "Ensemble Accuracy tensor(0.7461)\n",
      "Max Cascade Performance 74.94999766349792 0.8272727272727273\n",
      "32 64\n",
      "torch.Size([10000])\n",
      "Ensemble Accuracy tensor(0.7578)\n",
      "Max Cascade Performance 75.77000260353088 0.8727272727272727\n",
      "64 128\n",
      "torch.Size([10000])\n",
      "Ensemble Accuracy tensor(0.7600)\n",
      "Max Cascade Performance 75.91000199317932 0.6181818181818182\n",
      "128 256\n",
      "torch.Size([10000])\n",
      "Ensemble Accuracy tensor(0.7608)\n",
      "Max Cascade Performance 76.23000144958496 0.5909090909090909\n",
      "256 512\n",
      "torch.Size([10000])\n",
      "Ensemble Accuracy tensor(0.7640)\n",
      "Max Cascade Performance 76.52999758720398 0.509090909090909\n",
      "512 1024\n",
      "torch.Size([10000])\n",
      "Ensemble Accuracy tensor(0.7648)\n",
      "Max Cascade Performance 76.49999856948853 0.23636363636363636\n",
      "1024 2048\n",
      "torch.Size([10000])\n",
      "Ensemble Accuracy tensor(0.7652)\n",
      "Max Cascade Performance 76.5999972820282 0.5181818181818182\n",
      "torch.Size([9, 10000])\n",
      "torch.Size([9, 10000])\n",
      "8 16\n",
      "torch.Size([10000])\n",
      "Ensemble Accuracy tensor(0.7267)\n",
      "Max Cascade Performance 72.82000184059143 0.8272727272727273\n",
      "16 32\n",
      "torch.Size([10000])\n",
      "Ensemble Accuracy tensor(0.7447)\n",
      "Max Cascade Performance 74.58000183105469 0.609090909090909\n",
      "32 64\n",
      "torch.Size([10000])\n",
      "Ensemble Accuracy tensor(0.7538)\n",
      "Max Cascade Performance 75.62999725341797 0.7454545454545454\n",
      "64 128\n",
      "torch.Size([10000])\n",
      "Ensemble Accuracy tensor(0.7584)\n",
      "Max Cascade Performance 75.73999762535095 0.49090909090909085\n",
      "128 256\n",
      "torch.Size([10000])\n",
      "Ensemble Accuracy tensor(0.7594)\n",
      "Max Cascade Performance 76.0200023651123 0.6363636363636364\n",
      "256 512\n",
      "torch.Size([10000])\n",
      "Ensemble Accuracy tensor(0.7608)\n",
      "Max Cascade Performance 76.20999813079834 0.5909090909090909\n",
      "512 1024\n",
      "torch.Size([10000])\n",
      "Ensemble Accuracy tensor(0.7636)\n",
      "Max Cascade Performance 76.28999948501587 0.5454545454545454\n",
      "1024 2048\n",
      "torch.Size([10000])\n",
      "Ensemble Accuracy tensor(0.7622)\n",
      "Max Cascade Performance 76.30000114440918 0.4818181818181818\n",
      "torch.Size([9, 10000])\n",
      "torch.Size([9, 10000])\n",
      "8 16\n",
      "torch.Size([10000])\n",
      "Ensemble Accuracy tensor(0.7362)\n",
      "Max Cascade Performance 73.89000058174133 0.7181818181818181\n",
      "16 32\n",
      "torch.Size([10000])\n",
      "Ensemble Accuracy tensor(0.7507)\n",
      "Max Cascade Performance 75.26000142097473 0.5818181818181818\n",
      "32 64\n",
      "torch.Size([10000])\n",
      "Ensemble Accuracy tensor(0.7623)\n",
      "Max Cascade Performance 76.34000182151794 0.6727272727272727\n",
      "64 128\n",
      "torch.Size([10000])\n",
      "Ensemble Accuracy tensor(0.7654)\n",
      "Max Cascade Performance 76.71999931335449 0.6545454545454545\n",
      "128 256\n",
      "torch.Size([10000])\n",
      "Ensemble Accuracy tensor(0.7688)\n",
      "Max Cascade Performance 76.99999809265137 0.5727272727272728\n",
      "256 512\n",
      "torch.Size([10000])\n",
      "Ensemble Accuracy tensor(0.7694)\n",
      "Max Cascade Performance 77.00999975204468 0.6454545454545454\n",
      "512 1024\n",
      "torch.Size([10000])\n",
      "Ensemble Accuracy tensor(0.7707)\n",
      "Max Cascade Performance 77.1399974822998 0.5272727272727272\n",
      "1024 2048\n",
      "torch.Size([10000])\n",
      "Ensemble Accuracy tensor(0.7715)\n",
      "Max Cascade Performance 77.17000246047974 0.509090909090909\n",
      "torch.Size([9, 10000])\n",
      "torch.Size([9, 10000])\n",
      "8 16\n",
      "torch.Size([10000])\n",
      "Ensemble Accuracy tensor(0.7402)\n",
      "Max Cascade Performance 74.29999709129333 0.9363636363636363\n",
      "16 32\n",
      "torch.Size([10000])\n",
      "Ensemble Accuracy tensor(0.7547)\n",
      "Max Cascade Performance 75.70000290870667 0.7363636363636363\n",
      "32 64\n",
      "torch.Size([10000])\n",
      "Ensemble Accuracy tensor(0.7641)\n",
      "Max Cascade Performance 76.62000060081482 0.7454545454545454\n",
      "64 128\n",
      "torch.Size([10000])\n",
      "Ensemble Accuracy tensor(0.7682)\n",
      "Max Cascade Performance 76.92000269889832 0.6545454545454545\n",
      "128 256\n",
      "torch.Size([10000])\n",
      "Ensemble Accuracy tensor(0.7715)\n",
      "Max Cascade Performance 77.28999853134155 0.509090909090909\n",
      "256 512\n",
      "torch.Size([10000])\n",
      "Ensemble Accuracy tensor(0.7725)\n",
      "Max Cascade Performance 77.319997549057 0.47272727272727266\n",
      "512 1024\n",
      "torch.Size([10000])\n",
      "Ensemble Accuracy tensor(0.7729)\n",
      "Max Cascade Performance 77.32999920845032 0.26363636363636367\n",
      "1024 2048\n",
      "torch.Size([10000])\n",
      "Ensemble Accuracy tensor(0.7737)\n",
      "Max Cascade Performance 77.36999988555908 0.5636363636363636\n",
      "torch.Size([9, 10000])\n",
      "torch.Size([9, 10000])\n",
      "8 16\n",
      "torch.Size([10000])\n",
      "Ensemble Accuracy tensor(0.7274)\n",
      "Max Cascade Performance 73.15999865531921 0.7\n",
      "16 32\n",
      "torch.Size([10000])\n",
      "Ensemble Accuracy tensor(0.7484)\n",
      "Max Cascade Performance 74.88999962806702 0.7363636363636363\n",
      "32 64\n",
      "torch.Size([10000])\n",
      "Ensemble Accuracy tensor(0.7549)\n",
      "Max Cascade Performance 75.59999823570251 0.8090909090909091\n",
      "64 128\n",
      "torch.Size([10000])\n",
      "Ensemble Accuracy tensor(0.7590)\n",
      "Max Cascade Performance 75.98000168800354 0.8272727272727273\n",
      "128 256\n",
      "torch.Size([10000])\n",
      "Ensemble Accuracy tensor(0.7604)\n",
      "Max Cascade Performance 76.09999775886536 0.509090909090909\n",
      "256 512\n",
      "torch.Size([10000])\n",
      "Ensemble Accuracy tensor(0.7615)\n",
      "Max Cascade Performance 76.12000107765198 0.6454545454545454\n",
      "512 1024\n",
      "torch.Size([10000])\n",
      "Ensemble Accuracy tensor(0.7626)\n",
      "Max Cascade Performance 76.30000114440918 0.5363636363636364\n",
      "1024 2048\n",
      "torch.Size([10000])\n",
      "Ensemble Accuracy tensor(0.7640)\n",
      "Max Cascade Performance 76.35999917984009 0.5181818181818182\n",
      "torch.Size([9, 10000])\n",
      "torch.Size([9, 10000])\n",
      "8 16\n",
      "torch.Size([10000])\n",
      "Ensemble Accuracy tensor(0.7364)\n",
      "Max Cascade Performance 73.90000224113464 0.7181818181818181\n",
      "16 32\n",
      "torch.Size([10000])\n",
      "Ensemble Accuracy tensor(0.7525)\n",
      "Max Cascade Performance 75.22000074386597 0.5909090909090909\n",
      "32 64\n",
      "torch.Size([10000])\n",
      "Ensemble Accuracy tensor(0.7611)\n",
      "Max Cascade Performance 76.34000182151794 0.8727272727272727\n",
      "64 128\n",
      "torch.Size([10000])\n",
      "Ensemble Accuracy tensor(0.7653)\n",
      "Max Cascade Performance 76.67999863624573 0.509090909090909\n",
      "128 256\n",
      "torch.Size([10000])\n",
      "Ensemble Accuracy tensor(0.7651)\n",
      "Max Cascade Performance 76.6700029373169 0.5818181818181818\n",
      "256 512\n",
      "torch.Size([10000])\n",
      "Ensemble Accuracy tensor(0.7682)\n",
      "Max Cascade Performance 76.92999839782715 0.5818181818181818\n",
      "512 1024\n",
      "torch.Size([10000])\n",
      "Ensemble Accuracy tensor(0.7699)\n",
      "Max Cascade Performance 76.99999809265137 0.4181818181818182\n",
      "1024 2048\n",
      "torch.Size([10000])\n",
      "Ensemble Accuracy tensor(0.7692)\n",
      "Max Cascade Performance 76.99999809265137 0.3\n",
      "torch.Size([9, 10000])\n",
      "torch.Size([9, 10000])\n",
      "8 16\n",
      "torch.Size([10000])\n",
      "Ensemble Accuracy tensor(0.7275)\n",
      "Max Cascade Performance 72.94999957084656 0.7181818181818181\n",
      "16 32\n",
      "torch.Size([10000])\n",
      "Ensemble Accuracy tensor(0.7445)\n",
      "Max Cascade Performance 74.73999857902527 0.6727272727272727\n",
      "32 64\n",
      "torch.Size([10000])\n",
      "Ensemble Accuracy tensor(0.7551)\n",
      "Max Cascade Performance 75.67999958992004 0.8090909090909091\n",
      "64 128\n",
      "torch.Size([10000])\n",
      "Ensemble Accuracy tensor(0.7579)\n",
      "Max Cascade Performance 75.84999799728394 0.8454545454545453\n",
      "128 256\n",
      "torch.Size([10000])\n",
      "Ensemble Accuracy tensor(0.7594)\n",
      "Max Cascade Performance 76.05000138282776 0.5272727272727272\n",
      "256 512\n",
      "torch.Size([10000])\n",
      "Ensemble Accuracy tensor(0.7618)\n",
      "Max Cascade Performance 76.27000212669373 0.6727272727272727\n",
      "512 1024\n",
      "torch.Size([10000])\n",
      "Ensemble Accuracy tensor(0.7632)\n",
      "Max Cascade Performance 76.41000151634216 0.5727272727272728\n",
      "1024 2048\n",
      "torch.Size([10000])\n",
      "Ensemble Accuracy tensor(0.7640)\n",
      "Max Cascade Performance 76.49999856948853 0.40909090909090906\n",
      "torch.Size([9, 10000])\n",
      "torch.Size([9, 10000])\n",
      "8 16\n",
      "torch.Size([10000])\n",
      "Ensemble Accuracy tensor(0.7275)\n",
      "Max Cascade Performance 73.11999797821045 0.7999999999999999\n",
      "16 32\n",
      "torch.Size([10000])\n",
      "Ensemble Accuracy tensor(0.7446)\n",
      "Max Cascade Performance 74.77999925613403 0.8454545454545453\n",
      "32 64\n",
      "torch.Size([10000])\n",
      "Ensemble Accuracy tensor(0.7536)\n",
      "Max Cascade Performance 75.55999755859375 0.8545454545454545\n",
      "64 128\n",
      "torch.Size([10000])\n",
      "Ensemble Accuracy tensor(0.7577)\n",
      "Max Cascade Performance 75.95000267028809 0.509090909090909\n",
      "128 256\n",
      "torch.Size([10000])\n",
      "Ensemble Accuracy tensor(0.7609)\n",
      "Max Cascade Performance 76.1900007724762 0.509090909090909\n",
      "256 512\n",
      "torch.Size([10000])\n",
      "Ensemble Accuracy tensor(0.7621)\n",
      "Max Cascade Performance 76.31000280380249 0.5272727272727272\n",
      "512 1024\n",
      "torch.Size([10000])\n",
      "Ensemble Accuracy tensor(0.7641)\n",
      "Max Cascade Performance 76.3700008392334 0.5454545454545454\n",
      "1024 2048\n",
      "torch.Size([10000])\n",
      "Ensemble Accuracy tensor(0.7642)\n",
      "Max Cascade Performance 76.49000287055969 0.5272727272727272\n",
      "torch.Size([9, 10000])\n",
      "torch.Size([9, 10000])\n",
      "8 16\n",
      "torch.Size([10000])\n",
      "Ensemble Accuracy tensor(0.7349)\n",
      "Max Cascade Performance 73.7999975681305 0.7181818181818181\n",
      "16 32\n",
      "torch.Size([10000])\n",
      "Ensemble Accuracy tensor(0.7529)\n",
      "Max Cascade Performance 75.19000172615051 0.709090909090909\n",
      "32 64\n",
      "torch.Size([10000])\n",
      "Ensemble Accuracy tensor(0.7596)\n",
      "Max Cascade Performance 76.09999775886536 0.6636363636363636\n",
      "64 128\n",
      "torch.Size([10000])\n",
      "Ensemble Accuracy tensor(0.7621)\n",
      "Max Cascade Performance 76.34999752044678 0.7727272727272727\n",
      "128 256\n",
      "torch.Size([10000])\n",
      "Ensemble Accuracy tensor(0.7641)\n",
      "Max Cascade Performance 76.52999758720398 0.5272727272727272\n",
      "256 512\n",
      "torch.Size([10000])\n",
      "Ensemble Accuracy tensor(0.7669)\n",
      "Max Cascade Performance 76.81999802589417 0.6363636363636364\n",
      "512 1024\n",
      "torch.Size([10000])\n",
      "Ensemble Accuracy tensor(0.7692)\n",
      "Max Cascade Performance 76.92000269889832 0.5454545454545454\n",
      "1024 2048\n",
      "torch.Size([10000])\n",
      "Ensemble Accuracy tensor(0.7692)\n",
      "Max Cascade Performance 76.96999907493591 0.40909090909090906\n",
      "torch.Size([9, 10000])\n",
      "torch.Size([9, 10000])\n",
      "8 16\n",
      "torch.Size([10000])\n",
      "Ensemble Accuracy tensor(0.7321)\n",
      "Max Cascade Performance 73.3299970626831 0.7999999999999999\n",
      "16 32\n",
      "torch.Size([10000])\n",
      "Ensemble Accuracy tensor(0.7468)\n",
      "Max Cascade Performance 74.72000122070312 0.8545454545454545\n",
      "32 64\n",
      "torch.Size([10000])\n",
      "Ensemble Accuracy tensor(0.7558)\n",
      "Max Cascade Performance 75.80000162124634 0.7454545454545454\n",
      "64 128\n",
      "torch.Size([10000])\n",
      "Ensemble Accuracy tensor(0.7605)\n",
      "Max Cascade Performance 76.05000138282776 0.609090909090909\n",
      "128 256\n",
      "torch.Size([10000])\n",
      "Ensemble Accuracy tensor(0.7618)\n",
      "Max Cascade Performance 76.31000280380249 0.509090909090909\n",
      "256 512\n",
      "torch.Size([10000])\n",
      "Ensemble Accuracy tensor(0.7623)\n",
      "Max Cascade Performance 76.38000249862671 0.4545454545454546\n",
      "512 1024\n",
      "torch.Size([10000])\n",
      "Ensemble Accuracy tensor(0.7637)\n",
      "Max Cascade Performance 76.31999850273132 0.13636363636363635\n",
      "1024 2048\n",
      "torch.Size([10000])\n",
      "Ensemble Accuracy tensor(0.7635)\n",
      "Max Cascade Performance 76.419997215271 0.5727272727272728\n",
      "torch.Size([9, 10000])\n",
      "torch.Size([9, 10000])\n",
      "8 16\n",
      "torch.Size([10000])\n",
      "Ensemble Accuracy tensor(0.7367)\n",
      "Max Cascade Performance 74.01000261306763 0.7999999999999999\n",
      "16 32\n",
      "torch.Size([10000])\n",
      "Ensemble Accuracy tensor(0.7518)\n",
      "Max Cascade Performance 75.19000172615051 0.709090909090909\n",
      "32 64\n",
      "torch.Size([10000])\n",
      "Ensemble Accuracy tensor(0.7585)\n",
      "Max Cascade Performance 75.85999965667725 0.8090909090909091\n",
      "64 128\n",
      "torch.Size([10000])\n",
      "Ensemble Accuracy tensor(0.7626)\n",
      "Max Cascade Performance 76.17999911308289 0.8454545454545453\n",
      "128 256\n",
      "torch.Size([10000])\n",
      "Ensemble Accuracy tensor(0.7650)\n",
      "Max Cascade Performance 76.69000029563904 0.609090909090909\n",
      "256 512\n",
      "torch.Size([10000])\n",
      "Ensemble Accuracy tensor(0.7682)\n",
      "Max Cascade Performance 76.88000202178955 0.5181818181818182\n",
      "512 1024\n",
      "torch.Size([10000])\n",
      "Ensemble Accuracy tensor(0.7702)\n",
      "Max Cascade Performance 77.06000208854675 0.6363636363636364\n",
      "1024 2048\n",
      "torch.Size([10000])\n",
      "Ensemble Accuracy tensor(0.7714)\n",
      "Max Cascade Performance 77.13000178337097 0.44545454545454544\n",
      "torch.Size([9, 10000])\n",
      "torch.Size([9, 10000])\n",
      "8 16\n",
      "torch.Size([10000])\n",
      "Ensemble Accuracy tensor(0.7317)\n",
      "Max Cascade Performance 73.4499990940094 0.8363636363636363\n",
      "16 32\n",
      "torch.Size([10000])\n",
      "Ensemble Accuracy tensor(0.7479)\n",
      "Max Cascade Performance 75.11000037193298 0.7363636363636363\n",
      "32 64\n",
      "torch.Size([10000])\n",
      "Ensemble Accuracy tensor(0.7595)\n",
      "Max Cascade Performance 76.09999775886536 0.7272727272727272\n",
      "64 128\n",
      "torch.Size([10000])\n",
      "Ensemble Accuracy tensor(0.7622)\n",
      "Max Cascade Performance 76.20999813079834 0.7545454545454545\n",
      "128 256\n",
      "torch.Size([10000])\n",
      "Ensemble Accuracy tensor(0.7646)\n",
      "Max Cascade Performance 76.64999961853027 0.6909090909090908\n",
      "256 512\n",
      "torch.Size([10000])\n",
      "Ensemble Accuracy tensor(0.7679)\n",
      "Max Cascade Performance 76.78999900817871 0.6363636363636364\n",
      "512 1024\n",
      "torch.Size([10000])\n",
      "Ensemble Accuracy tensor(0.7690)\n",
      "Max Cascade Performance 76.92999839782715 0.7454545454545454\n",
      "1024 2048\n",
      "torch.Size([10000])\n",
      "Ensemble Accuracy tensor(0.7690)\n",
      "Max Cascade Performance 76.95000171661377 0.3727272727272727\n",
      "torch.Size([9, 10000])\n",
      "torch.Size([9, 10000])\n",
      "8 16\n",
      "torch.Size([10000])\n",
      "Ensemble Accuracy tensor(0.7331)\n",
      "Max Cascade Performance 73.72999787330627 0.8272727272727273\n",
      "16 32\n",
      "torch.Size([10000])\n",
      "Ensemble Accuracy tensor(0.7493)\n",
      "Max Cascade Performance 75.02999901771545 0.709090909090909\n",
      "32 64\n",
      "torch.Size([10000])\n",
      "Ensemble Accuracy tensor(0.7594)\n",
      "Max Cascade Performance 76.05999708175659 0.8727272727272727\n",
      "64 128\n",
      "torch.Size([10000])\n",
      "Ensemble Accuracy tensor(0.7644)\n",
      "Max Cascade Performance 76.26000046730042 0.7727272727272727\n",
      "128 256\n",
      "torch.Size([10000])\n",
      "Ensemble Accuracy tensor(0.7629)\n",
      "Max Cascade Performance 76.39999985694885 0.47272727272727266\n",
      "256 512\n",
      "torch.Size([10000])\n",
      "Ensemble Accuracy tensor(0.7638)\n",
      "Max Cascade Performance 76.51000022888184 0.5909090909090909\n",
      "512 1024\n",
      "torch.Size([10000])\n",
      "Ensemble Accuracy tensor(0.7652)\n",
      "Max Cascade Performance 76.5999972820282 0.5454545454545454\n",
      "1024 2048\n",
      "torch.Size([10000])\n",
      "Ensemble Accuracy tensor(0.7653)\n",
      "Max Cascade Performance 76.60999894142151 0.5454545454545454\n",
      "torch.Size([9, 10000])\n",
      "torch.Size([9, 10000])\n",
      "8 16\n",
      "torch.Size([10000])\n",
      "Ensemble Accuracy tensor(0.7324)\n",
      "Max Cascade Performance 73.66999983787537 0.8363636363636363\n",
      "16 32\n",
      "torch.Size([10000])\n",
      "Ensemble Accuracy tensor(0.7509)\n",
      "Max Cascade Performance 75.3000020980835 0.6181818181818182\n",
      "32 64\n",
      "torch.Size([10000])\n",
      "Ensemble Accuracy tensor(0.7586)\n",
      "Max Cascade Performance 76.0200023651123 0.8272727272727273\n",
      "64 128\n",
      "torch.Size([10000])\n",
      "Ensemble Accuracy tensor(0.7613)\n",
      "Max Cascade Performance 76.13000273704529 0.7727272727272727\n",
      "128 256\n",
      "torch.Size([10000])\n",
      "Ensemble Accuracy tensor(0.7631)\n",
      "Max Cascade Performance 76.38999819755554 0.47272727272727266\n",
      "256 512\n",
      "torch.Size([10000])\n",
      "Ensemble Accuracy tensor(0.7655)\n",
      "Max Cascade Performance 76.63000226020813 0.5272727272727272\n",
      "512 1024\n",
      "torch.Size([10000])\n",
      "Ensemble Accuracy tensor(0.7671)\n",
      "Max Cascade Performance 76.7300009727478 0.5818181818181818\n",
      "1024 2048\n",
      "torch.Size([10000])\n",
      "Ensemble Accuracy tensor(0.7671)\n",
      "Max Cascade Performance 76.7300009727478 0.1\n",
      "torch.Size([9, 10000])\n",
      "torch.Size([9, 10000])\n",
      "8 16\n",
      "torch.Size([10000])\n",
      "Ensemble Accuracy tensor(0.7389)\n",
      "Max Cascade Performance 74.22999739646912 0.7181818181818181\n",
      "16 32\n",
      "torch.Size([10000])\n",
      "Ensemble Accuracy tensor(0.7558)\n",
      "Max Cascade Performance 75.80000162124634 0.7999999999999999\n",
      "32 64\n",
      "torch.Size([10000])\n",
      "Ensemble Accuracy tensor(0.7642)\n",
      "Max Cascade Performance 76.51000022888184 0.8545454545454545\n",
      "64 128\n",
      "torch.Size([10000])\n",
      "Ensemble Accuracy tensor(0.7658)\n",
      "Max Cascade Performance 76.74000263214111 0.3909090909090909\n",
      "128 256\n",
      "torch.Size([10000])\n",
      "Ensemble Accuracy tensor(0.7679)\n",
      "Max Cascade Performance 76.87000036239624 0.6727272727272727\n",
      "256 512\n",
      "torch.Size([10000])\n",
      "Ensemble Accuracy tensor(0.7705)\n",
      "Max Cascade Performance 77.03999876976013 0.5181818181818182\n",
      "512 1024\n",
      "torch.Size([10000])\n",
      "Ensemble Accuracy tensor(0.7719)\n",
      "Max Cascade Performance 77.23000049591064 0.5818181818181818\n",
      "1024 2048\n",
      "torch.Size([10000])\n",
      "Ensemble Accuracy tensor(0.7727)\n",
      "Max Cascade Performance 77.32999920845032 0.5181818181818182\n",
      "torch.Size([9, 10000])\n",
      "torch.Size([9, 10000])\n",
      "8 16\n",
      "torch.Size([10000])\n",
      "Ensemble Accuracy tensor(0.7423)\n",
      "Max Cascade Performance 74.55999851226807 0.7181818181818181\n",
      "16 32\n",
      "torch.Size([10000])\n",
      "Ensemble Accuracy tensor(0.7587)\n",
      "Max Cascade Performance 75.84999799728394 0.709090909090909\n",
      "32 64\n",
      "torch.Size([10000])\n",
      "Ensemble Accuracy tensor(0.7670)\n",
      "Max Cascade Performance 76.7799973487854 0.8272727272727273\n",
      "64 128\n",
      "torch.Size([10000])\n",
      "Ensemble Accuracy tensor(0.7709)\n",
      "Max Cascade Performance 77.12000012397766 0.609090909090909\n",
      "128 256\n",
      "torch.Size([10000])\n",
      "Ensemble Accuracy tensor(0.7725)\n",
      "Max Cascade Performance 77.38000154495239 0.5272727272727272\n",
      "256 512\n",
      "torch.Size([10000])\n",
      "Ensemble Accuracy tensor(0.7735)\n",
      "Max Cascade Performance 77.39999890327454 0.5181818181818182\n",
      "512 1024\n",
      "torch.Size([10000])\n",
      "Ensemble Accuracy tensor(0.7739)\n",
      "Max Cascade Performance 77.46999859809875 0.5909090909090909\n",
      "1024 2048\n",
      "torch.Size([10000])\n",
      "Ensemble Accuracy tensor(0.7743)\n",
      "Max Cascade Performance 77.56999731063843 0.4363636363636364\n",
      "torch.Size([9, 10000])\n",
      "torch.Size([9, 10000])\n",
      "8 16\n",
      "torch.Size([10000])\n",
      "Ensemble Accuracy tensor(0.7315)\n",
      "Max Cascade Performance 73.40999841690063 0.7181818181818181\n",
      "16 32\n",
      "torch.Size([10000])\n",
      "Ensemble Accuracy tensor(0.7465)\n",
      "Max Cascade Performance 74.88999962806702 0.8454545454545453\n",
      "32 64\n",
      "torch.Size([10000])\n",
      "Ensemble Accuracy tensor(0.7554)\n",
      "Max Cascade Performance 75.77000260353088 0.7454545454545454\n",
      "64 128\n",
      "torch.Size([10000])\n",
      "Ensemble Accuracy tensor(0.7594)\n",
      "Max Cascade Performance 76.02999806404114 0.5545454545454546\n",
      "128 256\n",
      "torch.Size([10000])\n",
      "Ensemble Accuracy tensor(0.7613)\n",
      "Max Cascade Performance 76.26000046730042 0.5909090909090909\n",
      "256 512\n",
      "torch.Size([10000])\n",
      "Ensemble Accuracy tensor(0.7635)\n",
      "Max Cascade Performance 76.38999819755554 0.5272727272727272\n",
      "512 1024\n",
      "torch.Size([10000])\n",
      "Ensemble Accuracy tensor(0.7648)\n",
      "Max Cascade Performance 76.45999789237976 0.5363636363636364\n",
      "1024 2048\n",
      "torch.Size([10000])\n",
      "Ensemble Accuracy tensor(0.7641)\n",
      "Max Cascade Performance 76.46999955177307 0.13636363636363635\n",
      "torch.Size([9, 10000])\n",
      "torch.Size([9, 10000])\n",
      "8 16\n",
      "torch.Size([10000])\n",
      "Ensemble Accuracy tensor(0.7377)\n",
      "Max Cascade Performance 74.15000200271606 0.9090909090909091\n",
      "16 32\n",
      "torch.Size([10000])\n",
      "Ensemble Accuracy tensor(0.7531)\n",
      "Max Cascade Performance 75.3000020980835 0.9090909090909091\n",
      "32 64\n",
      "torch.Size([10000])\n",
      "Ensemble Accuracy tensor(0.7591)\n",
      "Max Cascade Performance 76.28999948501587 0.8090909090909091\n",
      "64 128\n",
      "torch.Size([10000])\n",
      "Ensemble Accuracy tensor(0.7641)\n",
      "Max Cascade Performance 76.56000256538391 0.7727272727272727\n",
      "128 256\n",
      "torch.Size([10000])\n",
      "Ensemble Accuracy tensor(0.7664)\n",
      "Max Cascade Performance 76.78999900817871 0.49090909090909085\n",
      "256 512\n",
      "torch.Size([10000])\n",
      "Ensemble Accuracy tensor(0.7689)\n",
      "Max Cascade Performance 76.98000073432922 0.6454545454545454\n",
      "512 1024\n",
      "torch.Size([10000])\n",
      "Ensemble Accuracy tensor(0.7698)\n",
      "Max Cascade Performance 77.06999778747559 0.3181818181818182\n",
      "1024 2048\n",
      "torch.Size([10000])\n",
      "Ensemble Accuracy tensor(0.7694)\n",
      "Max Cascade Performance 77.02999711036682 0.3\n",
      "torch.Size([9, 10000])\n",
      "torch.Size([9, 10000])\n",
      "8 16\n",
      "torch.Size([10000])\n",
      "Ensemble Accuracy tensor(0.7376)\n",
      "Max Cascade Performance 73.989999294281 0.7181818181818181\n",
      "16 32\n",
      "torch.Size([10000])\n",
      "Ensemble Accuracy tensor(0.7543)\n",
      "Max Cascade Performance 75.5400002002716 0.6\n",
      "32 64\n",
      "torch.Size([10000])\n",
      "Ensemble Accuracy tensor(0.7620)\n",
      "Max Cascade Performance 76.34000182151794 0.8545454545454545\n",
      "64 128\n",
      "torch.Size([10000])\n",
      "Ensemble Accuracy tensor(0.7662)\n",
      "Max Cascade Performance 76.78999900817871 0.49090909090909085\n",
      "128 256\n",
      "torch.Size([10000])\n",
      "Ensemble Accuracy tensor(0.7677)\n",
      "Max Cascade Performance 76.92999839782715 0.5818181818181818\n",
      "256 512\n",
      "torch.Size([10000])\n",
      "Ensemble Accuracy tensor(0.7707)\n",
      "Max Cascade Performance 77.0900011062622 0.6727272727272727\n",
      "512 1024\n",
      "torch.Size([10000])\n",
      "Ensemble Accuracy tensor(0.7725)\n",
      "Max Cascade Performance 77.24000215530396 0.5454545454545454\n",
      "1024 2048\n",
      "torch.Size([10000])\n",
      "Ensemble Accuracy tensor(0.7729)\n",
      "Max Cascade Performance 77.24999785423279 0.3181818181818182\n",
      "torch.Size([9, 10000])\n",
      "torch.Size([9, 10000])\n",
      "8 16\n",
      "torch.Size([10000])\n",
      "Ensemble Accuracy tensor(0.7353)\n",
      "Max Cascade Performance 73.86999726295471 0.7999999999999999\n",
      "16 32\n",
      "torch.Size([10000])\n",
      "Ensemble Accuracy tensor(0.7533)\n",
      "Max Cascade Performance 75.44999718666077 0.6\n",
      "32 64\n",
      "torch.Size([10000])\n",
      "Ensemble Accuracy tensor(0.7608)\n",
      "Max Cascade Performance 76.10999941825867 0.6363636363636364\n",
      "64 128\n",
      "torch.Size([10000])\n",
      "Ensemble Accuracy tensor(0.7610)\n",
      "Max Cascade Performance 76.12000107765198 0.2727272727272727\n",
      "128 256\n",
      "torch.Size([10000])\n",
      "Ensemble Accuracy tensor(0.7620)\n",
      "Max Cascade Performance 76.20999813079834 0.5454545454545454\n",
      "256 512\n",
      "torch.Size([10000])\n",
      "Ensemble Accuracy tensor(0.7618)\n",
      "Max Cascade Performance 76.31000280380249 0.49090909090909085\n",
      "512 1024\n",
      "torch.Size([10000])\n",
      "Ensemble Accuracy tensor(0.7627)\n",
      "Max Cascade Performance 76.38000249862671 0.7454545454545454\n",
      "1024 2048\n",
      "torch.Size([10000])\n",
      "Ensemble Accuracy tensor(0.7635)\n",
      "Max Cascade Performance 76.46999955177307 0.4181818181818182\n"
     ]
    }
   ],
   "source": [
    "ex = [];ttt=[]\n",
    "for l in range(N_seeds):\n",
    "    idx = np.random.choice(50000, 10000, replace=False) # True thresholding\n",
    "    ex.append(idx)\n",
    "    greedy_thrsh=[]\n",
    "    gt = torch.load(\"ground_truth/gt_dataset=V1.pth\")[idx].cpu()\n",
    "    softmax=torch.load(\"softmax/softmax_sh=False_mh=True_ff=False_feat_dim=2048_dataset=V1.pth\")[:, idx, :].cpu()\n",
    "    confidence_, predictions_ = torch.max(softmax, dim=-1)\n",
    "    n=len(gt)\n",
    "\n",
    "\n",
    "    print(predictions_.shape)\n",
    "    print(confidence_.shape)\n",
    "\n",
    "    # confidence_ = confidence_.cuda()\n",
    "    # predictions_ = predictions_.cuda()\n",
    "\n",
    "\n",
    "    thrsh = np.linspace(0.1,1, 100)\n",
    "    from matplotlib.pyplot import figure\n",
    "#     figure(figsize=(20, 10), dpi=80)\n",
    "    acc_all=[]\n",
    "    for d1 in range(8):\n",
    "        for d2 in range(d1+1, d1+2):\n",
    "            print(2**(d1+3), 2**(d2+3))\n",
    "            confidence_8, predictions_8 = confidence_[d1], predictions_[d1]\n",
    "            confidence_128, predictions_128 = confidence_[d2], predictions_[d2]\n",
    "            print(confidence_8.shape)\n",
    "            softmax_ensemble_8_128 = (softmax[d1] + softmax[d2])/2\n",
    "            ensemble_confidence, ensemble_predictions = torch.max(softmax_ensemble_8_128, dim=-1)\n",
    "            print(\"Ensemble Accuracy\",((ensemble_predictions==gt).sum())/n)\n",
    "            acc=[]; FLOPS=[]; lower_=[]\n",
    "            for t in thrsh:\n",
    "                preds= torch.zeros(n); preds=preds.long()\n",
    "                idx_8 = (confidence_8>t) #torch.nonzero((confidence_8>t).int()).squeeze()\n",
    "                idx_128 =(confidence_8<=t) #torch.nonzero((confidence_8<t).int()).squeeze()\n",
    "                n1, n2= (idx_8.sum()).item(), (idx_128.sum()).item()\n",
    "    #             print(n1, n2)\n",
    "                FLOPS.append((((2**(d1+3))/8)*n1+((2**(d2+3))/8)*n2)/(n1+n2))\n",
    "                preds[idx_8] = predictions_8[(confidence_8>t)]\n",
    "                preds[idx_128] = predictions_128[(confidence_8<=t)]\n",
    "                acc.append(100*(((preds==gt).sum())/n).cpu().numpy())\n",
    "\n",
    "            acc = np.asarray(acc)\n",
    "            max_acc = -np.asarray(sorted(-acc))[0]\n",
    "            best_thrhs = thrsh[np.nonzero(acc==max_acc)[0]].min()\n",
    "            max_idx =(np.asarray(acc)).argmax()\n",
    "            print(\"Max Cascade Performance\",  acc[max_idx], best_thrhs)\n",
    "            greedy_thrsh.append(best_thrhs)\n",
    "            acc_all.append((np.asarray(FLOPS).min(), d1, d2))\n",
    "    \n",
    "    ttt.append(greedy_thrsh)\n",
    "#     plt.show()"
   ]
  },
  {
   "cell_type": "code",
   "execution_count": 9,
   "id": "af19d775",
   "metadata": {},
   "outputs": [],
   "source": [
    "sel = []\n",
    "for i in ex:\n",
    "    u = np.zeros(50000)\n",
    "    u[i]=1\n",
    "    sel.append(np.nonzero(1-u)[0])"
   ]
  },
  {
   "cell_type": "code",
   "execution_count": null,
   "id": "7abf00ec",
   "metadata": {},
   "outputs": [],
   "source": []
  },
  {
   "cell_type": "code",
   "execution_count": 10,
   "id": "c659d85c",
   "metadata": {
    "scrolled": true
   },
   "outputs": [
    {
     "name": "stdout",
     "output_type": "stream",
     "text": [
      "1\n"
     ]
    },
    {
     "data": {
      "application/vnd.jupyter.widget-view+json": {
       "model_id": "0b6d83b72d964f6e9c31f846bda3d694",
       "version_major": 2,
       "version_minor": 0
      },
      "text/plain": [
       "  0%|          | 0/40000 [00:00<?, ?it/s]"
      ]
     },
     "metadata": {},
     "output_type": "display_data"
    },
    {
     "name": "stdout",
     "output_type": "stream",
     "text": [
      "16\n",
      "8\n"
     ]
    },
    {
     "data": {
      "application/vnd.jupyter.widget-view+json": {
       "model_id": "94184613e2944fc9b8746d569267b321",
       "version_major": 2,
       "version_minor": 0
      },
      "text/plain": [
       "  0%|          | 0/40000 [00:00<?, ?it/s]"
      ]
     },
     "metadata": {},
     "output_type": "display_data"
    },
    {
     "name": "stdout",
     "output_type": "stream",
     "text": [
      "16\n",
      "8\n"
     ]
    },
    {
     "data": {
      "application/vnd.jupyter.widget-view+json": {
       "model_id": "0a34aa0ad94a41c9836e17ccdaeffeaa",
       "version_major": 2,
       "version_minor": 0
      },
      "text/plain": [
       "  0%|          | 0/40000 [00:00<?, ?it/s]"
      ]
     },
     "metadata": {},
     "output_type": "display_data"
    },
    {
     "name": "stdout",
     "output_type": "stream",
     "text": [
      "16\n",
      "8\n"
     ]
    },
    {
     "data": {
      "application/vnd.jupyter.widget-view+json": {
       "model_id": "3c7805ac054b42f697637d7383b40e6e",
       "version_major": 2,
       "version_minor": 0
      },
      "text/plain": [
       "  0%|          | 0/40000 [00:00<?, ?it/s]"
      ]
     },
     "metadata": {},
     "output_type": "display_data"
    },
    {
     "name": "stdout",
     "output_type": "stream",
     "text": [
      "16\n",
      "8\n"
     ]
    },
    {
     "data": {
      "application/vnd.jupyter.widget-view+json": {
       "model_id": "48d445dafaa84227ba3ab97bc48e7b7a",
       "version_major": 2,
       "version_minor": 0
      },
      "text/plain": [
       "  0%|          | 0/40000 [00:00<?, ?it/s]"
      ]
     },
     "metadata": {},
     "output_type": "display_data"
    },
    {
     "name": "stdout",
     "output_type": "stream",
     "text": [
      "16\n",
      "8\n"
     ]
    },
    {
     "data": {
      "application/vnd.jupyter.widget-view+json": {
       "model_id": "20f88b2b02fc4c02843c5e6007b194dc",
       "version_major": 2,
       "version_minor": 0
      },
      "text/plain": [
       "  0%|          | 0/40000 [00:00<?, ?it/s]"
      ]
     },
     "metadata": {},
     "output_type": "display_data"
    },
    {
     "name": "stdout",
     "output_type": "stream",
     "text": [
      "16\n",
      "8\n"
     ]
    },
    {
     "data": {
      "application/vnd.jupyter.widget-view+json": {
       "model_id": "e6cd1c50b0ee45b2a38695d0778106f9",
       "version_major": 2,
       "version_minor": 0
      },
      "text/plain": [
       "  0%|          | 0/40000 [00:00<?, ?it/s]"
      ]
     },
     "metadata": {},
     "output_type": "display_data"
    },
    {
     "name": "stdout",
     "output_type": "stream",
     "text": [
      "16\n",
      "8\n"
     ]
    },
    {
     "data": {
      "application/vnd.jupyter.widget-view+json": {
       "model_id": "b122007736494cfc8300654af95cac4d",
       "version_major": 2,
       "version_minor": 0
      },
      "text/plain": [
       "  0%|          | 0/40000 [00:00<?, ?it/s]"
      ]
     },
     "metadata": {},
     "output_type": "display_data"
    },
    {
     "name": "stdout",
     "output_type": "stream",
     "text": [
      "16\n",
      "8\n"
     ]
    },
    {
     "data": {
      "application/vnd.jupyter.widget-view+json": {
       "model_id": "953acd508c6e4ef88474f9abf635bb8d",
       "version_major": 2,
       "version_minor": 0
      },
      "text/plain": [
       "  0%|          | 0/40000 [00:00<?, ?it/s]"
      ]
     },
     "metadata": {},
     "output_type": "display_data"
    },
    {
     "name": "stdout",
     "output_type": "stream",
     "text": [
      "16\n",
      "8\n"
     ]
    },
    {
     "data": {
      "application/vnd.jupyter.widget-view+json": {
       "model_id": "f6baee0dc80241d89f2a8d8a5c801618",
       "version_major": 2,
       "version_minor": 0
      },
      "text/plain": [
       "  0%|          | 0/40000 [00:00<?, ?it/s]"
      ]
     },
     "metadata": {},
     "output_type": "display_data"
    },
    {
     "name": "stdout",
     "output_type": "stream",
     "text": [
      "16\n",
      "8\n"
     ]
    },
    {
     "data": {
      "application/vnd.jupyter.widget-view+json": {
       "model_id": "ed237afd8ed842b7bc6feaab037e443d",
       "version_major": 2,
       "version_minor": 0
      },
      "text/plain": [
       "  0%|          | 0/40000 [00:00<?, ?it/s]"
      ]
     },
     "metadata": {},
     "output_type": "display_data"
    },
    {
     "name": "stdout",
     "output_type": "stream",
     "text": [
      "16\n",
      "8\n"
     ]
    },
    {
     "data": {
      "application/vnd.jupyter.widget-view+json": {
       "model_id": "c786384c66f24fb8b377ebf42799d5e8",
       "version_major": 2,
       "version_minor": 0
      },
      "text/plain": [
       "  0%|          | 0/40000 [00:00<?, ?it/s]"
      ]
     },
     "metadata": {},
     "output_type": "display_data"
    },
    {
     "name": "stdout",
     "output_type": "stream",
     "text": [
      "16\n",
      "8\n"
     ]
    },
    {
     "data": {
      "application/vnd.jupyter.widget-view+json": {
       "model_id": "6ae553f3150d4b62829124f0a5721853",
       "version_major": 2,
       "version_minor": 0
      },
      "text/plain": [
       "  0%|          | 0/40000 [00:00<?, ?it/s]"
      ]
     },
     "metadata": {},
     "output_type": "display_data"
    },
    {
     "name": "stdout",
     "output_type": "stream",
     "text": [
      "16\n",
      "8\n"
     ]
    },
    {
     "data": {
      "application/vnd.jupyter.widget-view+json": {
       "model_id": "3d64a20e19784e9a96adc27222a37b31",
       "version_major": 2,
       "version_minor": 0
      },
      "text/plain": [
       "  0%|          | 0/40000 [00:00<?, ?it/s]"
      ]
     },
     "metadata": {},
     "output_type": "display_data"
    },
    {
     "name": "stdout",
     "output_type": "stream",
     "text": [
      "16\n",
      "8\n"
     ]
    },
    {
     "data": {
      "application/vnd.jupyter.widget-view+json": {
       "model_id": "efd94d6371ec443b9ff887efb8162ddf",
       "version_major": 2,
       "version_minor": 0
      },
      "text/plain": [
       "  0%|          | 0/40000 [00:00<?, ?it/s]"
      ]
     },
     "metadata": {},
     "output_type": "display_data"
    },
    {
     "name": "stdout",
     "output_type": "stream",
     "text": [
      "16\n",
      "8\n"
     ]
    },
    {
     "data": {
      "application/vnd.jupyter.widget-view+json": {
       "model_id": "64bdc209ec0e4b66b24fd0dae88db97d",
       "version_major": 2,
       "version_minor": 0
      },
      "text/plain": [
       "  0%|          | 0/40000 [00:00<?, ?it/s]"
      ]
     },
     "metadata": {},
     "output_type": "display_data"
    },
    {
     "name": "stdout",
     "output_type": "stream",
     "text": [
      "16\n",
      "8\n"
     ]
    },
    {
     "data": {
      "application/vnd.jupyter.widget-view+json": {
       "model_id": "8ac8606b4e8e46d99b97447b309fb01d",
       "version_major": 2,
       "version_minor": 0
      },
      "text/plain": [
       "  0%|          | 0/40000 [00:00<?, ?it/s]"
      ]
     },
     "metadata": {},
     "output_type": "display_data"
    },
    {
     "name": "stdout",
     "output_type": "stream",
     "text": [
      "16\n",
      "8\n"
     ]
    },
    {
     "data": {
      "application/vnd.jupyter.widget-view+json": {
       "model_id": "a55ba25bf92b43ea99f2207e13fc60cb",
       "version_major": 2,
       "version_minor": 0
      },
      "text/plain": [
       "  0%|          | 0/40000 [00:00<?, ?it/s]"
      ]
     },
     "metadata": {},
     "output_type": "display_data"
    },
    {
     "name": "stdout",
     "output_type": "stream",
     "text": [
      "16\n",
      "8\n"
     ]
    },
    {
     "data": {
      "application/vnd.jupyter.widget-view+json": {
       "model_id": "e0326250933a430fb583b736d193473a",
       "version_major": 2,
       "version_minor": 0
      },
      "text/plain": [
       "  0%|          | 0/40000 [00:00<?, ?it/s]"
      ]
     },
     "metadata": {},
     "output_type": "display_data"
    },
    {
     "name": "stdout",
     "output_type": "stream",
     "text": [
      "16\n",
      "8\n"
     ]
    },
    {
     "data": {
      "application/vnd.jupyter.widget-view+json": {
       "model_id": "d473588db2be4841b15f1bccf375983d",
       "version_major": 2,
       "version_minor": 0
      },
      "text/plain": [
       "  0%|          | 0/40000 [00:00<?, ?it/s]"
      ]
     },
     "metadata": {},
     "output_type": "display_data"
    },
    {
     "name": "stdout",
     "output_type": "stream",
     "text": [
      "16\n",
      "8\n"
     ]
    },
    {
     "data": {
      "application/vnd.jupyter.widget-view+json": {
       "model_id": "ae8ce23af59a4ac5b83bd5d28e05afd3",
       "version_major": 2,
       "version_minor": 0
      },
      "text/plain": [
       "  0%|          | 0/40000 [00:00<?, ?it/s]"
      ]
     },
     "metadata": {},
     "output_type": "display_data"
    },
    {
     "name": "stdout",
     "output_type": "stream",
     "text": [
      "16\n",
      "8\n"
     ]
    },
    {
     "data": {
      "application/vnd.jupyter.widget-view+json": {
       "model_id": "6696fcc5dc964334b58f550d3de8f3fc",
       "version_major": 2,
       "version_minor": 0
      },
      "text/plain": [
       "  0%|          | 0/40000 [00:00<?, ?it/s]"
      ]
     },
     "metadata": {},
     "output_type": "display_data"
    },
    {
     "name": "stdout",
     "output_type": "stream",
     "text": [
      "16\n",
      "8\n"
     ]
    },
    {
     "data": {
      "application/vnd.jupyter.widget-view+json": {
       "model_id": "c1bc15f09c2846f8bbc58b26fd08efa2",
       "version_major": 2,
       "version_minor": 0
      },
      "text/plain": [
       "  0%|          | 0/40000 [00:00<?, ?it/s]"
      ]
     },
     "metadata": {},
     "output_type": "display_data"
    },
    {
     "name": "stdout",
     "output_type": "stream",
     "text": [
      "16\n",
      "8\n"
     ]
    },
    {
     "data": {
      "application/vnd.jupyter.widget-view+json": {
       "model_id": "dfd9955ea21a40618da4ed1f675c20dd",
       "version_major": 2,
       "version_minor": 0
      },
      "text/plain": [
       "  0%|          | 0/40000 [00:00<?, ?it/s]"
      ]
     },
     "metadata": {},
     "output_type": "display_data"
    },
    {
     "name": "stdout",
     "output_type": "stream",
     "text": [
      "16\n",
      "8\n"
     ]
    },
    {
     "data": {
      "application/vnd.jupyter.widget-view+json": {
       "model_id": "8af17ec7e94c48098196fc54bbe663d7",
       "version_major": 2,
       "version_minor": 0
      },
      "text/plain": [
       "  0%|          | 0/40000 [00:00<?, ?it/s]"
      ]
     },
     "metadata": {},
     "output_type": "display_data"
    },
    {
     "name": "stdout",
     "output_type": "stream",
     "text": [
      "16\n",
      "8\n"
     ]
    },
    {
     "data": {
      "application/vnd.jupyter.widget-view+json": {
       "model_id": "638987ef3fb44855bc3d2594fac5f149",
       "version_major": 2,
       "version_minor": 0
      },
      "text/plain": [
       "  0%|          | 0/40000 [00:00<?, ?it/s]"
      ]
     },
     "metadata": {},
     "output_type": "display_data"
    },
    {
     "name": "stdout",
     "output_type": "stream",
     "text": [
      "16\n",
      "8\n"
     ]
    },
    {
     "data": {
      "application/vnd.jupyter.widget-view+json": {
       "model_id": "e65daaf7f2f447c98b96d009fe371a97",
       "version_major": 2,
       "version_minor": 0
      },
      "text/plain": [
       "  0%|          | 0/40000 [00:00<?, ?it/s]"
      ]
     },
     "metadata": {},
     "output_type": "display_data"
    },
    {
     "name": "stdout",
     "output_type": "stream",
     "text": [
      "16\n",
      "8\n"
     ]
    },
    {
     "data": {
      "application/vnd.jupyter.widget-view+json": {
       "model_id": "170575a8e3784388869d5130d73236af",
       "version_major": 2,
       "version_minor": 0
      },
      "text/plain": [
       "  0%|          | 0/40000 [00:00<?, ?it/s]"
      ]
     },
     "metadata": {},
     "output_type": "display_data"
    },
    {
     "name": "stdout",
     "output_type": "stream",
     "text": [
      "16\n",
      "8\n"
     ]
    },
    {
     "data": {
      "application/vnd.jupyter.widget-view+json": {
       "model_id": "cf53f2f709234a3493e95ed65172c21c",
       "version_major": 2,
       "version_minor": 0
      },
      "text/plain": [
       "  0%|          | 0/40000 [00:00<?, ?it/s]"
      ]
     },
     "metadata": {},
     "output_type": "display_data"
    },
    {
     "name": "stdout",
     "output_type": "stream",
     "text": [
      "16\n",
      "8\n"
     ]
    },
    {
     "data": {
      "application/vnd.jupyter.widget-view+json": {
       "model_id": "2bcf5619aab34359ad4b65bd34d158b0",
       "version_major": 2,
       "version_minor": 0
      },
      "text/plain": [
       "  0%|          | 0/40000 [00:00<?, ?it/s]"
      ]
     },
     "metadata": {},
     "output_type": "display_data"
    },
    {
     "name": "stdout",
     "output_type": "stream",
     "text": [
      "16\n",
      "8\n",
      "2\n"
     ]
    },
    {
     "data": {
      "application/vnd.jupyter.widget-view+json": {
       "model_id": "8545e82e357f4af494ec291d0e71727e",
       "version_major": 2,
       "version_minor": 0
      },
      "text/plain": [
       "  0%|          | 0/40000 [00:00<?, ?it/s]"
      ]
     },
     "metadata": {},
     "output_type": "display_data"
    },
    {
     "name": "stdout",
     "output_type": "stream",
     "text": [
      "32\n",
      "8\n",
      "16\n"
     ]
    },
    {
     "data": {
      "application/vnd.jupyter.widget-view+json": {
       "model_id": "62ea55a3da22433a9155e293445b8fdb",
       "version_major": 2,
       "version_minor": 0
      },
      "text/plain": [
       "  0%|          | 0/40000 [00:00<?, ?it/s]"
      ]
     },
     "metadata": {},
     "output_type": "display_data"
    },
    {
     "name": "stdout",
     "output_type": "stream",
     "text": [
      "32\n",
      "16\n",
      "8\n"
     ]
    },
    {
     "data": {
      "application/vnd.jupyter.widget-view+json": {
       "model_id": "5a8e0ee9e66c4c619a79c0bd7352a5c2",
       "version_major": 2,
       "version_minor": 0
      },
      "text/plain": [
       "  0%|          | 0/40000 [00:00<?, ?it/s]"
      ]
     },
     "metadata": {},
     "output_type": "display_data"
    },
    {
     "name": "stdout",
     "output_type": "stream",
     "text": [
      "32\n",
      "16\n",
      "8\n"
     ]
    },
    {
     "data": {
      "application/vnd.jupyter.widget-view+json": {
       "model_id": "4b80eb73e627477ca4b0dc476389526e",
       "version_major": 2,
       "version_minor": 0
      },
      "text/plain": [
       "  0%|          | 0/40000 [00:00<?, ?it/s]"
      ]
     },
     "metadata": {},
     "output_type": "display_data"
    },
    {
     "name": "stdout",
     "output_type": "stream",
     "text": [
      "32\n",
      "8\n",
      "16\n"
     ]
    },
    {
     "data": {
      "application/vnd.jupyter.widget-view+json": {
       "model_id": "e76932c18356452dac260bf3fca95eb9",
       "version_major": 2,
       "version_minor": 0
      },
      "text/plain": [
       "  0%|          | 0/40000 [00:00<?, ?it/s]"
      ]
     },
     "metadata": {},
     "output_type": "display_data"
    },
    {
     "name": "stdout",
     "output_type": "stream",
     "text": [
      "16\n",
      "32\n",
      "8\n"
     ]
    },
    {
     "data": {
      "application/vnd.jupyter.widget-view+json": {
       "model_id": "ceffaf894cde4544ae2944fc6ce2d636",
       "version_major": 2,
       "version_minor": 0
      },
      "text/plain": [
       "  0%|          | 0/40000 [00:00<?, ?it/s]"
      ]
     },
     "metadata": {},
     "output_type": "display_data"
    },
    {
     "name": "stdout",
     "output_type": "stream",
     "text": [
      "32\n",
      "16\n",
      "8\n"
     ]
    },
    {
     "data": {
      "application/vnd.jupyter.widget-view+json": {
       "model_id": "b522732874f047a5b9e057ed65e029f8",
       "version_major": 2,
       "version_minor": 0
      },
      "text/plain": [
       "  0%|          | 0/40000 [00:00<?, ?it/s]"
      ]
     },
     "metadata": {},
     "output_type": "display_data"
    },
    {
     "name": "stdout",
     "output_type": "stream",
     "text": [
      "32\n",
      "8\n",
      "16\n"
     ]
    },
    {
     "data": {
      "application/vnd.jupyter.widget-view+json": {
       "model_id": "a42b196f46534d34b447c7c31799efd3",
       "version_major": 2,
       "version_minor": 0
      },
      "text/plain": [
       "  0%|          | 0/40000 [00:00<?, ?it/s]"
      ]
     },
     "metadata": {},
     "output_type": "display_data"
    },
    {
     "name": "stdout",
     "output_type": "stream",
     "text": [
      "32\n",
      "16\n",
      "8\n"
     ]
    },
    {
     "data": {
      "application/vnd.jupyter.widget-view+json": {
       "model_id": "2f4da2bdb55648f0afb3f01baf9b3388",
       "version_major": 2,
       "version_minor": 0
      },
      "text/plain": [
       "  0%|          | 0/40000 [00:00<?, ?it/s]"
      ]
     },
     "metadata": {},
     "output_type": "display_data"
    },
    {
     "name": "stdout",
     "output_type": "stream",
     "text": [
      "32\n",
      "16\n",
      "8\n"
     ]
    },
    {
     "data": {
      "application/vnd.jupyter.widget-view+json": {
       "model_id": "4039790837aa40ffbbff9d66e903812e",
       "version_major": 2,
       "version_minor": 0
      },
      "text/plain": [
       "  0%|          | 0/40000 [00:00<?, ?it/s]"
      ]
     },
     "metadata": {},
     "output_type": "display_data"
    },
    {
     "name": "stdout",
     "output_type": "stream",
     "text": [
      "32\n",
      "8\n",
      "16\n"
     ]
    },
    {
     "data": {
      "application/vnd.jupyter.widget-view+json": {
       "model_id": "d046811ad0234cbd94f0397610c031fc",
       "version_major": 2,
       "version_minor": 0
      },
      "text/plain": [
       "  0%|          | 0/40000 [00:00<?, ?it/s]"
      ]
     },
     "metadata": {},
     "output_type": "display_data"
    },
    {
     "name": "stdout",
     "output_type": "stream",
     "text": [
      "32\n",
      "8\n",
      "16\n"
     ]
    },
    {
     "data": {
      "application/vnd.jupyter.widget-view+json": {
       "model_id": "0915013a091249aaa0e49699df001f98",
       "version_major": 2,
       "version_minor": 0
      },
      "text/plain": [
       "  0%|          | 0/40000 [00:00<?, ?it/s]"
      ]
     },
     "metadata": {},
     "output_type": "display_data"
    },
    {
     "name": "stdout",
     "output_type": "stream",
     "text": [
      "16\n",
      "32\n",
      "8\n"
     ]
    },
    {
     "data": {
      "application/vnd.jupyter.widget-view+json": {
       "model_id": "ec96db7ebf6242a091081f779003c353",
       "version_major": 2,
       "version_minor": 0
      },
      "text/plain": [
       "  0%|          | 0/40000 [00:00<?, ?it/s]"
      ]
     },
     "metadata": {},
     "output_type": "display_data"
    },
    {
     "name": "stdout",
     "output_type": "stream",
     "text": [
      "16\n",
      "32\n",
      "8\n"
     ]
    },
    {
     "data": {
      "application/vnd.jupyter.widget-view+json": {
       "model_id": "dc5a0c8b7b744f59ab472801ce8ca670",
       "version_major": 2,
       "version_minor": 0
      },
      "text/plain": [
       "  0%|          | 0/40000 [00:00<?, ?it/s]"
      ]
     },
     "metadata": {},
     "output_type": "display_data"
    },
    {
     "name": "stdout",
     "output_type": "stream",
     "text": [
      "32\n",
      "8\n",
      "16\n"
     ]
    },
    {
     "data": {
      "application/vnd.jupyter.widget-view+json": {
       "model_id": "a3e9b5f0d8a346ad83d6c1f2394b5ac9",
       "version_major": 2,
       "version_minor": 0
      },
      "text/plain": [
       "  0%|          | 0/40000 [00:00<?, ?it/s]"
      ]
     },
     "metadata": {},
     "output_type": "display_data"
    },
    {
     "name": "stdout",
     "output_type": "stream",
     "text": [
      "32\n",
      "8\n",
      "16\n"
     ]
    },
    {
     "data": {
      "application/vnd.jupyter.widget-view+json": {
       "model_id": "86715007277842259252064e64342705",
       "version_major": 2,
       "version_minor": 0
      },
      "text/plain": [
       "  0%|          | 0/40000 [00:00<?, ?it/s]"
      ]
     },
     "metadata": {},
     "output_type": "display_data"
    },
    {
     "name": "stdout",
     "output_type": "stream",
     "text": [
      "32\n",
      "8\n",
      "16\n"
     ]
    },
    {
     "data": {
      "application/vnd.jupyter.widget-view+json": {
       "model_id": "33a6efdfa5d849d68f5e52e4ac0ef473",
       "version_major": 2,
       "version_minor": 0
      },
      "text/plain": [
       "  0%|          | 0/40000 [00:00<?, ?it/s]"
      ]
     },
     "metadata": {},
     "output_type": "display_data"
    },
    {
     "name": "stdout",
     "output_type": "stream",
     "text": [
      "32\n",
      "8\n",
      "16\n"
     ]
    },
    {
     "data": {
      "application/vnd.jupyter.widget-view+json": {
       "model_id": "4ec8f3ffad61438381d51c2f85632232",
       "version_major": 2,
       "version_minor": 0
      },
      "text/plain": [
       "  0%|          | 0/40000 [00:00<?, ?it/s]"
      ]
     },
     "metadata": {},
     "output_type": "display_data"
    },
    {
     "name": "stdout",
     "output_type": "stream",
     "text": [
      "32\n",
      "8\n",
      "16\n"
     ]
    },
    {
     "data": {
      "application/vnd.jupyter.widget-view+json": {
       "model_id": "fa17634039834155bd70ad6628737bd0",
       "version_major": 2,
       "version_minor": 0
      },
      "text/plain": [
       "  0%|          | 0/40000 [00:00<?, ?it/s]"
      ]
     },
     "metadata": {},
     "output_type": "display_data"
    },
    {
     "name": "stdout",
     "output_type": "stream",
     "text": [
      "32\n",
      "8\n",
      "16\n"
     ]
    },
    {
     "data": {
      "application/vnd.jupyter.widget-view+json": {
       "model_id": "caf0fff4e4dc4df18b0f076565c52b38",
       "version_major": 2,
       "version_minor": 0
      },
      "text/plain": [
       "  0%|          | 0/40000 [00:00<?, ?it/s]"
      ]
     },
     "metadata": {},
     "output_type": "display_data"
    },
    {
     "name": "stdout",
     "output_type": "stream",
     "text": [
      "32\n",
      "8\n",
      "16\n"
     ]
    },
    {
     "data": {
      "application/vnd.jupyter.widget-view+json": {
       "model_id": "bf704063be1046239c975a04dbef7aca",
       "version_major": 2,
       "version_minor": 0
      },
      "text/plain": [
       "  0%|          | 0/40000 [00:00<?, ?it/s]"
      ]
     },
     "metadata": {},
     "output_type": "display_data"
    },
    {
     "name": "stdout",
     "output_type": "stream",
     "text": [
      "32\n",
      "8\n",
      "16\n"
     ]
    },
    {
     "data": {
      "application/vnd.jupyter.widget-view+json": {
       "model_id": "3ba317da977f498c8200028a7bdfb114",
       "version_major": 2,
       "version_minor": 0
      },
      "text/plain": [
       "  0%|          | 0/40000 [00:00<?, ?it/s]"
      ]
     },
     "metadata": {},
     "output_type": "display_data"
    },
    {
     "name": "stdout",
     "output_type": "stream",
     "text": [
      "32\n",
      "8\n",
      "16\n"
     ]
    },
    {
     "data": {
      "application/vnd.jupyter.widget-view+json": {
       "model_id": "8153e63351e74849ba15e1261edb4459",
       "version_major": 2,
       "version_minor": 0
      },
      "text/plain": [
       "  0%|          | 0/40000 [00:00<?, ?it/s]"
      ]
     },
     "metadata": {},
     "output_type": "display_data"
    },
    {
     "name": "stdout",
     "output_type": "stream",
     "text": [
      "32\n",
      "8\n",
      "16\n"
     ]
    },
    {
     "data": {
      "application/vnd.jupyter.widget-view+json": {
       "model_id": "6e18127d2f604e69a99fc971342dd51e",
       "version_major": 2,
       "version_minor": 0
      },
      "text/plain": [
       "  0%|          | 0/40000 [00:00<?, ?it/s]"
      ]
     },
     "metadata": {},
     "output_type": "display_data"
    },
    {
     "name": "stdout",
     "output_type": "stream",
     "text": [
      "32\n",
      "16\n",
      "8\n"
     ]
    },
    {
     "data": {
      "application/vnd.jupyter.widget-view+json": {
       "model_id": "24cde77985314663aa5a17a59d2c6479",
       "version_major": 2,
       "version_minor": 0
      },
      "text/plain": [
       "  0%|          | 0/40000 [00:00<?, ?it/s]"
      ]
     },
     "metadata": {},
     "output_type": "display_data"
    },
    {
     "name": "stdout",
     "output_type": "stream",
     "text": [
      "32\n",
      "8\n",
      "16\n"
     ]
    },
    {
     "data": {
      "application/vnd.jupyter.widget-view+json": {
       "model_id": "829ba9c1963743e1af7c9709c781d73c",
       "version_major": 2,
       "version_minor": 0
      },
      "text/plain": [
       "  0%|          | 0/40000 [00:00<?, ?it/s]"
      ]
     },
     "metadata": {},
     "output_type": "display_data"
    },
    {
     "name": "stdout",
     "output_type": "stream",
     "text": [
      "32\n",
      "8\n",
      "16\n"
     ]
    },
    {
     "data": {
      "application/vnd.jupyter.widget-view+json": {
       "model_id": "ba68f888e5b54756a952c7a54a8be847",
       "version_major": 2,
       "version_minor": 0
      },
      "text/plain": [
       "  0%|          | 0/40000 [00:00<?, ?it/s]"
      ]
     },
     "metadata": {},
     "output_type": "display_data"
    },
    {
     "name": "stdout",
     "output_type": "stream",
     "text": [
      "32\n",
      "8\n",
      "16\n"
     ]
    },
    {
     "data": {
      "application/vnd.jupyter.widget-view+json": {
       "model_id": "1e2086dea23c4cc199dd8d7e8d5c1713",
       "version_major": 2,
       "version_minor": 0
      },
      "text/plain": [
       "  0%|          | 0/40000 [00:00<?, ?it/s]"
      ]
     },
     "metadata": {},
     "output_type": "display_data"
    },
    {
     "name": "stdout",
     "output_type": "stream",
     "text": [
      "32\n",
      "8\n",
      "16\n"
     ]
    },
    {
     "data": {
      "application/vnd.jupyter.widget-view+json": {
       "model_id": "66a638453a5343518c9f9333cb4b07fc",
       "version_major": 2,
       "version_minor": 0
      },
      "text/plain": [
       "  0%|          | 0/40000 [00:00<?, ?it/s]"
      ]
     },
     "metadata": {},
     "output_type": "display_data"
    },
    {
     "name": "stdout",
     "output_type": "stream",
     "text": [
      "16\n",
      "32\n",
      "8\n"
     ]
    },
    {
     "data": {
      "application/vnd.jupyter.widget-view+json": {
       "model_id": "541fbca8f5e7477ea922886f9827f759",
       "version_major": 2,
       "version_minor": 0
      },
      "text/plain": [
       "  0%|          | 0/40000 [00:00<?, ?it/s]"
      ]
     },
     "metadata": {},
     "output_type": "display_data"
    },
    {
     "name": "stdout",
     "output_type": "stream",
     "text": [
      "32\n",
      "16\n",
      "8\n",
      "3\n"
     ]
    },
    {
     "data": {
      "application/vnd.jupyter.widget-view+json": {
       "model_id": "1c0825f33a24447f8fc2fc9eb5ba49e3",
       "version_major": 2,
       "version_minor": 0
      },
      "text/plain": [
       "  0%|          | 0/40000 [00:00<?, ?it/s]"
      ]
     },
     "metadata": {},
     "output_type": "display_data"
    },
    {
     "name": "stdout",
     "output_type": "stream",
     "text": [
      "64\n",
      "8\n",
      "16\n",
      "32\n"
     ]
    },
    {
     "data": {
      "application/vnd.jupyter.widget-view+json": {
       "model_id": "f15df3ee880a47d597e12562e822e984",
       "version_major": 2,
       "version_minor": 0
      },
      "text/plain": [
       "  0%|          | 0/40000 [00:00<?, ?it/s]"
      ]
     },
     "metadata": {},
     "output_type": "display_data"
    },
    {
     "name": "stdout",
     "output_type": "stream",
     "text": [
      "64\n",
      "16\n",
      "8\n",
      "32\n"
     ]
    },
    {
     "data": {
      "application/vnd.jupyter.widget-view+json": {
       "model_id": "7e04b880edb44650a1010e714fc47845",
       "version_major": 2,
       "version_minor": 0
      },
      "text/plain": [
       "  0%|          | 0/40000 [00:00<?, ?it/s]"
      ]
     },
     "metadata": {},
     "output_type": "display_data"
    },
    {
     "name": "stdout",
     "output_type": "stream",
     "text": [
      "64\n",
      "16\n",
      "8\n",
      "32\n"
     ]
    },
    {
     "data": {
      "application/vnd.jupyter.widget-view+json": {
       "model_id": "081e3be3786f4a8f9240d4a5d3535ce5",
       "version_major": 2,
       "version_minor": 0
      },
      "text/plain": [
       "  0%|          | 0/40000 [00:00<?, ?it/s]"
      ]
     },
     "metadata": {},
     "output_type": "display_data"
    },
    {
     "name": "stdout",
     "output_type": "stream",
     "text": [
      "64\n",
      "8\n",
      "16\n",
      "32\n"
     ]
    },
    {
     "data": {
      "application/vnd.jupyter.widget-view+json": {
       "model_id": "54080691592c43b19c0dc6b3e619763a",
       "version_major": 2,
       "version_minor": 0
      },
      "text/plain": [
       "  0%|          | 0/40000 [00:00<?, ?it/s]"
      ]
     },
     "metadata": {},
     "output_type": "display_data"
    },
    {
     "name": "stdout",
     "output_type": "stream",
     "text": [
      "16\n",
      "64\n",
      "8\n",
      "32\n"
     ]
    },
    {
     "data": {
      "application/vnd.jupyter.widget-view+json": {
       "model_id": "51b2607b3b6e496d83344f57b73c244c",
       "version_major": 2,
       "version_minor": 0
      },
      "text/plain": [
       "  0%|          | 0/40000 [00:00<?, ?it/s]"
      ]
     },
     "metadata": {},
     "output_type": "display_data"
    },
    {
     "name": "stdout",
     "output_type": "stream",
     "text": [
      "32\n",
      "16\n",
      "8\n",
      "64\n"
     ]
    },
    {
     "data": {
      "application/vnd.jupyter.widget-view+json": {
       "model_id": "1127b5f22efb4d108d8c43be59f1d656",
       "version_major": 2,
       "version_minor": 0
      },
      "text/plain": [
       "  0%|          | 0/40000 [00:00<?, ?it/s]"
      ]
     },
     "metadata": {},
     "output_type": "display_data"
    },
    {
     "name": "stdout",
     "output_type": "stream",
     "text": [
      "64\n",
      "8\n",
      "16\n",
      "32\n"
     ]
    },
    {
     "data": {
      "application/vnd.jupyter.widget-view+json": {
       "model_id": "3d8684d4967c42a68ca491c0a26a3760",
       "version_major": 2,
       "version_minor": 0
      },
      "text/plain": [
       "  0%|          | 0/40000 [00:00<?, ?it/s]"
      ]
     },
     "metadata": {},
     "output_type": "display_data"
    },
    {
     "name": "stdout",
     "output_type": "stream",
     "text": [
      "64\n",
      "16\n",
      "8\n",
      "32\n"
     ]
    },
    {
     "data": {
      "application/vnd.jupyter.widget-view+json": {
       "model_id": "86aa2880a4d742caae2d1992567760ce",
       "version_major": 2,
       "version_minor": 0
      },
      "text/plain": [
       "  0%|          | 0/40000 [00:00<?, ?it/s]"
      ]
     },
     "metadata": {},
     "output_type": "display_data"
    },
    {
     "name": "stdout",
     "output_type": "stream",
     "text": [
      "64\n",
      "16\n",
      "8\n",
      "32\n"
     ]
    },
    {
     "data": {
      "application/vnd.jupyter.widget-view+json": {
       "model_id": "be77689007bd481face318d2ce6a14d8",
       "version_major": 2,
       "version_minor": 0
      },
      "text/plain": [
       "  0%|          | 0/40000 [00:00<?, ?it/s]"
      ]
     },
     "metadata": {},
     "output_type": "display_data"
    },
    {
     "name": "stdout",
     "output_type": "stream",
     "text": [
      "64\n",
      "8\n",
      "16\n",
      "32\n"
     ]
    },
    {
     "data": {
      "application/vnd.jupyter.widget-view+json": {
       "model_id": "0e0c7cd7581e475cbb7e265fca00a63f",
       "version_major": 2,
       "version_minor": 0
      },
      "text/plain": [
       "  0%|          | 0/40000 [00:00<?, ?it/s]"
      ]
     },
     "metadata": {},
     "output_type": "display_data"
    },
    {
     "name": "stdout",
     "output_type": "stream",
     "text": [
      "64\n",
      "8\n",
      "16\n",
      "32\n"
     ]
    },
    {
     "data": {
      "application/vnd.jupyter.widget-view+json": {
       "model_id": "de87c4a4aac7409e88d28551524e620d",
       "version_major": 2,
       "version_minor": 0
      },
      "text/plain": [
       "  0%|          | 0/40000 [00:00<?, ?it/s]"
      ]
     },
     "metadata": {},
     "output_type": "display_data"
    },
    {
     "name": "stdout",
     "output_type": "stream",
     "text": [
      "16\n",
      "64\n",
      "8\n",
      "32\n"
     ]
    },
    {
     "data": {
      "application/vnd.jupyter.widget-view+json": {
       "model_id": "1f8b51ca5c484136931270416cff6015",
       "version_major": 2,
       "version_minor": 0
      },
      "text/plain": [
       "  0%|          | 0/40000 [00:00<?, ?it/s]"
      ]
     },
     "metadata": {},
     "output_type": "display_data"
    },
    {
     "name": "stdout",
     "output_type": "stream",
     "text": [
      "16\n",
      "64\n",
      "8\n",
      "32\n"
     ]
    },
    {
     "data": {
      "application/vnd.jupyter.widget-view+json": {
       "model_id": "a8a104160ee9410eaa28abf0719aff22",
       "version_major": 2,
       "version_minor": 0
      },
      "text/plain": [
       "  0%|          | 0/40000 [00:00<?, ?it/s]"
      ]
     },
     "metadata": {},
     "output_type": "display_data"
    },
    {
     "name": "stdout",
     "output_type": "stream",
     "text": [
      "64\n",
      "8\n",
      "16\n",
      "32\n"
     ]
    },
    {
     "data": {
      "application/vnd.jupyter.widget-view+json": {
       "model_id": "116d7a8bdff24cf5929c65888f83febc",
       "version_major": 2,
       "version_minor": 0
      },
      "text/plain": [
       "  0%|          | 0/40000 [00:00<?, ?it/s]"
      ]
     },
     "metadata": {},
     "output_type": "display_data"
    },
    {
     "name": "stdout",
     "output_type": "stream",
     "text": [
      "64\n",
      "8\n",
      "16\n",
      "32\n"
     ]
    },
    {
     "data": {
      "application/vnd.jupyter.widget-view+json": {
       "model_id": "e1a259c4f8224a9a990eac311af91e6a",
       "version_major": 2,
       "version_minor": 0
      },
      "text/plain": [
       "  0%|          | 0/40000 [00:00<?, ?it/s]"
      ]
     },
     "metadata": {},
     "output_type": "display_data"
    },
    {
     "name": "stdout",
     "output_type": "stream",
     "text": [
      "64\n",
      "8\n",
      "16\n",
      "32\n"
     ]
    },
    {
     "data": {
      "application/vnd.jupyter.widget-view+json": {
       "model_id": "b6113127fac4462685256081d2a3bf6f",
       "version_major": 2,
       "version_minor": 0
      },
      "text/plain": [
       "  0%|          | 0/40000 [00:00<?, ?it/s]"
      ]
     },
     "metadata": {},
     "output_type": "display_data"
    },
    {
     "name": "stdout",
     "output_type": "stream",
     "text": [
      "64\n",
      "8\n",
      "16\n",
      "32\n"
     ]
    },
    {
     "data": {
      "application/vnd.jupyter.widget-view+json": {
       "model_id": "b6fe0645eb6d4f018541680bc9076bef",
       "version_major": 2,
       "version_minor": 0
      },
      "text/plain": [
       "  0%|          | 0/40000 [00:00<?, ?it/s]"
      ]
     },
     "metadata": {},
     "output_type": "display_data"
    },
    {
     "name": "stdout",
     "output_type": "stream",
     "text": [
      "64\n",
      "8\n",
      "16\n",
      "32\n"
     ]
    },
    {
     "data": {
      "application/vnd.jupyter.widget-view+json": {
       "model_id": "3128e68f2ba04bc88c3dbea11b9e7ed9",
       "version_major": 2,
       "version_minor": 0
      },
      "text/plain": [
       "  0%|          | 0/40000 [00:00<?, ?it/s]"
      ]
     },
     "metadata": {},
     "output_type": "display_data"
    },
    {
     "name": "stdout",
     "output_type": "stream",
     "text": [
      "64\n",
      "8\n",
      "16\n",
      "32\n"
     ]
    },
    {
     "data": {
      "application/vnd.jupyter.widget-view+json": {
       "model_id": "b7ee2adbc8f243efa8519e8cd1d06688",
       "version_major": 2,
       "version_minor": 0
      },
      "text/plain": [
       "  0%|          | 0/40000 [00:00<?, ?it/s]"
      ]
     },
     "metadata": {},
     "output_type": "display_data"
    },
    {
     "name": "stdout",
     "output_type": "stream",
     "text": [
      "64\n",
      "8\n",
      "16\n",
      "32\n"
     ]
    },
    {
     "data": {
      "application/vnd.jupyter.widget-view+json": {
       "model_id": "909a72a2dc9a4c7c98a18ba18ce7afc3",
       "version_major": 2,
       "version_minor": 0
      },
      "text/plain": [
       "  0%|          | 0/40000 [00:00<?, ?it/s]"
      ]
     },
     "metadata": {},
     "output_type": "display_data"
    },
    {
     "name": "stdout",
     "output_type": "stream",
     "text": [
      "64\n",
      "8\n",
      "16\n",
      "32\n"
     ]
    },
    {
     "data": {
      "application/vnd.jupyter.widget-view+json": {
       "model_id": "1455fd8d2e3d404f81bbceb2f9d7eab8",
       "version_major": 2,
       "version_minor": 0
      },
      "text/plain": [
       "  0%|          | 0/40000 [00:00<?, ?it/s]"
      ]
     },
     "metadata": {},
     "output_type": "display_data"
    },
    {
     "name": "stdout",
     "output_type": "stream",
     "text": [
      "64\n",
      "8\n",
      "16\n",
      "32\n"
     ]
    },
    {
     "data": {
      "application/vnd.jupyter.widget-view+json": {
       "model_id": "576101abf7ce44c5950c85a4a211d5e9",
       "version_major": 2,
       "version_minor": 0
      },
      "text/plain": [
       "  0%|          | 0/40000 [00:00<?, ?it/s]"
      ]
     },
     "metadata": {},
     "output_type": "display_data"
    },
    {
     "name": "stdout",
     "output_type": "stream",
     "text": [
      "64\n",
      "8\n",
      "16\n",
      "32\n"
     ]
    },
    {
     "data": {
      "application/vnd.jupyter.widget-view+json": {
       "model_id": "4b0278d8b07d40778bab5f8e4cd7727c",
       "version_major": 2,
       "version_minor": 0
      },
      "text/plain": [
       "  0%|          | 0/40000 [00:00<?, ?it/s]"
      ]
     },
     "metadata": {},
     "output_type": "display_data"
    },
    {
     "name": "stdout",
     "output_type": "stream",
     "text": [
      "64\n",
      "16\n",
      "8\n",
      "32\n"
     ]
    },
    {
     "data": {
      "application/vnd.jupyter.widget-view+json": {
       "model_id": "1eb9f5a30ad545389ed8cc3ebeb5d761",
       "version_major": 2,
       "version_minor": 0
      },
      "text/plain": [
       "  0%|          | 0/40000 [00:00<?, ?it/s]"
      ]
     },
     "metadata": {},
     "output_type": "display_data"
    },
    {
     "name": "stdout",
     "output_type": "stream",
     "text": [
      "64\n",
      "8\n",
      "16\n",
      "32\n"
     ]
    },
    {
     "data": {
      "application/vnd.jupyter.widget-view+json": {
       "model_id": "98ef566d060b40dd881eb9069614a2d8",
       "version_major": 2,
       "version_minor": 0
      },
      "text/plain": [
       "  0%|          | 0/40000 [00:00<?, ?it/s]"
      ]
     },
     "metadata": {},
     "output_type": "display_data"
    },
    {
     "name": "stdout",
     "output_type": "stream",
     "text": [
      "64\n",
      "8\n",
      "16\n",
      "32\n"
     ]
    },
    {
     "data": {
      "application/vnd.jupyter.widget-view+json": {
       "model_id": "dbf65c53f2d049feb236a690d7d431f8",
       "version_major": 2,
       "version_minor": 0
      },
      "text/plain": [
       "  0%|          | 0/40000 [00:00<?, ?it/s]"
      ]
     },
     "metadata": {},
     "output_type": "display_data"
    },
    {
     "name": "stdout",
     "output_type": "stream",
     "text": [
      "64\n",
      "8\n",
      "16\n",
      "32\n"
     ]
    },
    {
     "data": {
      "application/vnd.jupyter.widget-view+json": {
       "model_id": "2f80e46f41d9465b9587579d682c7eff",
       "version_major": 2,
       "version_minor": 0
      },
      "text/plain": [
       "  0%|          | 0/40000 [00:00<?, ?it/s]"
      ]
     },
     "metadata": {},
     "output_type": "display_data"
    },
    {
     "name": "stdout",
     "output_type": "stream",
     "text": [
      "64\n",
      "8\n",
      "16\n",
      "32\n"
     ]
    },
    {
     "data": {
      "application/vnd.jupyter.widget-view+json": {
       "model_id": "c8211c27cf5a4791af07047d5a0f9540",
       "version_major": 2,
       "version_minor": 0
      },
      "text/plain": [
       "  0%|          | 0/40000 [00:00<?, ?it/s]"
      ]
     },
     "metadata": {},
     "output_type": "display_data"
    },
    {
     "name": "stdout",
     "output_type": "stream",
     "text": [
      "16\n",
      "64\n",
      "8\n",
      "32\n"
     ]
    },
    {
     "data": {
      "application/vnd.jupyter.widget-view+json": {
       "model_id": "2ae8bccef286422f9edd874abf1bf765",
       "version_major": 2,
       "version_minor": 0
      },
      "text/plain": [
       "  0%|          | 0/40000 [00:00<?, ?it/s]"
      ]
     },
     "metadata": {},
     "output_type": "display_data"
    },
    {
     "name": "stdout",
     "output_type": "stream",
     "text": [
      "64\n",
      "16\n",
      "8\n",
      "32\n",
      "4\n"
     ]
    },
    {
     "data": {
      "application/vnd.jupyter.widget-view+json": {
       "model_id": "015869cfbacb47bb95916af5cc7a7906",
       "version_major": 2,
       "version_minor": 0
      },
      "text/plain": [
       "  0%|          | 0/40000 [00:00<?, ?it/s]"
      ]
     },
     "metadata": {},
     "output_type": "display_data"
    },
    {
     "name": "stdout",
     "output_type": "stream",
     "text": [
      "64\n",
      "8\n",
      "16\n",
      "32\n",
      "128\n"
     ]
    },
    {
     "data": {
      "application/vnd.jupyter.widget-view+json": {
       "model_id": "91137697f4114feca0c71728fc4d3a1d",
       "version_major": 2,
       "version_minor": 0
      },
      "text/plain": [
       "  0%|          | 0/40000 [00:00<?, ?it/s]"
      ]
     },
     "metadata": {},
     "output_type": "display_data"
    },
    {
     "name": "stdout",
     "output_type": "stream",
     "text": [
      "128\n",
      "16\n",
      "8\n",
      "32\n",
      "64\n"
     ]
    },
    {
     "data": {
      "application/vnd.jupyter.widget-view+json": {
       "model_id": "ee52e7141096481b9ff5b2a2ebc3f456",
       "version_major": 2,
       "version_minor": 0
      },
      "text/plain": [
       "  0%|          | 0/40000 [00:00<?, ?it/s]"
      ]
     },
     "metadata": {},
     "output_type": "display_data"
    },
    {
     "name": "stdout",
     "output_type": "stream",
     "text": [
      "64\n",
      "16\n",
      "8\n",
      "32\n",
      "128\n"
     ]
    },
    {
     "data": {
      "application/vnd.jupyter.widget-view+json": {
       "model_id": "85a78de5a9a9454295acf7f58102d269",
       "version_major": 2,
       "version_minor": 0
      },
      "text/plain": [
       "  0%|          | 0/40000 [00:00<?, ?it/s]"
      ]
     },
     "metadata": {},
     "output_type": "display_data"
    },
    {
     "name": "stdout",
     "output_type": "stream",
     "text": [
      "128\n",
      "8\n",
      "16\n",
      "32\n",
      "64\n"
     ]
    },
    {
     "data": {
      "application/vnd.jupyter.widget-view+json": {
       "model_id": "462abeaa8d1f472d9dff1b227ddbc5b1",
       "version_major": 2,
       "version_minor": 0
      },
      "text/plain": [
       "  0%|          | 0/40000 [00:00<?, ?it/s]"
      ]
     },
     "metadata": {},
     "output_type": "display_data"
    },
    {
     "name": "stdout",
     "output_type": "stream",
     "text": [
      "16\n",
      "128\n",
      "8\n",
      "32\n",
      "64\n"
     ]
    },
    {
     "data": {
      "application/vnd.jupyter.widget-view+json": {
       "model_id": "40c0ac8785e743d29aa78832715f6b04",
       "version_major": 2,
       "version_minor": 0
      },
      "text/plain": [
       "  0%|          | 0/40000 [00:00<?, ?it/s]"
      ]
     },
     "metadata": {},
     "output_type": "display_data"
    },
    {
     "name": "stdout",
     "output_type": "stream",
     "text": [
      "32\n",
      "16\n",
      "8\n",
      "128\n",
      "64\n"
     ]
    },
    {
     "data": {
      "application/vnd.jupyter.widget-view+json": {
       "model_id": "748a4b89102e44589d30ee2a87ed66bc",
       "version_major": 2,
       "version_minor": 0
      },
      "text/plain": [
       "  0%|          | 0/40000 [00:00<?, ?it/s]"
      ]
     },
     "metadata": {},
     "output_type": "display_data"
    },
    {
     "name": "stdout",
     "output_type": "stream",
     "text": [
      "64\n",
      "8\n",
      "16\n",
      "32\n",
      "128\n"
     ]
    },
    {
     "data": {
      "application/vnd.jupyter.widget-view+json": {
       "model_id": "d00f86aaf28742a88085a87482c2036d",
       "version_major": 2,
       "version_minor": 0
      },
      "text/plain": [
       "  0%|          | 0/40000 [00:00<?, ?it/s]"
      ]
     },
     "metadata": {},
     "output_type": "display_data"
    },
    {
     "name": "stdout",
     "output_type": "stream",
     "text": [
      "128\n",
      "16\n",
      "8\n",
      "64\n",
      "32\n"
     ]
    },
    {
     "data": {
      "application/vnd.jupyter.widget-view+json": {
       "model_id": "efe6d3bd242043a78fc05f06ebc069df",
       "version_major": 2,
       "version_minor": 0
      },
      "text/plain": [
       "  0%|          | 0/40000 [00:00<?, ?it/s]"
      ]
     },
     "metadata": {},
     "output_type": "display_data"
    },
    {
     "name": "stdout",
     "output_type": "stream",
     "text": [
      "128\n",
      "16\n",
      "8\n",
      "32\n",
      "64\n"
     ]
    },
    {
     "data": {
      "application/vnd.jupyter.widget-view+json": {
       "model_id": "fdffc92cf43a4806bf35f2eaba89455a",
       "version_major": 2,
       "version_minor": 0
      },
      "text/plain": [
       "  0%|          | 0/40000 [00:00<?, ?it/s]"
      ]
     },
     "metadata": {},
     "output_type": "display_data"
    },
    {
     "name": "stdout",
     "output_type": "stream",
     "text": [
      "128\n",
      "8\n",
      "16\n",
      "32\n",
      "64\n"
     ]
    },
    {
     "data": {
      "application/vnd.jupyter.widget-view+json": {
       "model_id": "3579307ad24c45eea742113a95399632",
       "version_major": 2,
       "version_minor": 0
      },
      "text/plain": [
       "  0%|          | 0/40000 [00:00<?, ?it/s]"
      ]
     },
     "metadata": {},
     "output_type": "display_data"
    },
    {
     "name": "stdout",
     "output_type": "stream",
     "text": [
      "64\n",
      "128\n",
      "8\n",
      "16\n",
      "32\n"
     ]
    },
    {
     "data": {
      "application/vnd.jupyter.widget-view+json": {
       "model_id": "7a8be768a1394c4797640c15362b5b9e",
       "version_major": 2,
       "version_minor": 0
      },
      "text/plain": [
       "  0%|          | 0/40000 [00:00<?, ?it/s]"
      ]
     },
     "metadata": {},
     "output_type": "display_data"
    },
    {
     "name": "stdout",
     "output_type": "stream",
     "text": [
      "16\n",
      "64\n",
      "8\n",
      "32\n",
      "128\n"
     ]
    },
    {
     "data": {
      "application/vnd.jupyter.widget-view+json": {
       "model_id": "2d806502327944e2a09049bf773396de",
       "version_major": 2,
       "version_minor": 0
      },
      "text/plain": [
       "  0%|          | 0/40000 [00:00<?, ?it/s]"
      ]
     },
     "metadata": {},
     "output_type": "display_data"
    },
    {
     "name": "stdout",
     "output_type": "stream",
     "text": [
      "16\n",
      "128\n",
      "8\n",
      "32\n",
      "64\n"
     ]
    },
    {
     "data": {
      "application/vnd.jupyter.widget-view+json": {
       "model_id": "fd5a5cc77d4147c6883efc8a6c7781cd",
       "version_major": 2,
       "version_minor": 0
      },
      "text/plain": [
       "  0%|          | 0/40000 [00:00<?, ?it/s]"
      ]
     },
     "metadata": {},
     "output_type": "display_data"
    },
    {
     "name": "stdout",
     "output_type": "stream",
     "text": [
      "64\n",
      "128\n",
      "8\n",
      "16\n",
      "32\n"
     ]
    },
    {
     "data": {
      "application/vnd.jupyter.widget-view+json": {
       "model_id": "3577d6d924ee4865883e8fc5c651d454",
       "version_major": 2,
       "version_minor": 0
      },
      "text/plain": [
       "  0%|          | 0/40000 [00:00<?, ?it/s]"
      ]
     },
     "metadata": {},
     "output_type": "display_data"
    },
    {
     "name": "stdout",
     "output_type": "stream",
     "text": [
      "128\n",
      "8\n",
      "16\n",
      "64\n",
      "32\n"
     ]
    },
    {
     "data": {
      "application/vnd.jupyter.widget-view+json": {
       "model_id": "ef9dba01ecd64b34aa3a26082a1c1bad",
       "version_major": 2,
       "version_minor": 0
      },
      "text/plain": [
       "  0%|          | 0/40000 [00:00<?, ?it/s]"
      ]
     },
     "metadata": {},
     "output_type": "display_data"
    },
    {
     "name": "stdout",
     "output_type": "stream",
     "text": [
      "64\n",
      "8\n",
      "16\n",
      "32\n",
      "128\n"
     ]
    },
    {
     "data": {
      "application/vnd.jupyter.widget-view+json": {
       "model_id": "9ae071fee2f84214af00fb3c6fa6605e",
       "version_major": 2,
       "version_minor": 0
      },
      "text/plain": [
       "  0%|          | 0/40000 [00:00<?, ?it/s]"
      ]
     },
     "metadata": {},
     "output_type": "display_data"
    },
    {
     "name": "stdout",
     "output_type": "stream",
     "text": [
      "128\n",
      "8\n",
      "16\n",
      "64\n",
      "32\n"
     ]
    },
    {
     "data": {
      "application/vnd.jupyter.widget-view+json": {
       "model_id": "3df70ed23e3f4656938dc932e5f44776",
       "version_major": 2,
       "version_minor": 0
      },
      "text/plain": [
       "  0%|          | 0/40000 [00:00<?, ?it/s]"
      ]
     },
     "metadata": {},
     "output_type": "display_data"
    },
    {
     "name": "stdout",
     "output_type": "stream",
     "text": [
      "64\n",
      "8\n",
      "16\n",
      "32\n",
      "128\n"
     ]
    },
    {
     "data": {
      "application/vnd.jupyter.widget-view+json": {
       "model_id": "24f2e2f54936475492c2f32161df1910",
       "version_major": 2,
       "version_minor": 0
      },
      "text/plain": [
       "  0%|          | 0/40000 [00:00<?, ?it/s]"
      ]
     },
     "metadata": {},
     "output_type": "display_data"
    },
    {
     "name": "stdout",
     "output_type": "stream",
     "text": [
      "128\n",
      "8\n",
      "16\n",
      "32\n",
      "64\n"
     ]
    },
    {
     "data": {
      "application/vnd.jupyter.widget-view+json": {
       "model_id": "cf014183e492401b875e64ae93f24d1d",
       "version_major": 2,
       "version_minor": 0
      },
      "text/plain": [
       "  0%|          | 0/40000 [00:00<?, ?it/s]"
      ]
     },
     "metadata": {},
     "output_type": "display_data"
    },
    {
     "name": "stdout",
     "output_type": "stream",
     "text": [
      "64\n",
      "128\n",
      "8\n",
      "16\n",
      "32\n"
     ]
    },
    {
     "data": {
      "application/vnd.jupyter.widget-view+json": {
       "model_id": "b6ffd48da41647b887871f5ff3929f89",
       "version_major": 2,
       "version_minor": 0
      },
      "text/plain": [
       "  0%|          | 0/40000 [00:00<?, ?it/s]"
      ]
     },
     "metadata": {},
     "output_type": "display_data"
    },
    {
     "name": "stdout",
     "output_type": "stream",
     "text": [
      "128\n",
      "8\n",
      "16\n",
      "64\n",
      "32\n"
     ]
    },
    {
     "data": {
      "application/vnd.jupyter.widget-view+json": {
       "model_id": "28a697545b44496280be2b4415c07110",
       "version_major": 2,
       "version_minor": 0
      },
      "text/plain": [
       "  0%|          | 0/40000 [00:00<?, ?it/s]"
      ]
     },
     "metadata": {},
     "output_type": "display_data"
    },
    {
     "name": "stdout",
     "output_type": "stream",
     "text": [
      "128\n",
      "8\n",
      "16\n",
      "32\n",
      "64\n"
     ]
    },
    {
     "data": {
      "application/vnd.jupyter.widget-view+json": {
       "model_id": "2d636309d2e341b9bfa2bf070cb507a8",
       "version_major": 2,
       "version_minor": 0
      },
      "text/plain": [
       "  0%|          | 0/40000 [00:00<?, ?it/s]"
      ]
     },
     "metadata": {},
     "output_type": "display_data"
    },
    {
     "name": "stdout",
     "output_type": "stream",
     "text": [
      "128\n",
      "8\n",
      "16\n",
      "32\n",
      "64\n"
     ]
    },
    {
     "data": {
      "application/vnd.jupyter.widget-view+json": {
       "model_id": "6c9991099d114da591540c383794eb1e",
       "version_major": 2,
       "version_minor": 0
      },
      "text/plain": [
       "  0%|          | 0/40000 [00:00<?, ?it/s]"
      ]
     },
     "metadata": {},
     "output_type": "display_data"
    },
    {
     "name": "stdout",
     "output_type": "stream",
     "text": [
      "128\n",
      "16\n",
      "8\n",
      "64\n",
      "32\n"
     ]
    },
    {
     "data": {
      "application/vnd.jupyter.widget-view+json": {
       "model_id": "da8a46060f9a4d20bc4f75fa314d433e",
       "version_major": 2,
       "version_minor": 0
      },
      "text/plain": [
       "  0%|          | 0/40000 [00:00<?, ?it/s]"
      ]
     },
     "metadata": {},
     "output_type": "display_data"
    },
    {
     "name": "stdout",
     "output_type": "stream",
     "text": [
      "64\n",
      "8\n",
      "16\n",
      "32\n",
      "128\n"
     ]
    },
    {
     "data": {
      "application/vnd.jupyter.widget-view+json": {
       "model_id": "e72bfbed3866474fafadcfd0d36d2da1",
       "version_major": 2,
       "version_minor": 0
      },
      "text/plain": [
       "  0%|          | 0/40000 [00:00<?, ?it/s]"
      ]
     },
     "metadata": {},
     "output_type": "display_data"
    },
    {
     "name": "stdout",
     "output_type": "stream",
     "text": [
      "64\n",
      "128\n",
      "8\n",
      "16\n",
      "32\n"
     ]
    },
    {
     "data": {
      "application/vnd.jupyter.widget-view+json": {
       "model_id": "de891bf3818a48f5936431dd5b93c821",
       "version_major": 2,
       "version_minor": 0
      },
      "text/plain": [
       "  0%|          | 0/40000 [00:00<?, ?it/s]"
      ]
     },
     "metadata": {},
     "output_type": "display_data"
    },
    {
     "name": "stdout",
     "output_type": "stream",
     "text": [
      "64\n",
      "128\n",
      "8\n",
      "16\n",
      "32\n"
     ]
    },
    {
     "data": {
      "application/vnd.jupyter.widget-view+json": {
       "model_id": "7555316604c649b5a5c731d8c55e8613",
       "version_major": 2,
       "version_minor": 0
      },
      "text/plain": [
       "  0%|          | 0/40000 [00:00<?, ?it/s]"
      ]
     },
     "metadata": {},
     "output_type": "display_data"
    },
    {
     "name": "stdout",
     "output_type": "stream",
     "text": [
      "128\n",
      "8\n",
      "16\n",
      "64\n",
      "32\n"
     ]
    },
    {
     "data": {
      "application/vnd.jupyter.widget-view+json": {
       "model_id": "d502edb7088b413d99b8d1374a59f2a0",
       "version_major": 2,
       "version_minor": 0
      },
      "text/plain": [
       "  0%|          | 0/40000 [00:00<?, ?it/s]"
      ]
     },
     "metadata": {},
     "output_type": "display_data"
    },
    {
     "name": "stdout",
     "output_type": "stream",
     "text": [
      "16\n",
      "64\n",
      "8\n",
      "128\n",
      "32\n"
     ]
    },
    {
     "data": {
      "application/vnd.jupyter.widget-view+json": {
       "model_id": "24c1529997614fed8909013e1b7beb96",
       "version_major": 2,
       "version_minor": 0
      },
      "text/plain": [
       "  0%|          | 0/40000 [00:00<?, ?it/s]"
      ]
     },
     "metadata": {},
     "output_type": "display_data"
    },
    {
     "name": "stdout",
     "output_type": "stream",
     "text": [
      "64\n",
      "16\n",
      "8\n",
      "32\n",
      "128\n",
      "5\n"
     ]
    },
    {
     "data": {
      "application/vnd.jupyter.widget-view+json": {
       "model_id": "d008d0662dfb4e10a2d039d249fc6b8f",
       "version_major": 2,
       "version_minor": 0
      },
      "text/plain": [
       "  0%|          | 0/40000 [00:00<?, ?it/s]"
      ]
     },
     "metadata": {},
     "output_type": "display_data"
    },
    {
     "name": "stdout",
     "output_type": "stream",
     "text": [
      "64\n",
      "8\n",
      "16\n",
      "32\n",
      "256\n",
      "128\n"
     ]
    },
    {
     "data": {
      "application/vnd.jupyter.widget-view+json": {
       "model_id": "5fe4dab6934442d381a48d0d171bd63e",
       "version_major": 2,
       "version_minor": 0
      },
      "text/plain": [
       "  0%|          | 0/40000 [00:00<?, ?it/s]"
      ]
     },
     "metadata": {},
     "output_type": "display_data"
    },
    {
     "name": "stdout",
     "output_type": "stream",
     "text": [
      "128\n",
      "16\n",
      "8\n",
      "32\n",
      "64\n",
      "256\n"
     ]
    },
    {
     "data": {
      "application/vnd.jupyter.widget-view+json": {
       "model_id": "d35a2396afd04259a6679963715fc867",
       "version_major": 2,
       "version_minor": 0
      },
      "text/plain": [
       "  0%|          | 0/40000 [00:00<?, ?it/s]"
      ]
     },
     "metadata": {},
     "output_type": "display_data"
    },
    {
     "name": "stdout",
     "output_type": "stream",
     "text": [
      "64\n",
      "16\n",
      "8\n",
      "32\n",
      "128\n",
      "256\n"
     ]
    },
    {
     "data": {
      "application/vnd.jupyter.widget-view+json": {
       "model_id": "8c4dca01792b4dc986744ed9385b1d82",
       "version_major": 2,
       "version_minor": 0
      },
      "text/plain": [
       "  0%|          | 0/40000 [00:00<?, ?it/s]"
      ]
     },
     "metadata": {},
     "output_type": "display_data"
    },
    {
     "name": "stdout",
     "output_type": "stream",
     "text": [
      "128\n",
      "8\n",
      "16\n",
      "32\n",
      "64\n",
      "256\n"
     ]
    },
    {
     "data": {
      "application/vnd.jupyter.widget-view+json": {
       "model_id": "ba4d7fb0c6fc40f5a8722d533b45ab69",
       "version_major": 2,
       "version_minor": 0
      },
      "text/plain": [
       "  0%|          | 0/40000 [00:00<?, ?it/s]"
      ]
     },
     "metadata": {},
     "output_type": "display_data"
    },
    {
     "name": "stdout",
     "output_type": "stream",
     "text": [
      "16\n",
      "128\n",
      "8\n",
      "32\n",
      "64\n",
      "256\n"
     ]
    },
    {
     "data": {
      "application/vnd.jupyter.widget-view+json": {
       "model_id": "9afb400428eb4fa08119c4ed462c652f",
       "version_major": 2,
       "version_minor": 0
      },
      "text/plain": [
       "  0%|          | 0/40000 [00:00<?, ?it/s]"
      ]
     },
     "metadata": {},
     "output_type": "display_data"
    },
    {
     "name": "stdout",
     "output_type": "stream",
     "text": [
      "32\n",
      "16\n",
      "8\n",
      "128\n",
      "256\n",
      "64\n"
     ]
    },
    {
     "data": {
      "application/vnd.jupyter.widget-view+json": {
       "model_id": "0d94f11ade85484cbcdaa235b6f21666",
       "version_major": 2,
       "version_minor": 0
      },
      "text/plain": [
       "  0%|          | 0/40000 [00:00<?, ?it/s]"
      ]
     },
     "metadata": {},
     "output_type": "display_data"
    },
    {
     "name": "stdout",
     "output_type": "stream",
     "text": [
      "64\n",
      "8\n",
      "16\n",
      "32\n",
      "128\n",
      "256\n"
     ]
    },
    {
     "data": {
      "application/vnd.jupyter.widget-view+json": {
       "model_id": "c92b876d9f29487aa229644d4c786245",
       "version_major": 2,
       "version_minor": 0
      },
      "text/plain": [
       "  0%|          | 0/40000 [00:00<?, ?it/s]"
      ]
     },
     "metadata": {},
     "output_type": "display_data"
    },
    {
     "name": "stdout",
     "output_type": "stream",
     "text": [
      "256\n",
      "128\n",
      "16\n",
      "8\n",
      "64\n",
      "32\n"
     ]
    },
    {
     "data": {
      "application/vnd.jupyter.widget-view+json": {
       "model_id": "ca74865ddff349cea80a9f2992c97fd7",
       "version_major": 2,
       "version_minor": 0
      },
      "text/plain": [
       "  0%|          | 0/40000 [00:00<?, ?it/s]"
      ]
     },
     "metadata": {},
     "output_type": "display_data"
    },
    {
     "name": "stdout",
     "output_type": "stream",
     "text": [
      "128\n",
      "16\n",
      "8\n",
      "32\n",
      "64\n",
      "256\n"
     ]
    },
    {
     "data": {
      "application/vnd.jupyter.widget-view+json": {
       "model_id": "06cd7acdaefb4fbab70cee529957a03e",
       "version_major": 2,
       "version_minor": 0
      },
      "text/plain": [
       "  0%|          | 0/40000 [00:00<?, ?it/s]"
      ]
     },
     "metadata": {},
     "output_type": "display_data"
    },
    {
     "name": "stdout",
     "output_type": "stream",
     "text": [
      "128\n",
      "8\n",
      "16\n",
      "32\n",
      "64\n",
      "256\n"
     ]
    },
    {
     "data": {
      "application/vnd.jupyter.widget-view+json": {
       "model_id": "66c9c86abeab4db8b5f810e21b97b996",
       "version_major": 2,
       "version_minor": 0
      },
      "text/plain": [
       "  0%|          | 0/40000 [00:00<?, ?it/s]"
      ]
     },
     "metadata": {},
     "output_type": "display_data"
    },
    {
     "name": "stdout",
     "output_type": "stream",
     "text": [
      "64\n",
      "128\n",
      "8\n",
      "16\n",
      "32\n",
      "256\n"
     ]
    },
    {
     "data": {
      "application/vnd.jupyter.widget-view+json": {
       "model_id": "5e3e8f4cb72d4dffa13bacc66704f9ab",
       "version_major": 2,
       "version_minor": 0
      },
      "text/plain": [
       "  0%|          | 0/40000 [00:00<?, ?it/s]"
      ]
     },
     "metadata": {},
     "output_type": "display_data"
    },
    {
     "name": "stdout",
     "output_type": "stream",
     "text": [
      "16\n",
      "64\n",
      "8\n",
      "32\n",
      "256\n",
      "128\n"
     ]
    },
    {
     "data": {
      "application/vnd.jupyter.widget-view+json": {
       "model_id": "cffa24844c754b979ce59e615137df28",
       "version_major": 2,
       "version_minor": 0
      },
      "text/plain": [
       "  0%|          | 0/40000 [00:00<?, ?it/s]"
      ]
     },
     "metadata": {},
     "output_type": "display_data"
    },
    {
     "name": "stdout",
     "output_type": "stream",
     "text": [
      "16\n",
      "128\n",
      "8\n",
      "32\n",
      "64\n",
      "256\n"
     ]
    },
    {
     "data": {
      "application/vnd.jupyter.widget-view+json": {
       "model_id": "a10fd19523c3442599c88cbeee89c958",
       "version_major": 2,
       "version_minor": 0
      },
      "text/plain": [
       "  0%|          | 0/40000 [00:00<?, ?it/s]"
      ]
     },
     "metadata": {},
     "output_type": "display_data"
    },
    {
     "name": "stdout",
     "output_type": "stream",
     "text": [
      "64\n",
      "256\n",
      "128\n",
      "8\n",
      "16\n",
      "32\n"
     ]
    },
    {
     "data": {
      "application/vnd.jupyter.widget-view+json": {
       "model_id": "02bd735b9be046bcba68cdb9844d1a25",
       "version_major": 2,
       "version_minor": 0
      },
      "text/plain": [
       "  0%|          | 0/40000 [00:00<?, ?it/s]"
      ]
     },
     "metadata": {},
     "output_type": "display_data"
    },
    {
     "name": "stdout",
     "output_type": "stream",
     "text": [
      "128\n",
      "256\n",
      "8\n",
      "16\n",
      "64\n",
      "32\n"
     ]
    },
    {
     "data": {
      "application/vnd.jupyter.widget-view+json": {
       "model_id": "b5609f812536438294720198b4c82785",
       "version_major": 2,
       "version_minor": 0
      },
      "text/plain": [
       "  0%|          | 0/40000 [00:00<?, ?it/s]"
      ]
     },
     "metadata": {},
     "output_type": "display_data"
    },
    {
     "name": "stdout",
     "output_type": "stream",
     "text": [
      "64\n",
      "8\n",
      "16\n",
      "32\n",
      "128\n",
      "256\n"
     ]
    },
    {
     "data": {
      "application/vnd.jupyter.widget-view+json": {
       "model_id": "7b5efe29e1e84c7eb1c7ee7a5a9bc293",
       "version_major": 2,
       "version_minor": 0
      },
      "text/plain": [
       "  0%|          | 0/40000 [00:00<?, ?it/s]"
      ]
     },
     "metadata": {},
     "output_type": "display_data"
    },
    {
     "name": "stdout",
     "output_type": "stream",
     "text": [
      "128\n",
      "256\n",
      "8\n",
      "16\n",
      "64\n",
      "32\n"
     ]
    },
    {
     "data": {
      "application/vnd.jupyter.widget-view+json": {
       "model_id": "730367741433400a9819f31cefbef52a",
       "version_major": 2,
       "version_minor": 0
      },
      "text/plain": [
       "  0%|          | 0/40000 [00:00<?, ?it/s]"
      ]
     },
     "metadata": {},
     "output_type": "display_data"
    },
    {
     "name": "stdout",
     "output_type": "stream",
     "text": [
      "64\n",
      "8\n",
      "16\n",
      "32\n",
      "128\n",
      "256\n"
     ]
    },
    {
     "data": {
      "application/vnd.jupyter.widget-view+json": {
       "model_id": "7201150023c943a882c45166a1fc582e",
       "version_major": 2,
       "version_minor": 0
      },
      "text/plain": [
       "  0%|          | 0/40000 [00:00<?, ?it/s]"
      ]
     },
     "metadata": {},
     "output_type": "display_data"
    },
    {
     "name": "stdout",
     "output_type": "stream",
     "text": [
      "128\n",
      "8\n",
      "16\n",
      "32\n",
      "64\n",
      "256\n"
     ]
    },
    {
     "data": {
      "application/vnd.jupyter.widget-view+json": {
       "model_id": "fa0604aea79649558d020090015df3e5",
       "version_major": 2,
       "version_minor": 0
      },
      "text/plain": [
       "  0%|          | 0/40000 [00:00<?, ?it/s]"
      ]
     },
     "metadata": {},
     "output_type": "display_data"
    },
    {
     "name": "stdout",
     "output_type": "stream",
     "text": [
      "64\n",
      "128\n",
      "8\n",
      "16\n",
      "32\n",
      "256\n"
     ]
    },
    {
     "data": {
      "application/vnd.jupyter.widget-view+json": {
       "model_id": "2262f4a8d9ca4683b7f00e694f478c31",
       "version_major": 2,
       "version_minor": 0
      },
      "text/plain": [
       "  0%|          | 0/40000 [00:00<?, ?it/s]"
      ]
     },
     "metadata": {},
     "output_type": "display_data"
    },
    {
     "name": "stdout",
     "output_type": "stream",
     "text": [
      "256\n",
      "128\n",
      "8\n",
      "16\n",
      "64\n",
      "32\n"
     ]
    },
    {
     "data": {
      "application/vnd.jupyter.widget-view+json": {
       "model_id": "42f91a4214d246eebd87938cbf8aa9c0",
       "version_major": 2,
       "version_minor": 0
      },
      "text/plain": [
       "  0%|          | 0/40000 [00:00<?, ?it/s]"
      ]
     },
     "metadata": {},
     "output_type": "display_data"
    },
    {
     "name": "stdout",
     "output_type": "stream",
     "text": [
      "128\n",
      "256\n",
      "8\n",
      "16\n",
      "32\n",
      "64\n"
     ]
    },
    {
     "data": {
      "application/vnd.jupyter.widget-view+json": {
       "model_id": "b8a28ce999dd428a9d53899f9657ffb1",
       "version_major": 2,
       "version_minor": 0
      },
      "text/plain": [
       "  0%|          | 0/40000 [00:00<?, ?it/s]"
      ]
     },
     "metadata": {},
     "output_type": "display_data"
    },
    {
     "name": "stdout",
     "output_type": "stream",
     "text": [
      "128\n",
      "8\n",
      "16\n",
      "32\n",
      "64\n",
      "256\n"
     ]
    },
    {
     "data": {
      "application/vnd.jupyter.widget-view+json": {
       "model_id": "84cad30644ca424c888941b05de4bfd3",
       "version_major": 2,
       "version_minor": 0
      },
      "text/plain": [
       "  0%|          | 0/40000 [00:00<?, ?it/s]"
      ]
     },
     "metadata": {},
     "output_type": "display_data"
    },
    {
     "name": "stdout",
     "output_type": "stream",
     "text": [
      "128\n",
      "16\n",
      "8\n",
      "64\n",
      "256\n",
      "32\n"
     ]
    },
    {
     "data": {
      "application/vnd.jupyter.widget-view+json": {
       "model_id": "1d378f11257c42b48409de3439549fe8",
       "version_major": 2,
       "version_minor": 0
      },
      "text/plain": [
       "  0%|          | 0/40000 [00:00<?, ?it/s]"
      ]
     },
     "metadata": {},
     "output_type": "display_data"
    },
    {
     "name": "stdout",
     "output_type": "stream",
     "text": [
      "64\n",
      "8\n",
      "16\n",
      "32\n",
      "256\n",
      "128\n"
     ]
    },
    {
     "data": {
      "application/vnd.jupyter.widget-view+json": {
       "model_id": "8e54b0b734ca4e8989b52d652b5176ec",
       "version_major": 2,
       "version_minor": 0
      },
      "text/plain": [
       "  0%|          | 0/40000 [00:00<?, ?it/s]"
      ]
     },
     "metadata": {},
     "output_type": "display_data"
    },
    {
     "name": "stdout",
     "output_type": "stream",
     "text": [
      "64\n",
      "128\n",
      "8\n",
      "16\n",
      "32\n",
      "256\n"
     ]
    },
    {
     "data": {
      "application/vnd.jupyter.widget-view+json": {
       "model_id": "800b11bfcfa54fcb9b58b9a79b02d9b5",
       "version_major": 2,
       "version_minor": 0
      },
      "text/plain": [
       "  0%|          | 0/40000 [00:00<?, ?it/s]"
      ]
     },
     "metadata": {},
     "output_type": "display_data"
    },
    {
     "name": "stdout",
     "output_type": "stream",
     "text": [
      "64\n",
      "128\n",
      "8\n",
      "16\n",
      "32\n",
      "256\n"
     ]
    },
    {
     "data": {
      "application/vnd.jupyter.widget-view+json": {
       "model_id": "1232f56d3dcf4075a099b8ff2ccb4b39",
       "version_major": 2,
       "version_minor": 0
      },
      "text/plain": [
       "  0%|          | 0/40000 [00:00<?, ?it/s]"
      ]
     },
     "metadata": {},
     "output_type": "display_data"
    },
    {
     "name": "stdout",
     "output_type": "stream",
     "text": [
      "256\n",
      "128\n",
      "8\n",
      "16\n",
      "64\n",
      "32\n"
     ]
    },
    {
     "data": {
      "application/vnd.jupyter.widget-view+json": {
       "model_id": "8a09d12ac8ea495baf1bcbf9b55b5137",
       "version_major": 2,
       "version_minor": 0
      },
      "text/plain": [
       "  0%|          | 0/40000 [00:00<?, ?it/s]"
      ]
     },
     "metadata": {},
     "output_type": "display_data"
    },
    {
     "name": "stdout",
     "output_type": "stream",
     "text": [
      "16\n",
      "64\n",
      "8\n",
      "256\n",
      "32\n",
      "128\n"
     ]
    },
    {
     "data": {
      "application/vnd.jupyter.widget-view+json": {
       "model_id": "2351164aa91b4208a8f0c4d5b337e466",
       "version_major": 2,
       "version_minor": 0
      },
      "text/plain": [
       "  0%|          | 0/40000 [00:00<?, ?it/s]"
      ]
     },
     "metadata": {},
     "output_type": "display_data"
    },
    {
     "name": "stdout",
     "output_type": "stream",
     "text": [
      "64\n",
      "16\n",
      "8\n",
      "32\n",
      "256\n",
      "128\n",
      "6\n"
     ]
    },
    {
     "data": {
      "application/vnd.jupyter.widget-view+json": {
       "model_id": "da3d32fa6b6a40ec90290ac94623e4ac",
       "version_major": 2,
       "version_minor": 0
      },
      "text/plain": [
       "  0%|          | 0/40000 [00:00<?, ?it/s]"
      ]
     },
     "metadata": {},
     "output_type": "display_data"
    },
    {
     "name": "stdout",
     "output_type": "stream",
     "text": [
      "64\n",
      "8\n",
      "16\n",
      "32\n",
      "512\n",
      "128\n",
      "256\n"
     ]
    },
    {
     "data": {
      "application/vnd.jupyter.widget-view+json": {
       "model_id": "592acabe772e4a899e949287532fb651",
       "version_major": 2,
       "version_minor": 0
      },
      "text/plain": [
       "  0%|          | 0/40000 [00:00<?, ?it/s]"
      ]
     },
     "metadata": {},
     "output_type": "display_data"
    },
    {
     "name": "stdout",
     "output_type": "stream",
     "text": [
      "128\n",
      "16\n",
      "8\n",
      "32\n",
      "64\n",
      "512\n",
      "256\n"
     ]
    },
    {
     "data": {
      "application/vnd.jupyter.widget-view+json": {
       "model_id": "c8d63f0fbada426bbbf5e47f108a7ec2",
       "version_major": 2,
       "version_minor": 0
      },
      "text/plain": [
       "  0%|          | 0/40000 [00:00<?, ?it/s]"
      ]
     },
     "metadata": {},
     "output_type": "display_data"
    },
    {
     "name": "stdout",
     "output_type": "stream",
     "text": [
      "64\n",
      "16\n",
      "8\n",
      "32\n",
      "128\n",
      "512\n",
      "256\n"
     ]
    },
    {
     "data": {
      "application/vnd.jupyter.widget-view+json": {
       "model_id": "efb516a89c5b4325b18790ef7683859e",
       "version_major": 2,
       "version_minor": 0
      },
      "text/plain": [
       "  0%|          | 0/40000 [00:00<?, ?it/s]"
      ]
     },
     "metadata": {},
     "output_type": "display_data"
    },
    {
     "name": "stdout",
     "output_type": "stream",
     "text": [
      "128\n",
      "8\n",
      "16\n",
      "32\n",
      "64\n",
      "512\n",
      "256\n"
     ]
    },
    {
     "data": {
      "application/vnd.jupyter.widget-view+json": {
       "model_id": "39c75381c50a4a56a1d7d0aa162e8165",
       "version_major": 2,
       "version_minor": 0
      },
      "text/plain": [
       "  0%|          | 0/40000 [00:00<?, ?it/s]"
      ]
     },
     "metadata": {},
     "output_type": "display_data"
    },
    {
     "name": "stdout",
     "output_type": "stream",
     "text": [
      "16\n",
      "128\n",
      "8\n",
      "32\n",
      "64\n",
      "512\n",
      "256\n"
     ]
    },
    {
     "data": {
      "application/vnd.jupyter.widget-view+json": {
       "model_id": "5e1a6602639f472e990898e920785734",
       "version_major": 2,
       "version_minor": 0
      },
      "text/plain": [
       "  0%|          | 0/40000 [00:00<?, ?it/s]"
      ]
     },
     "metadata": {},
     "output_type": "display_data"
    },
    {
     "name": "stdout",
     "output_type": "stream",
     "text": [
      "32\n",
      "16\n",
      "8\n",
      "128\n",
      "512\n",
      "256\n",
      "64\n"
     ]
    },
    {
     "data": {
      "application/vnd.jupyter.widget-view+json": {
       "model_id": "4745408d4f024e8fadb591a09f5f0e7a",
       "version_major": 2,
       "version_minor": 0
      },
      "text/plain": [
       "  0%|          | 0/40000 [00:00<?, ?it/s]"
      ]
     },
     "metadata": {},
     "output_type": "display_data"
    },
    {
     "name": "stdout",
     "output_type": "stream",
     "text": [
      "64\n",
      "8\n",
      "16\n",
      "32\n",
      "128\n",
      "512\n",
      "256\n"
     ]
    },
    {
     "data": {
      "application/vnd.jupyter.widget-view+json": {
       "model_id": "0b2760983d4346eaba91483f12d0bc4e",
       "version_major": 2,
       "version_minor": 0
      },
      "text/plain": [
       "  0%|          | 0/40000 [00:00<?, ?it/s]"
      ]
     },
     "metadata": {},
     "output_type": "display_data"
    },
    {
     "name": "stdout",
     "output_type": "stream",
     "text": [
      "512\n",
      "128\n",
      "16\n",
      "8\n",
      "64\n",
      "32\n",
      "256\n"
     ]
    },
    {
     "data": {
      "application/vnd.jupyter.widget-view+json": {
       "model_id": "5b630316b2734841bca527046490f693",
       "version_major": 2,
       "version_minor": 0
      },
      "text/plain": [
       "  0%|          | 0/40000 [00:00<?, ?it/s]"
      ]
     },
     "metadata": {},
     "output_type": "display_data"
    },
    {
     "name": "stdout",
     "output_type": "stream",
     "text": [
      "128\n",
      "16\n",
      "8\n",
      "32\n",
      "64\n",
      "256\n",
      "512\n"
     ]
    },
    {
     "data": {
      "application/vnd.jupyter.widget-view+json": {
       "model_id": "51e6e0690c444d65b9641338f41f4f8d",
       "version_major": 2,
       "version_minor": 0
      },
      "text/plain": [
       "  0%|          | 0/40000 [00:00<?, ?it/s]"
      ]
     },
     "metadata": {},
     "output_type": "display_data"
    },
    {
     "name": "stdout",
     "output_type": "stream",
     "text": [
      "128\n",
      "8\n",
      "16\n",
      "32\n",
      "64\n",
      "512\n",
      "256\n"
     ]
    },
    {
     "data": {
      "application/vnd.jupyter.widget-view+json": {
       "model_id": "e26d271cdf454964b2b7d2e9e9689465",
       "version_major": 2,
       "version_minor": 0
      },
      "text/plain": [
       "  0%|          | 0/40000 [00:00<?, ?it/s]"
      ]
     },
     "metadata": {},
     "output_type": "display_data"
    },
    {
     "name": "stdout",
     "output_type": "stream",
     "text": [
      "64\n",
      "128\n",
      "8\n",
      "16\n",
      "32\n",
      "512\n",
      "256\n"
     ]
    },
    {
     "data": {
      "application/vnd.jupyter.widget-view+json": {
       "model_id": "2b4fb061d65640a983d32a4e3b76b1bd",
       "version_major": 2,
       "version_minor": 0
      },
      "text/plain": [
       "  0%|          | 0/40000 [00:00<?, ?it/s]"
      ]
     },
     "metadata": {},
     "output_type": "display_data"
    },
    {
     "name": "stdout",
     "output_type": "stream",
     "text": [
      "16\n",
      "64\n",
      "8\n",
      "32\n",
      "512\n",
      "256\n",
      "128\n"
     ]
    },
    {
     "data": {
      "application/vnd.jupyter.widget-view+json": {
       "model_id": "a5a6ffa141694bf49680429c4824e2e1",
       "version_major": 2,
       "version_minor": 0
      },
      "text/plain": [
       "  0%|          | 0/40000 [00:00<?, ?it/s]"
      ]
     },
     "metadata": {},
     "output_type": "display_data"
    },
    {
     "name": "stdout",
     "output_type": "stream",
     "text": [
      "16\n",
      "128\n",
      "8\n",
      "32\n",
      "64\n",
      "512\n",
      "256\n"
     ]
    },
    {
     "data": {
      "application/vnd.jupyter.widget-view+json": {
       "model_id": "669953d7deed439584d9788308a295a3",
       "version_major": 2,
       "version_minor": 0
      },
      "text/plain": [
       "  0%|          | 0/40000 [00:00<?, ?it/s]"
      ]
     },
     "metadata": {},
     "output_type": "display_data"
    },
    {
     "name": "stdout",
     "output_type": "stream",
     "text": [
      "64\n",
      "512\n",
      "128\n",
      "8\n",
      "16\n",
      "32\n",
      "256\n"
     ]
    },
    {
     "data": {
      "application/vnd.jupyter.widget-view+json": {
       "model_id": "3198cb750da84c1399d6f08623dba516",
       "version_major": 2,
       "version_minor": 0
      },
      "text/plain": [
       "  0%|          | 0/40000 [00:00<?, ?it/s]"
      ]
     },
     "metadata": {},
     "output_type": "display_data"
    },
    {
     "name": "stdout",
     "output_type": "stream",
     "text": [
      "128\n",
      "512\n",
      "8\n",
      "16\n",
      "64\n",
      "32\n",
      "256\n"
     ]
    },
    {
     "data": {
      "application/vnd.jupyter.widget-view+json": {
       "model_id": "7b7ae987d5d04894a9d67973bf08653e",
       "version_major": 2,
       "version_minor": 0
      },
      "text/plain": [
       "  0%|          | 0/40000 [00:00<?, ?it/s]"
      ]
     },
     "metadata": {},
     "output_type": "display_data"
    },
    {
     "name": "stdout",
     "output_type": "stream",
     "text": [
      "64\n",
      "8\n",
      "16\n",
      "32\n",
      "128\n",
      "512\n",
      "256\n"
     ]
    },
    {
     "data": {
      "application/vnd.jupyter.widget-view+json": {
       "model_id": "dab770f7589c4f179b4285b393857dca",
       "version_major": 2,
       "version_minor": 0
      },
      "text/plain": [
       "  0%|          | 0/40000 [00:00<?, ?it/s]"
      ]
     },
     "metadata": {},
     "output_type": "display_data"
    },
    {
     "name": "stdout",
     "output_type": "stream",
     "text": [
      "128\n",
      "512\n",
      "8\n",
      "16\n",
      "64\n",
      "32\n",
      "256\n"
     ]
    },
    {
     "data": {
      "application/vnd.jupyter.widget-view+json": {
       "model_id": "d80da65435114cf2a232e4d4031573c6",
       "version_major": 2,
       "version_minor": 0
      },
      "text/plain": [
       "  0%|          | 0/40000 [00:00<?, ?it/s]"
      ]
     },
     "metadata": {},
     "output_type": "display_data"
    },
    {
     "name": "stdout",
     "output_type": "stream",
     "text": [
      "64\n",
      "8\n",
      "16\n",
      "32\n",
      "128\n",
      "512\n",
      "256\n"
     ]
    },
    {
     "data": {
      "application/vnd.jupyter.widget-view+json": {
       "model_id": "57d73426ee7a44528d3007aee5bc7045",
       "version_major": 2,
       "version_minor": 0
      },
      "text/plain": [
       "  0%|          | 0/40000 [00:00<?, ?it/s]"
      ]
     },
     "metadata": {},
     "output_type": "display_data"
    },
    {
     "name": "stdout",
     "output_type": "stream",
     "text": [
      "128\n",
      "8\n",
      "16\n",
      "32\n",
      "64\n",
      "512\n",
      "256\n"
     ]
    },
    {
     "data": {
      "application/vnd.jupyter.widget-view+json": {
       "model_id": "12127538ec454d57b3e697d44b0cdb40",
       "version_major": 2,
       "version_minor": 0
      },
      "text/plain": [
       "  0%|          | 0/40000 [00:00<?, ?it/s]"
      ]
     },
     "metadata": {},
     "output_type": "display_data"
    },
    {
     "name": "stdout",
     "output_type": "stream",
     "text": [
      "64\n",
      "128\n",
      "8\n",
      "16\n",
      "32\n",
      "512\n",
      "256\n"
     ]
    },
    {
     "data": {
      "application/vnd.jupyter.widget-view+json": {
       "model_id": "a8943f5acbdc4af4b9a60c5321415f7b",
       "version_major": 2,
       "version_minor": 0
      },
      "text/plain": [
       "  0%|          | 0/40000 [00:00<?, ?it/s]"
      ]
     },
     "metadata": {},
     "output_type": "display_data"
    },
    {
     "name": "stdout",
     "output_type": "stream",
     "text": [
      "512\n",
      "128\n",
      "8\n",
      "16\n",
      "64\n",
      "256\n",
      "32\n"
     ]
    },
    {
     "data": {
      "application/vnd.jupyter.widget-view+json": {
       "model_id": "edae79932b6245b9a08f9bb36f185e23",
       "version_major": 2,
       "version_minor": 0
      },
      "text/plain": [
       "  0%|          | 0/40000 [00:00<?, ?it/s]"
      ]
     },
     "metadata": {},
     "output_type": "display_data"
    },
    {
     "name": "stdout",
     "output_type": "stream",
     "text": [
      "128\n",
      "512\n",
      "8\n",
      "16\n",
      "32\n",
      "64\n",
      "256\n"
     ]
    },
    {
     "data": {
      "application/vnd.jupyter.widget-view+json": {
       "model_id": "4cdce0c0f2564abebb2e2fc3c59c330f",
       "version_major": 2,
       "version_minor": 0
      },
      "text/plain": [
       "  0%|          | 0/40000 [00:00<?, ?it/s]"
      ]
     },
     "metadata": {},
     "output_type": "display_data"
    },
    {
     "name": "stdout",
     "output_type": "stream",
     "text": [
      "128\n",
      "8\n",
      "16\n",
      "32\n",
      "64\n",
      "512\n",
      "256\n"
     ]
    },
    {
     "data": {
      "application/vnd.jupyter.widget-view+json": {
       "model_id": "3d15da1532f4495b95420add8dca9fbf",
       "version_major": 2,
       "version_minor": 0
      },
      "text/plain": [
       "  0%|          | 0/40000 [00:00<?, ?it/s]"
      ]
     },
     "metadata": {},
     "output_type": "display_data"
    },
    {
     "name": "stdout",
     "output_type": "stream",
     "text": [
      "128\n",
      "16\n",
      "8\n",
      "64\n",
      "512\n",
      "32\n",
      "256\n"
     ]
    },
    {
     "data": {
      "application/vnd.jupyter.widget-view+json": {
       "model_id": "241801349c1e4a47af92c5616ef8aa91",
       "version_major": 2,
       "version_minor": 0
      },
      "text/plain": [
       "  0%|          | 0/40000 [00:00<?, ?it/s]"
      ]
     },
     "metadata": {},
     "output_type": "display_data"
    },
    {
     "name": "stdout",
     "output_type": "stream",
     "text": [
      "64\n",
      "8\n",
      "16\n",
      "32\n",
      "512\n",
      "256\n",
      "128\n"
     ]
    },
    {
     "data": {
      "application/vnd.jupyter.widget-view+json": {
       "model_id": "bdf448454c7348eabfa58b2b36e83a9c",
       "version_major": 2,
       "version_minor": 0
      },
      "text/plain": [
       "  0%|          | 0/40000 [00:00<?, ?it/s]"
      ]
     },
     "metadata": {},
     "output_type": "display_data"
    },
    {
     "name": "stdout",
     "output_type": "stream",
     "text": [
      "64\n",
      "128\n",
      "8\n",
      "16\n",
      "32\n",
      "512\n",
      "256\n"
     ]
    },
    {
     "data": {
      "application/vnd.jupyter.widget-view+json": {
       "model_id": "d653dd9c81494d61baeead5fa3573729",
       "version_major": 2,
       "version_minor": 0
      },
      "text/plain": [
       "  0%|          | 0/40000 [00:00<?, ?it/s]"
      ]
     },
     "metadata": {},
     "output_type": "display_data"
    },
    {
     "name": "stdout",
     "output_type": "stream",
     "text": [
      "64\n",
      "128\n",
      "8\n",
      "16\n",
      "32\n",
      "256\n",
      "512\n"
     ]
    },
    {
     "data": {
      "application/vnd.jupyter.widget-view+json": {
       "model_id": "cbcb182065e44407af7b232d646d7cb0",
       "version_major": 2,
       "version_minor": 0
      },
      "text/plain": [
       "  0%|          | 0/40000 [00:00<?, ?it/s]"
      ]
     },
     "metadata": {},
     "output_type": "display_data"
    },
    {
     "name": "stdout",
     "output_type": "stream",
     "text": [
      "512\n",
      "128\n",
      "8\n",
      "16\n",
      "64\n",
      "32\n",
      "256\n"
     ]
    },
    {
     "data": {
      "application/vnd.jupyter.widget-view+json": {
       "model_id": "3035c52bc37b44c99502dfe9979f1fc3",
       "version_major": 2,
       "version_minor": 0
      },
      "text/plain": [
       "  0%|          | 0/40000 [00:00<?, ?it/s]"
      ]
     },
     "metadata": {},
     "output_type": "display_data"
    },
    {
     "name": "stdout",
     "output_type": "stream",
     "text": [
      "16\n",
      "64\n",
      "8\n",
      "512\n",
      "32\n",
      "128\n",
      "256\n"
     ]
    },
    {
     "data": {
      "application/vnd.jupyter.widget-view+json": {
       "model_id": "5afefac13682433db1380639d6298cc2",
       "version_major": 2,
       "version_minor": 0
      },
      "text/plain": [
       "  0%|          | 0/40000 [00:00<?, ?it/s]"
      ]
     },
     "metadata": {},
     "output_type": "display_data"
    },
    {
     "name": "stdout",
     "output_type": "stream",
     "text": [
      "64\n",
      "16\n",
      "8\n",
      "32\n",
      "512\n",
      "128\n",
      "256\n",
      "7\n"
     ]
    },
    {
     "data": {
      "application/vnd.jupyter.widget-view+json": {
       "model_id": "b85821955cdd42c8a87999f528b58f11",
       "version_major": 2,
       "version_minor": 0
      },
      "text/plain": [
       "  0%|          | 0/40000 [00:00<?, ?it/s]"
      ]
     },
     "metadata": {},
     "output_type": "display_data"
    },
    {
     "name": "stdout",
     "output_type": "stream",
     "text": [
      "64\n",
      "8\n",
      "16\n",
      "32\n",
      "1024\n",
      "128\n",
      "512\n",
      "256\n"
     ]
    },
    {
     "data": {
      "application/vnd.jupyter.widget-view+json": {
       "model_id": "55a9c1f5e7764163aa922dd6b2aec768",
       "version_major": 2,
       "version_minor": 0
      },
      "text/plain": [
       "  0%|          | 0/40000 [00:00<?, ?it/s]"
      ]
     },
     "metadata": {},
     "output_type": "display_data"
    },
    {
     "name": "stdout",
     "output_type": "stream",
     "text": [
      "128\n",
      "16\n",
      "8\n",
      "32\n",
      "64\n",
      "1024\n",
      "256\n",
      "512\n"
     ]
    },
    {
     "data": {
      "application/vnd.jupyter.widget-view+json": {
       "model_id": "157b58c07fa6421681941ddf37cc84ab",
       "version_major": 2,
       "version_minor": 0
      },
      "text/plain": [
       "  0%|          | 0/40000 [00:00<?, ?it/s]"
      ]
     },
     "metadata": {},
     "output_type": "display_data"
    },
    {
     "name": "stdout",
     "output_type": "stream",
     "text": [
      "64\n",
      "16\n",
      "8\n",
      "32\n",
      "128\n",
      "1024\n",
      "256\n"
     ]
    },
    {
     "data": {
      "application/vnd.jupyter.widget-view+json": {
       "model_id": "07e084c70b62482484fb71aac708b309",
       "version_major": 2,
       "version_minor": 0
      },
      "text/plain": [
       "  0%|          | 0/40000 [00:00<?, ?it/s]"
      ]
     },
     "metadata": {},
     "output_type": "display_data"
    },
    {
     "name": "stdout",
     "output_type": "stream",
     "text": [
      "128\n",
      "8\n",
      "16\n",
      "32\n",
      "64\n",
      "1024\n",
      "256\n",
      "512\n"
     ]
    },
    {
     "data": {
      "application/vnd.jupyter.widget-view+json": {
       "model_id": "bf8d73346a21462e8f8a93b4195d1935",
       "version_major": 2,
       "version_minor": 0
      },
      "text/plain": [
       "  0%|          | 0/40000 [00:00<?, ?it/s]"
      ]
     },
     "metadata": {},
     "output_type": "display_data"
    },
    {
     "name": "stdout",
     "output_type": "stream",
     "text": [
      "16\n",
      "128\n",
      "8\n",
      "32\n",
      "64\n",
      "1024\n",
      "512\n",
      "256\n"
     ]
    },
    {
     "data": {
      "application/vnd.jupyter.widget-view+json": {
       "model_id": "6bcebcb81ff84a3dad6e466766288d6c",
       "version_major": 2,
       "version_minor": 0
      },
      "text/plain": [
       "  0%|          | 0/40000 [00:00<?, ?it/s]"
      ]
     },
     "metadata": {},
     "output_type": "display_data"
    },
    {
     "name": "stdout",
     "output_type": "stream",
     "text": [
      "32\n",
      "16\n",
      "8\n",
      "128\n",
      "1024\n",
      "256\n",
      "64\n",
      "512\n"
     ]
    },
    {
     "data": {
      "application/vnd.jupyter.widget-view+json": {
       "model_id": "a980432699524294a0d2e3cd5acf623e",
       "version_major": 2,
       "version_minor": 0
      },
      "text/plain": [
       "  0%|          | 0/40000 [00:00<?, ?it/s]"
      ]
     },
     "metadata": {},
     "output_type": "display_data"
    },
    {
     "name": "stdout",
     "output_type": "stream",
     "text": [
      "64\n",
      "8\n",
      "16\n",
      "32\n",
      "128\n",
      "1024\n",
      "256\n",
      "512\n"
     ]
    },
    {
     "data": {
      "application/vnd.jupyter.widget-view+json": {
       "model_id": "2cd82394d2ab436483f3376e29be3327",
       "version_major": 2,
       "version_minor": 0
      },
      "text/plain": [
       "  0%|          | 0/40000 [00:00<?, ?it/s]"
      ]
     },
     "metadata": {},
     "output_type": "display_data"
    },
    {
     "name": "stdout",
     "output_type": "stream",
     "text": [
      "1024\n",
      "128\n",
      "16\n",
      "8\n",
      "64\n",
      "32\n",
      "256\n",
      "512\n"
     ]
    },
    {
     "data": {
      "application/vnd.jupyter.widget-view+json": {
       "model_id": "4e8c8c4d7f094057b395294262720163",
       "version_major": 2,
       "version_minor": 0
      },
      "text/plain": [
       "  0%|          | 0/40000 [00:00<?, ?it/s]"
      ]
     },
     "metadata": {},
     "output_type": "display_data"
    },
    {
     "name": "stdout",
     "output_type": "stream",
     "text": [
      "128\n",
      "16\n",
      "8\n",
      "32\n",
      "64\n",
      "256\n",
      "1024\n",
      "512\n"
     ]
    },
    {
     "data": {
      "application/vnd.jupyter.widget-view+json": {
       "model_id": "80be796d3cca474090456207bfeddd1d",
       "version_major": 2,
       "version_minor": 0
      },
      "text/plain": [
       "  0%|          | 0/40000 [00:00<?, ?it/s]"
      ]
     },
     "metadata": {},
     "output_type": "display_data"
    },
    {
     "name": "stdout",
     "output_type": "stream",
     "text": [
      "128\n",
      "8\n",
      "16\n",
      "32\n",
      "64\n",
      "1024\n",
      "512\n",
      "256\n"
     ]
    },
    {
     "data": {
      "application/vnd.jupyter.widget-view+json": {
       "model_id": "b606f4b626b94b5bb9ae83a49755758d",
       "version_major": 2,
       "version_minor": 0
      },
      "text/plain": [
       "  0%|          | 0/40000 [00:00<?, ?it/s]"
      ]
     },
     "metadata": {},
     "output_type": "display_data"
    },
    {
     "name": "stdout",
     "output_type": "stream",
     "text": [
      "64\n",
      "128\n",
      "8\n",
      "16\n",
      "32\n",
      "512\n",
      "256\n",
      "1024\n"
     ]
    },
    {
     "data": {
      "application/vnd.jupyter.widget-view+json": {
       "model_id": "42680a0eda5e402480ee74c12acd2493",
       "version_major": 2,
       "version_minor": 0
      },
      "text/plain": [
       "  0%|          | 0/40000 [00:00<?, ?it/s]"
      ]
     },
     "metadata": {},
     "output_type": "display_data"
    },
    {
     "name": "stdout",
     "output_type": "stream",
     "text": [
      "16\n",
      "64\n",
      "8\n",
      "32\n",
      "1024\n",
      "256\n",
      "128\n",
      "512\n"
     ]
    },
    {
     "data": {
      "application/vnd.jupyter.widget-view+json": {
       "model_id": "2cc5e63766d540ac8c49db8907559752",
       "version_major": 2,
       "version_minor": 0
      },
      "text/plain": [
       "  0%|          | 0/40000 [00:00<?, ?it/s]"
      ]
     },
     "metadata": {},
     "output_type": "display_data"
    },
    {
     "name": "stdout",
     "output_type": "stream",
     "text": [
      "16\n",
      "128\n",
      "8\n",
      "32\n",
      "64\n",
      "1024\n",
      "512\n",
      "256\n"
     ]
    },
    {
     "data": {
      "application/vnd.jupyter.widget-view+json": {
       "model_id": "10e4b747cd76498eb775dcac4f630c1c",
       "version_major": 2,
       "version_minor": 0
      },
      "text/plain": [
       "  0%|          | 0/40000 [00:00<?, ?it/s]"
      ]
     },
     "metadata": {},
     "output_type": "display_data"
    },
    {
     "name": "stdout",
     "output_type": "stream",
     "text": [
      "64\n",
      "512\n",
      "128\n",
      "8\n",
      "16\n",
      "32\n",
      "256\n",
      "1024\n"
     ]
    },
    {
     "data": {
      "application/vnd.jupyter.widget-view+json": {
       "model_id": "0a3ef2968f06497faf310a3a824f304a",
       "version_major": 2,
       "version_minor": 0
      },
      "text/plain": [
       "  0%|          | 0/40000 [00:00<?, ?it/s]"
      ]
     },
     "metadata": {},
     "output_type": "display_data"
    },
    {
     "name": "stdout",
     "output_type": "stream",
     "text": [
      "128\n",
      "1024\n",
      "8\n",
      "16\n",
      "64\n",
      "32\n",
      "512\n",
      "256\n"
     ]
    },
    {
     "data": {
      "application/vnd.jupyter.widget-view+json": {
       "model_id": "3fb27f9f5f5b4f9a8fe916cff550ad7a",
       "version_major": 2,
       "version_minor": 0
      },
      "text/plain": [
       "  0%|          | 0/40000 [00:00<?, ?it/s]"
      ]
     },
     "metadata": {},
     "output_type": "display_data"
    },
    {
     "name": "stdout",
     "output_type": "stream",
     "text": [
      "64\n",
      "8\n",
      "16\n",
      "32\n",
      "128\n",
      "512\n",
      "256\n",
      "1024\n"
     ]
    },
    {
     "data": {
      "application/vnd.jupyter.widget-view+json": {
       "model_id": "1bd1775cbc8a4fca88d9f1b6de019f1f",
       "version_major": 2,
       "version_minor": 0
      },
      "text/plain": [
       "  0%|          | 0/40000 [00:00<?, ?it/s]"
      ]
     },
     "metadata": {},
     "output_type": "display_data"
    },
    {
     "name": "stdout",
     "output_type": "stream",
     "text": [
      "128\n",
      "1024\n",
      "8\n",
      "16\n",
      "64\n",
      "512\n",
      "32\n",
      "256\n"
     ]
    },
    {
     "data": {
      "application/vnd.jupyter.widget-view+json": {
       "model_id": "5704988d34a54969b18676f8abb26adf",
       "version_major": 2,
       "version_minor": 0
      },
      "text/plain": [
       "  0%|          | 0/40000 [00:00<?, ?it/s]"
      ]
     },
     "metadata": {},
     "output_type": "display_data"
    },
    {
     "name": "stdout",
     "output_type": "stream",
     "text": [
      "64\n",
      "8\n",
      "16\n",
      "32\n",
      "128\n",
      "1024\n",
      "256\n",
      "512\n"
     ]
    },
    {
     "data": {
      "application/vnd.jupyter.widget-view+json": {
       "model_id": "fe21f1488a9e46d3aad9f62100b0da56",
       "version_major": 2,
       "version_minor": 0
      },
      "text/plain": [
       "  0%|          | 0/40000 [00:00<?, ?it/s]"
      ]
     },
     "metadata": {},
     "output_type": "display_data"
    },
    {
     "name": "stdout",
     "output_type": "stream",
     "text": [
      "128\n",
      "8\n",
      "16\n",
      "32\n",
      "64\n",
      "1024\n",
      "512\n",
      "256\n"
     ]
    },
    {
     "data": {
      "application/vnd.jupyter.widget-view+json": {
       "model_id": "6a58562eebaf4f11a6fb4449573fbff2",
       "version_major": 2,
       "version_minor": 0
      },
      "text/plain": [
       "  0%|          | 0/40000 [00:00<?, ?it/s]"
      ]
     },
     "metadata": {},
     "output_type": "display_data"
    },
    {
     "name": "stdout",
     "output_type": "stream",
     "text": [
      "64\n",
      "128\n",
      "8\n",
      "16\n",
      "32\n",
      "512\n",
      "256\n",
      "1024\n"
     ]
    },
    {
     "data": {
      "application/vnd.jupyter.widget-view+json": {
       "model_id": "24a2d5cd79474ba9bbab14a41b5a6289",
       "version_major": 2,
       "version_minor": 0
      },
      "text/plain": [
       "  0%|          | 0/40000 [00:00<?, ?it/s]"
      ]
     },
     "metadata": {},
     "output_type": "display_data"
    },
    {
     "name": "stdout",
     "output_type": "stream",
     "text": [
      "1024\n",
      "128\n",
      "8\n",
      "16\n",
      "64\n",
      "256\n",
      "32\n",
      "512\n"
     ]
    },
    {
     "data": {
      "application/vnd.jupyter.widget-view+json": {
       "model_id": "f2e4f443efa84d8d9a84a298fc2a31db",
       "version_major": 2,
       "version_minor": 0
      },
      "text/plain": [
       "  0%|          | 0/40000 [00:00<?, ?it/s]"
      ]
     },
     "metadata": {},
     "output_type": "display_data"
    },
    {
     "name": "stdout",
     "output_type": "stream",
     "text": [
      "128\n",
      "1024\n",
      "8\n",
      "16\n",
      "32\n",
      "64\n",
      "256\n",
      "512\n"
     ]
    },
    {
     "data": {
      "application/vnd.jupyter.widget-view+json": {
       "model_id": "48a33371a3ad432da2c0d3bc2e00dbd8",
       "version_major": 2,
       "version_minor": 0
      },
      "text/plain": [
       "  0%|          | 0/40000 [00:00<?, ?it/s]"
      ]
     },
     "metadata": {},
     "output_type": "display_data"
    },
    {
     "name": "stdout",
     "output_type": "stream",
     "text": [
      "128\n",
      "8\n",
      "16\n",
      "32\n",
      "64\n",
      "1024\n",
      "256\n",
      "512\n"
     ]
    },
    {
     "data": {
      "application/vnd.jupyter.widget-view+json": {
       "model_id": "2a8e7aaf3a3f4e47bc9dee9cd7bde409",
       "version_major": 2,
       "version_minor": 0
      },
      "text/plain": [
       "  0%|          | 0/40000 [00:00<?, ?it/s]"
      ]
     },
     "metadata": {},
     "output_type": "display_data"
    },
    {
     "name": "stdout",
     "output_type": "stream",
     "text": [
      "128\n",
      "16\n",
      "8\n",
      "64\n",
      "1024\n",
      "32\n",
      "256\n",
      "512\n"
     ]
    },
    {
     "data": {
      "application/vnd.jupyter.widget-view+json": {
       "model_id": "a91592d3999b4151b5a20c5b2ef429f1",
       "version_major": 2,
       "version_minor": 0
      },
      "text/plain": [
       "  0%|          | 0/40000 [00:00<?, ?it/s]"
      ]
     },
     "metadata": {},
     "output_type": "display_data"
    },
    {
     "name": "stdout",
     "output_type": "stream",
     "text": [
      "64\n",
      "8\n",
      "16\n",
      "32\n",
      "1024\n",
      "256\n",
      "512\n",
      "128\n"
     ]
    },
    {
     "data": {
      "application/vnd.jupyter.widget-view+json": {
       "model_id": "978369be215d418f965491c647d8ee07",
       "version_major": 2,
       "version_minor": 0
      },
      "text/plain": [
       "  0%|          | 0/40000 [00:00<?, ?it/s]"
      ]
     },
     "metadata": {},
     "output_type": "display_data"
    },
    {
     "name": "stdout",
     "output_type": "stream",
     "text": [
      "64\n",
      "128\n",
      "8\n",
      "16\n",
      "32\n",
      "1024\n",
      "256\n",
      "512\n"
     ]
    },
    {
     "data": {
      "application/vnd.jupyter.widget-view+json": {
       "model_id": "12748793db974c3e82072cc3182b0eb4",
       "version_major": 2,
       "version_minor": 0
      },
      "text/plain": [
       "  0%|          | 0/40000 [00:00<?, ?it/s]"
      ]
     },
     "metadata": {},
     "output_type": "display_data"
    },
    {
     "name": "stdout",
     "output_type": "stream",
     "text": [
      "64\n",
      "128\n",
      "8\n",
      "16\n",
      "32\n",
      "256\n",
      "1024\n",
      "512\n"
     ]
    },
    {
     "data": {
      "application/vnd.jupyter.widget-view+json": {
       "model_id": "5a403d823cf5454e86c8cc0ae35c2a02",
       "version_major": 2,
       "version_minor": 0
      },
      "text/plain": [
       "  0%|          | 0/40000 [00:00<?, ?it/s]"
      ]
     },
     "metadata": {},
     "output_type": "display_data"
    },
    {
     "name": "stdout",
     "output_type": "stream",
     "text": [
      "512\n",
      "128\n",
      "8\n",
      "16\n",
      "64\n",
      "32\n",
      "1024\n",
      "256\n"
     ]
    },
    {
     "data": {
      "application/vnd.jupyter.widget-view+json": {
       "model_id": "cb387c2e718e48d5addb6037c581778f",
       "version_major": 2,
       "version_minor": 0
      },
      "text/plain": [
       "  0%|          | 0/40000 [00:00<?, ?it/s]"
      ]
     },
     "metadata": {},
     "output_type": "display_data"
    },
    {
     "name": "stdout",
     "output_type": "stream",
     "text": [
      "16\n",
      "64\n",
      "8\n",
      "1024\n",
      "32\n",
      "512\n",
      "128\n",
      "256\n"
     ]
    },
    {
     "data": {
      "application/vnd.jupyter.widget-view+json": {
       "model_id": "ca70475e665a47a8b9aa4cdefc79a748",
       "version_major": 2,
       "version_minor": 0
      },
      "text/plain": [
       "  0%|          | 0/40000 [00:00<?, ?it/s]"
      ]
     },
     "metadata": {},
     "output_type": "display_data"
    },
    {
     "name": "stdout",
     "output_type": "stream",
     "text": [
      "64\n",
      "16\n",
      "8\n",
      "32\n",
      "1024\n",
      "128\n",
      "256\n",
      "8\n"
     ]
    },
    {
     "data": {
      "application/vnd.jupyter.widget-view+json": {
       "model_id": "12bd39cf1a3a46a2ab72274816fc3f1b",
       "version_major": 2,
       "version_minor": 0
      },
      "text/plain": [
       "  0%|          | 0/40000 [00:00<?, ?it/s]"
      ]
     },
     "metadata": {},
     "output_type": "display_data"
    },
    {
     "name": "stdout",
     "output_type": "stream",
     "text": [
      "64\n",
      "8\n",
      "16\n",
      "32\n",
      "2048\n",
      "128\n",
      "1024\n",
      "512\n",
      "256\n"
     ]
    },
    {
     "data": {
      "application/vnd.jupyter.widget-view+json": {
       "model_id": "18f8e415f089419880f14cafe837ea05",
       "version_major": 2,
       "version_minor": 0
      },
      "text/plain": [
       "  0%|          | 0/40000 [00:00<?, ?it/s]"
      ]
     },
     "metadata": {},
     "output_type": "display_data"
    },
    {
     "name": "stdout",
     "output_type": "stream",
     "text": [
      "128\n",
      "16\n",
      "8\n",
      "32\n",
      "64\n",
      "2048\n",
      "1024\n",
      "256\n",
      "512\n"
     ]
    },
    {
     "data": {
      "application/vnd.jupyter.widget-view+json": {
       "model_id": "ce9fe7135df54c5f95a1b5dae2e83da4",
       "version_major": 2,
       "version_minor": 0
      },
      "text/plain": [
       "  0%|          | 0/40000 [00:00<?, ?it/s]"
      ]
     },
     "metadata": {},
     "output_type": "display_data"
    },
    {
     "name": "stdout",
     "output_type": "stream",
     "text": [
      "64\n",
      "16\n",
      "8\n",
      "32\n",
      "128\n",
      "1024\n",
      "256\n",
      "2048\n"
     ]
    },
    {
     "data": {
      "application/vnd.jupyter.widget-view+json": {
       "model_id": "49ebaff8db104b1ca6f409da904f1a0c",
       "version_major": 2,
       "version_minor": 0
      },
      "text/plain": [
       "  0%|          | 0/40000 [00:00<?, ?it/s]"
      ]
     },
     "metadata": {},
     "output_type": "display_data"
    },
    {
     "name": "stdout",
     "output_type": "stream",
     "text": [
      "128\n",
      "8\n",
      "16\n",
      "32\n",
      "64\n",
      "2048\n",
      "256\n",
      "512\n",
      "1024\n"
     ]
    },
    {
     "data": {
      "application/vnd.jupyter.widget-view+json": {
       "model_id": "927e8d506f9741588ec5c055dd4ed25b",
       "version_major": 2,
       "version_minor": 0
      },
      "text/plain": [
       "  0%|          | 0/40000 [00:00<?, ?it/s]"
      ]
     },
     "metadata": {},
     "output_type": "display_data"
    },
    {
     "name": "stdout",
     "output_type": "stream",
     "text": [
      "16\n",
      "128\n",
      "8\n",
      "32\n",
      "64\n",
      "2048\n",
      "512\n",
      "256\n"
     ]
    },
    {
     "data": {
      "application/vnd.jupyter.widget-view+json": {
       "model_id": "84324755a7d645d79ac1876420542b47",
       "version_major": 2,
       "version_minor": 0
      },
      "text/plain": [
       "  0%|          | 0/40000 [00:00<?, ?it/s]"
      ]
     },
     "metadata": {},
     "output_type": "display_data"
    },
    {
     "name": "stdout",
     "output_type": "stream",
     "text": [
      "32\n",
      "16\n",
      "8\n",
      "128\n",
      "2048\n",
      "256\n",
      "64\n",
      "1024\n",
      "512\n"
     ]
    },
    {
     "data": {
      "application/vnd.jupyter.widget-view+json": {
       "model_id": "2af845dcfdfa434190d8c48fac55d165",
       "version_major": 2,
       "version_minor": 0
      },
      "text/plain": [
       "  0%|          | 0/40000 [00:00<?, ?it/s]"
      ]
     },
     "metadata": {},
     "output_type": "display_data"
    },
    {
     "name": "stdout",
     "output_type": "stream",
     "text": [
      "64\n",
      "8\n",
      "16\n",
      "32\n",
      "128\n",
      "2048\n",
      "256\n",
      "512\n",
      "1024\n"
     ]
    },
    {
     "data": {
      "application/vnd.jupyter.widget-view+json": {
       "model_id": "e8cd12b0cd45428bbdb49e6a4f949c0e",
       "version_major": 2,
       "version_minor": 0
      },
      "text/plain": [
       "  0%|          | 0/40000 [00:00<?, ?it/s]"
      ]
     },
     "metadata": {},
     "output_type": "display_data"
    },
    {
     "name": "stdout",
     "output_type": "stream",
     "text": [
      "2048\n",
      "128\n",
      "16\n",
      "8\n",
      "64\n",
      "32\n",
      "256\n",
      "1024\n",
      "512\n"
     ]
    },
    {
     "data": {
      "application/vnd.jupyter.widget-view+json": {
       "model_id": "131cbf1c938446c3bc4c626ba343e7ed",
       "version_major": 2,
       "version_minor": 0
      },
      "text/plain": [
       "  0%|          | 0/40000 [00:00<?, ?it/s]"
      ]
     },
     "metadata": {},
     "output_type": "display_data"
    },
    {
     "name": "stdout",
     "output_type": "stream",
     "text": [
      "128\n",
      "16\n",
      "8\n",
      "32\n",
      "64\n",
      "256\n",
      "2048\n",
      "1024\n",
      "512\n"
     ]
    },
    {
     "data": {
      "application/vnd.jupyter.widget-view+json": {
       "model_id": "1e7b5e1c29564127861506e4a15d0848",
       "version_major": 2,
       "version_minor": 0
      },
      "text/plain": [
       "  0%|          | 0/40000 [00:00<?, ?it/s]"
      ]
     },
     "metadata": {},
     "output_type": "display_data"
    },
    {
     "name": "stdout",
     "output_type": "stream",
     "text": [
      "128\n",
      "8\n",
      "16\n",
      "32\n",
      "64\n",
      "2048\n",
      "1024\n",
      "512\n",
      "256\n"
     ]
    },
    {
     "data": {
      "application/vnd.jupyter.widget-view+json": {
       "model_id": "2cd8602838e647a1ba54774e64aa04ba",
       "version_major": 2,
       "version_minor": 0
      },
      "text/plain": [
       "  0%|          | 0/40000 [00:00<?, ?it/s]"
      ]
     },
     "metadata": {},
     "output_type": "display_data"
    },
    {
     "name": "stdout",
     "output_type": "stream",
     "text": [
      "64\n",
      "128\n",
      "8\n",
      "16\n",
      "32\n",
      "512\n",
      "256\n",
      "2048\n"
     ]
    },
    {
     "data": {
      "application/vnd.jupyter.widget-view+json": {
       "model_id": "2cfd70d386144be0b72ed73370aed2d6",
       "version_major": 2,
       "version_minor": 0
      },
      "text/plain": [
       "  0%|          | 0/40000 [00:00<?, ?it/s]"
      ]
     },
     "metadata": {},
     "output_type": "display_data"
    },
    {
     "name": "stdout",
     "output_type": "stream",
     "text": [
      "16\n",
      "64\n",
      "8\n",
      "32\n",
      "2048\n",
      "1024\n",
      "256\n",
      "128\n",
      "512\n"
     ]
    },
    {
     "data": {
      "application/vnd.jupyter.widget-view+json": {
       "model_id": "6b897b4560f942928088efe1b4fe1d46",
       "version_major": 2,
       "version_minor": 0
      },
      "text/plain": [
       "  0%|          | 0/40000 [00:00<?, ?it/s]"
      ]
     },
     "metadata": {},
     "output_type": "display_data"
    },
    {
     "name": "stdout",
     "output_type": "stream",
     "text": [
      "16\n",
      "128\n",
      "8\n",
      "32\n",
      "64\n",
      "2048\n",
      "512\n",
      "1024\n",
      "256\n"
     ]
    },
    {
     "data": {
      "application/vnd.jupyter.widget-view+json": {
       "model_id": "981df6e92b104cc5b656146702d1cdf8",
       "version_major": 2,
       "version_minor": 0
      },
      "text/plain": [
       "  0%|          | 0/40000 [00:00<?, ?it/s]"
      ]
     },
     "metadata": {},
     "output_type": "display_data"
    },
    {
     "name": "stdout",
     "output_type": "stream",
     "text": [
      "64\n",
      "512\n",
      "128\n",
      "8\n",
      "16\n",
      "32\n",
      "256\n",
      "2048\n"
     ]
    },
    {
     "data": {
      "application/vnd.jupyter.widget-view+json": {
       "model_id": "5daac4413ece4b24848d89ee50201550",
       "version_major": 2,
       "version_minor": 0
      },
      "text/plain": [
       "  0%|          | 0/40000 [00:00<?, ?it/s]"
      ]
     },
     "metadata": {},
     "output_type": "display_data"
    },
    {
     "name": "stdout",
     "output_type": "stream",
     "text": [
      "128\n",
      "2048\n",
      "8\n",
      "16\n",
      "64\n",
      "32\n",
      "512\n",
      "1024\n",
      "256\n"
     ]
    },
    {
     "data": {
      "application/vnd.jupyter.widget-view+json": {
       "model_id": "82738eaecdca450b977a282da6b0ffae",
       "version_major": 2,
       "version_minor": 0
      },
      "text/plain": [
       "  0%|          | 0/40000 [00:00<?, ?it/s]"
      ]
     },
     "metadata": {},
     "output_type": "display_data"
    },
    {
     "name": "stdout",
     "output_type": "stream",
     "text": [
      "64\n",
      "8\n",
      "16\n",
      "32\n",
      "128\n",
      "512\n",
      "256\n",
      "1024\n",
      "2048\n"
     ]
    },
    {
     "data": {
      "application/vnd.jupyter.widget-view+json": {
       "model_id": "eafa451b5f2b43e7988b992985646caa",
       "version_major": 2,
       "version_minor": 0
      },
      "text/plain": [
       "  0%|          | 0/40000 [00:00<?, ?it/s]"
      ]
     },
     "metadata": {},
     "output_type": "display_data"
    },
    {
     "name": "stdout",
     "output_type": "stream",
     "text": [
      "128\n",
      "2048\n",
      "8\n",
      "16\n",
      "64\n",
      "1024\n",
      "512\n",
      "32\n",
      "256\n"
     ]
    },
    {
     "data": {
      "application/vnd.jupyter.widget-view+json": {
       "model_id": "b967dae94cdd41588b9c2f14a57e3565",
       "version_major": 2,
       "version_minor": 0
      },
      "text/plain": [
       "  0%|          | 0/40000 [00:00<?, ?it/s]"
      ]
     },
     "metadata": {},
     "output_type": "display_data"
    },
    {
     "name": "stdout",
     "output_type": "stream",
     "text": [
      "64\n",
      "8\n",
      "16\n",
      "32\n",
      "128\n",
      "2048\n",
      "1024\n",
      "256\n",
      "512\n"
     ]
    },
    {
     "data": {
      "application/vnd.jupyter.widget-view+json": {
       "model_id": "ce3bbe50f65741cc9d22a8895400f91e",
       "version_major": 2,
       "version_minor": 0
      },
      "text/plain": [
       "  0%|          | 0/40000 [00:00<?, ?it/s]"
      ]
     },
     "metadata": {},
     "output_type": "display_data"
    },
    {
     "name": "stdout",
     "output_type": "stream",
     "text": [
      "128\n",
      "8\n",
      "16\n",
      "32\n",
      "64\n",
      "2048\n",
      "1024\n",
      "512\n",
      "256\n"
     ]
    },
    {
     "data": {
      "application/vnd.jupyter.widget-view+json": {
       "model_id": "0d116ec5e56a4ff28ce6bc8c980c0a9d",
       "version_major": 2,
       "version_minor": 0
      },
      "text/plain": [
       "  0%|          | 0/40000 [00:00<?, ?it/s]"
      ]
     },
     "metadata": {},
     "output_type": "display_data"
    },
    {
     "name": "stdout",
     "output_type": "stream",
     "text": [
      "64\n",
      "128\n",
      "8\n",
      "16\n",
      "32\n",
      "512\n",
      "256\n",
      "2048\n"
     ]
    },
    {
     "data": {
      "application/vnd.jupyter.widget-view+json": {
       "model_id": "f6ee5a62191c4a76bc1c326148fb39db",
       "version_major": 2,
       "version_minor": 0
      },
      "text/plain": [
       "  0%|          | 0/40000 [00:00<?, ?it/s]"
      ]
     },
     "metadata": {},
     "output_type": "display_data"
    },
    {
     "name": "stdout",
     "output_type": "stream",
     "text": [
      "2048\n",
      "128\n",
      "8\n",
      "16\n",
      "64\n",
      "256\n",
      "1024\n",
      "32\n",
      "512\n"
     ]
    },
    {
     "data": {
      "application/vnd.jupyter.widget-view+json": {
       "model_id": "76e8d46977734aa69aaf797925054f8c",
       "version_major": 2,
       "version_minor": 0
      },
      "text/plain": [
       "  0%|          | 0/40000 [00:00<?, ?it/s]"
      ]
     },
     "metadata": {},
     "output_type": "display_data"
    },
    {
     "name": "stdout",
     "output_type": "stream",
     "text": [
      "128\n",
      "1024\n",
      "8\n",
      "16\n",
      "32\n",
      "64\n",
      "2048\n",
      "256\n",
      "512\n"
     ]
    },
    {
     "data": {
      "application/vnd.jupyter.widget-view+json": {
       "model_id": "2accad5cb77f4bf39e14462fd1160d75",
       "version_major": 2,
       "version_minor": 0
      },
      "text/plain": [
       "  0%|          | 0/40000 [00:00<?, ?it/s]"
      ]
     },
     "metadata": {},
     "output_type": "display_data"
    },
    {
     "name": "stdout",
     "output_type": "stream",
     "text": [
      "128\n",
      "8\n",
      "16\n",
      "32\n",
      "64\n",
      "2048\n",
      "1024\n",
      "256\n",
      "512\n"
     ]
    },
    {
     "data": {
      "application/vnd.jupyter.widget-view+json": {
       "model_id": "4269fd2a8cd440c2acadbfe0768b9a1e",
       "version_major": 2,
       "version_minor": 0
      },
      "text/plain": [
       "  0%|          | 0/40000 [00:00<?, ?it/s]"
      ]
     },
     "metadata": {},
     "output_type": "display_data"
    },
    {
     "name": "stdout",
     "output_type": "stream",
     "text": [
      "128\n",
      "16\n",
      "8\n",
      "64\n",
      "1024\n",
      "32\n",
      "256\n",
      "512\n",
      "2048\n"
     ]
    },
    {
     "data": {
      "application/vnd.jupyter.widget-view+json": {
       "model_id": "412829a06a1b478783ec11cf8712daf8",
       "version_major": 2,
       "version_minor": 0
      },
      "text/plain": [
       "  0%|          | 0/40000 [00:00<?, ?it/s]"
      ]
     },
     "metadata": {},
     "output_type": "display_data"
    },
    {
     "name": "stdout",
     "output_type": "stream",
     "text": [
      "64\n",
      "8\n",
      "16\n",
      "32\n",
      "1024\n",
      "2048\n",
      "256\n",
      "512\n",
      "128\n"
     ]
    },
    {
     "data": {
      "application/vnd.jupyter.widget-view+json": {
       "model_id": "c8bf73837c3f4b53b47b75ddab5824b5",
       "version_major": 2,
       "version_minor": 0
      },
      "text/plain": [
       "  0%|          | 0/40000 [00:00<?, ?it/s]"
      ]
     },
     "metadata": {},
     "output_type": "display_data"
    },
    {
     "name": "stdout",
     "output_type": "stream",
     "text": [
      "64\n",
      "128\n",
      "8\n",
      "16\n",
      "32\n",
      "2048\n",
      "1024\n",
      "256\n",
      "512\n"
     ]
    },
    {
     "data": {
      "application/vnd.jupyter.widget-view+json": {
       "model_id": "2e1f5de03a2947458ad176bb7c045678",
       "version_major": 2,
       "version_minor": 0
      },
      "text/plain": [
       "  0%|          | 0/40000 [00:00<?, ?it/s]"
      ]
     },
     "metadata": {},
     "output_type": "display_data"
    },
    {
     "name": "stdout",
     "output_type": "stream",
     "text": [
      "64\n",
      "128\n",
      "8\n",
      "16\n",
      "32\n",
      "256\n",
      "1024\n",
      "2048\n",
      "512\n"
     ]
    },
    {
     "data": {
      "application/vnd.jupyter.widget-view+json": {
       "model_id": "99944c39e99441989c6760f475ff68c7",
       "version_major": 2,
       "version_minor": 0
      },
      "text/plain": [
       "  0%|          | 0/40000 [00:00<?, ?it/s]"
      ]
     },
     "metadata": {},
     "output_type": "display_data"
    },
    {
     "name": "stdout",
     "output_type": "stream",
     "text": [
      "512\n",
      "128\n",
      "8\n",
      "16\n",
      "64\n",
      "32\n",
      "2048\n",
      "1024\n",
      "256\n"
     ]
    },
    {
     "data": {
      "application/vnd.jupyter.widget-view+json": {
       "model_id": "f7f9b5975c794c1f94e0f10301aab856",
       "version_major": 2,
       "version_minor": 0
      },
      "text/plain": [
       "  0%|          | 0/40000 [00:00<?, ?it/s]"
      ]
     },
     "metadata": {},
     "output_type": "display_data"
    },
    {
     "name": "stdout",
     "output_type": "stream",
     "text": [
      "16\n",
      "64\n",
      "8\n",
      "1024\n",
      "32\n",
      "512\n",
      "128\n",
      "2048\n",
      "256\n"
     ]
    },
    {
     "data": {
      "application/vnd.jupyter.widget-view+json": {
       "model_id": "eadf9c3edd7c4f4bb45510869ce152b2",
       "version_major": 2,
       "version_minor": 0
      },
      "text/plain": [
       "  0%|          | 0/40000 [00:00<?, ?it/s]"
      ]
     },
     "metadata": {},
     "output_type": "display_data"
    },
    {
     "name": "stdout",
     "output_type": "stream",
     "text": [
      "64\n",
      "16\n",
      "8\n",
      "32\n",
      "2048\n",
      "128\n",
      "256\n",
      "1024\n"
     ]
    }
   ],
   "source": [
    "dddd=[[] for l in range(8)]\n",
    "cccc=[[] for l in range(8)]\n",
    "lol=[[] for l in range(8)]\n",
    "for l in range(8):\n",
    "    print(l+1)\n",
    "    for foo in range(N_seeds):\n",
    "        gt = torch.load(\"ground_truth/gt_dataset=V1.pth\")[sel[foo]].cpu()\n",
    "        softmax=torch.load(\"softmax/softmax_sh=False_mh=True_ff=False_feat_dim=2048_dataset=V1.pth\")[:, sel[foo], :].cpu()\n",
    "        confidence_, predictions_ = torch.max(softmax, dim=-1)\n",
    "        greedy_thrsh = ttt[foo]\n",
    "\n",
    "        dim_all, cascade_all=[], []\n",
    "        for max_cascading in range(l+1, l+2):\n",
    "            acc=0\n",
    "            model=[]\n",
    "            for i in tqdm(range(predictions_.shape[-1])):\n",
    "                foo=True\n",
    "                for j in range(max_cascading):\n",
    "                    if confidence_[j, i] > greedy_thrsh[j]:\n",
    "                        j_ = j; foo=False\n",
    "                        break\n",
    "                if foo:\n",
    "                    j_=max_cascading\n",
    "                model.append(j_)\n",
    "                acc+=(predictions_[j_, i]==gt[i]).sum()   \n",
    "            counter=collections.Counter(model)\n",
    "            lol[l].append(counter)\n",
    "            probs = {2**(j+3): counter[j]/len(gt) for j in counter.keys()}\n",
    "            dim=0\n",
    "            for k in probs.keys():\n",
    "                print(k)\n",
    "                dim+= k*probs[k]\n",
    "\n",
    "#             print(f\"Expected Dimensionality with Greedy Cascade {dim} and corresponding performance {(acc/len(gt)).item()}\")\n",
    "            dim_all.append(dim)\n",
    "            cascade_all.append((acc/len(gt)).item())\n",
    "        dddd[l].append(dim_all)\n",
    "        cccc[l].append(cascade_all)"
   ]
  },
  {
   "cell_type": "code",
   "execution_count": 11,
   "id": "e6bdf28a",
   "metadata": {},
   "outputs": [],
   "source": [
    "dddd = np.asarray(dddd)\n",
    "cccc = np.asarray(cccc)"
   ]
  },
  {
   "cell_type": "code",
   "execution_count": 12,
   "id": "65ec54e9",
   "metadata": {},
   "outputs": [],
   "source": [
    "dddd= dddd.squeeze()"
   ]
  },
  {
   "cell_type": "code",
   "execution_count": 13,
   "id": "e26cc2e7",
   "metadata": {},
   "outputs": [],
   "source": [
    "cccc= cccc.squeeze()"
   ]
  },
  {
   "cell_type": "markdown",
   "id": "19efe3a7",
   "metadata": {},
   "source": [
    "### EXPECTED DIMENSIONS AND STD"
   ]
  },
  {
   "cell_type": "code",
   "execution_count": 14,
   "id": "9192314a",
   "metadata": {
    "scrolled": true
   },
   "outputs": [
    {
     "name": "stdout",
     "output_type": "stream",
     "text": [
      "[ 13.18502     18.02794     25.73146     35.28671333  45.66122\n",
      "  62.05503333  87.92042    121.67231333]\n",
      "[ 0.72321347  1.60812216  2.80969956  5.28050878  7.60811513 10.94328704\n",
      " 20.18233146 32.94076334]\n"
     ]
    }
   ],
   "source": [
    "print(dddd.mean(axis=-1))\n",
    "print(dddd.std(axis=-1))"
   ]
  },
  {
   "cell_type": "markdown",
   "id": "bd57e60e",
   "metadata": {},
   "source": [
    "### CORRESPONDING PERFORMANCE"
   ]
  },
  {
   "cell_type": "code",
   "execution_count": 15,
   "id": "2c6110c2",
   "metadata": {
    "scrolled": true
   },
   "outputs": [
    {
     "name": "stdout",
     "output_type": "stream",
     "text": [
      "[0.73790917 0.75242666 0.76048249 0.76273834 0.76418666 0.76514667\n",
      " 0.76533666 0.76541667]\n",
      "[0.00103216 0.00091551 0.00139763 0.00170652 0.00188398 0.0019996\n",
      " 0.002036   0.0020418 ]\n"
     ]
    }
   ],
   "source": [
    "print(cccc.mean(axis=-1))\n",
    "print(cccc.std(axis=-1))"
   ]
  },
  {
   "cell_type": "code",
   "execution_count": 16,
   "id": "86bc715d",
   "metadata": {},
   "outputs": [],
   "source": [
    "ttt = np.asarray(ttt) # threshold for different random seeds"
   ]
  },
  {
   "cell_type": "markdown",
   "id": "9dfee5f0",
   "metadata": {},
   "source": [
    "### CORRESPONDING THRESHOLDS"
   ]
  },
  {
   "cell_type": "code",
   "execution_count": 19,
   "id": "2b1f5aff",
   "metadata": {},
   "outputs": [
    {
     "name": "stdout",
     "output_type": "stream",
     "text": [
      "[0.78636364 0.70939394 0.7930303  0.65151515 0.55333333 0.55636364\n",
      " 0.52212121 0.44484848]\n",
      "[0.07305796 0.11164888 0.07465931 0.1491451  0.05973926 0.06952812\n",
      " 0.13982837 0.11729113]\n"
     ]
    }
   ],
   "source": [
    "print(ttt.mean(axis=0))\n",
    "print(ttt.std(axis=0))"
   ]
  },
  {
   "cell_type": "code",
   "execution_count": null,
   "id": "4fa8f04d",
   "metadata": {},
   "outputs": [],
   "source": []
  }
 ],
 "metadata": {
  "kernelspec": {
   "display_name": "Python 3 (ipykernel)",
   "language": "python",
   "name": "python3"
  },
  "language_info": {
   "codemirror_mode": {
    "name": "ipython",
    "version": 3
   },
   "file_extension": ".py",
   "mimetype": "text/x-python",
   "name": "python",
   "nbconvert_exporter": "python",
   "pygments_lexer": "ipython3",
   "version": "3.9.7"
  }
 },
 "nbformat": 4,
 "nbformat_minor": 5
}
